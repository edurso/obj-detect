{
  "nbformat": 4,
  "nbformat_minor": 0,
  "metadata": {
    "colab": {
      "name": "obj-detect.ipynb",
      "provenance": [],
      "authorship_tag": "ABX9TyNzElHsCOa6uRHNArAiqH8b",
      "include_colab_link": true
    },
    "kernelspec": {
      "name": "python3",
      "display_name": "Python 3"
    },
    "language_info": {
      "name": "python"
    },
    "accelerator": "GPU"
  },
  "cells": [
    {
      "cell_type": "markdown",
      "metadata": {
        "id": "view-in-github",
        "colab_type": "text"
      },
      "source": [
        "<a href=\"https://colab.research.google.com/github/edurso/obj-detect/blob/master/obj_detect.ipynb\" target=\"_parent\"><img src=\"https://colab.research.google.com/assets/colab-badge.svg\" alt=\"Open In Colab\"/></a>"
      ]
    },
    {
      "cell_type": "markdown",
      "source": [
        "# TensorFlow Object Detection Model Training Notebook\n",
        "\n",
        "structure of project:\n",
        "\n",
        "```\n",
        "training-demo/\n",
        "├─ annotations/\n",
        "│  └─ label_map.pbtxt\n",
        "├─ exported-models/\n",
        "├─ images/\n",
        "│  ├─ test/\n",
        "│  └─ train/\n",
        "├─ models/\n",
        "│  └─ ${MODEL}/\n",
        "│     └─ pipeline.config\n",
        "├─ pre-trained-models/\n",
        "│  └─ ${MODEL}/\n",
        "```"
      ],
      "metadata": {
        "id": "eWjiCHlcB3sr"
      }
    },
    {
      "cell_type": "markdown",
      "source": [
        "## TensorFlow Object Detection API Installation"
      ],
      "metadata": {
        "id": "2uYaBi7pBPd3"
      }
    },
    {
      "cell_type": "markdown",
      "source": [
        "mount data from google drive"
      ],
      "metadata": {
        "id": "vbVhyMzWnm6s"
      }
    },
    {
      "cell_type": "code",
      "source": [
        "workdir = '/content/workspace/MyDrive/tensorflow/power-port-targeting/'\n",
        "mname = 'ssd_resnet50_v1_fpn_640x640_coco17_tpu-8'\n",
        "from google.colab import drive\n",
        "import os\n",
        "!mkdir -p /content/workspace\n",
        "drive.mount('/content/workspace')"
      ],
      "metadata": {
        "id": "jRvKqfNqm5_Q"
      },
      "execution_count": null,
      "outputs": []
    },
    {
      "cell_type": "markdown",
      "source": [
        "clone tf models repo & utility repo (if not already present)"
      ],
      "metadata": {
        "id": "W7xjZ31ZmIKe"
      }
    },
    {
      "cell_type": "code",
      "execution_count": null,
      "metadata": {
        "id": "fm9GSDiflfYP"
      },
      "outputs": [],
      "source": [
        "import os\n",
        "import pathlib\n",
        "\n",
        "if \"models\" in pathlib.Path.cwd().parts:\n",
        "  while \"models\" in pathlib.Path.cwd().parts:\n",
        "    os.chdir('..')\n",
        "elif not pathlib.Path('models').exists():\n",
        "  !git clone --depth 1 https://github.com/tensorflow/models\n",
        "\n",
        "if \"utils\" in pathlib.Path.cwd().parts:\n",
        "  while \"utils\" in pathlib.Path.cwd().parts:\n",
        "    os.chdir('..')\n",
        "elif not pathlib.Path('utils').exists():\n",
        "  !git clone --depth 1 https://github.com/edurso/obj-detect /content/utils"
      ]
    },
    {
      "cell_type": "markdown",
      "source": [
        "install object_detection package"
      ],
      "metadata": {
        "id": "TR2Swk8pmV9k"
      }
    },
    {
      "cell_type": "code",
      "source": [
        "%%bash\n",
        "\n",
        "# update pip\n",
        "pip install --upgrade pip\n",
        "\n",
        "# check opencv dependency versions\n",
        "pip uninstall opencv-python-headless==4.5.5.62 \n",
        "pip install opencv-python-headless==4.1.2.30\n",
        "\n",
        "# compile protos and install object_detection\n",
        "cd models/research/\n",
        "protoc object_detection/protos/*.proto --python_out=.\n",
        "cp object_detection/packages/tf2/setup.py .\n",
        "python -m pip install . --quiet"
      ],
      "metadata": {
        "id": "zvpp7MU-l_AB"
      },
      "execution_count": null,
      "outputs": []
    },
    {
      "cell_type": "markdown",
      "source": [
        "test installation"
      ],
      "metadata": {
        "id": "eKOZmX3DmZAL"
      }
    },
    {
      "cell_type": "code",
      "source": [
        "!python /content/models/research/object_detection/builders/model_builder_tf2_test.py"
      ],
      "metadata": {
        "id": "zronKfrQmETl"
      },
      "execution_count": null,
      "outputs": []
    },
    {
      "cell_type": "markdown",
      "source": [
        "check tensorflow version"
      ],
      "metadata": {
        "id": "7_R9_tihm698"
      }
    },
    {
      "cell_type": "code",
      "source": [
        "import tensorflow as tf\n",
        "print(tf.__version__)"
      ],
      "metadata": {
        "id": "dGSz44Hgm5xE"
      },
      "execution_count": null,
      "outputs": []
    },
    {
      "cell_type": "markdown",
      "source": [
        "Data Pre-Processing"
      ],
      "metadata": {
        "id": "uO-DCYMhBkBb"
      }
    },
    {
      "cell_type": "markdown",
      "source": [
        "create tfrecords"
      ],
      "metadata": {
        "id": "_55q-DIIoyDA"
      }
    },
    {
      "cell_type": "code",
      "source": [
        "from time import time\n",
        "os.chdir(workdir)\n",
        "start = time()\n",
        "\n",
        "# Generate TFRecord for Training Data\n",
        "!python /content/utils/scripts/preprocessing/generate-tfrecord.py \\\n",
        "    -x images/train \\\n",
        "    -l annotations/label_map.pbtxt \\\n",
        "    -o annotations/train.record\n",
        "\n",
        "# Generate TFRecord for Validation Data\n",
        "!python /content/utils/scripts/preprocessing/generate-tfrecord.py \\\n",
        "    -x images/test \\\n",
        "    -l annotations/label_map.pbtxt \\\n",
        "    -o annotations/test.record\n",
        "\n",
        "print('records generated in {}s'.format(time()-start))"
      ],
      "metadata": {
        "id": "0mWzrWRvm6CB"
      },
      "execution_count": null,
      "outputs": []
    },
    {
      "cell_type": "markdown",
      "source": [
        "## Training"
      ],
      "metadata": {
        "id": "dgDJjXPgBwNS"
      }
    },
    {
      "cell_type": "markdown",
      "source": [
        "start tensroboard monitoring"
      ],
      "metadata": {
        "id": "LNBR8j-Fqrqm"
      }
    },
    {
      "cell_type": "code",
      "source": [
        "os.chdir(workdir)\n",
        "%load_ext tensorboard\n",
        "%tensorboard --logdir=models/{mname}"
      ],
      "metadata": {
        "id": "gk3ho7kmm6KL"
      },
      "execution_count": null,
      "outputs": []
    },
    {
      "cell_type": "markdown",
      "source": [
        "start training job"
      ],
      "metadata": {
        "id": "4NrQz1_fqz6z"
      }
    },
    {
      "cell_type": "code",
      "source": [
        "os.chdir(workdir)\n",
        "!python /content/models/research/object_detection/model_main_tf2.py \\\n",
        "    --include masks \\\n",
        "    --model_dir=models/{mname} \\\n",
        "    --pipeline_config_path=models/{mname}/pipeline.config"
      ],
      "metadata": {
        "id": "Z0Lv7ZTZqv-4"
      },
      "execution_count": null,
      "outputs": []
    },
    {
      "cell_type": "markdown",
      "source": [
        "## Export Trained Model"
      ],
      "metadata": {
        "id": "K2MO5gHKByT_"
      }
    },
    {
      "cell_type": "markdown",
      "source": [
        "export model"
      ],
      "metadata": {
        "id": "ewm9kBLMysEb"
      }
    },
    {
      "cell_type": "code",
      "source": [
        "os.chdir(workdir)\n",
        "!python /tf/models/research/object_detection/exporter_main_v2.py \\\n",
        "    --input_type image_tensor \\\n",
        "    --pipeline_config_path ./models/{model})/pipeline.config \\\n",
        "    --trained_checkpoint_dir ./models/{model}/ \\\n",
        "    --output_directory ./exported-models/trained_model"
      ],
      "metadata": {
        "id": "gMVcanz6q2be"
      },
      "execution_count": null,
      "outputs": []
    }
  ]
}