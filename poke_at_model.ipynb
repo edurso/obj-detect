{
  "nbformat": 4,
  "nbformat_minor": 0,
  "metadata": {
    "colab": {
      "name": "poke_at_model.ipynb",
      "private_outputs": true,
      "provenance": [],
      "authorship_tag": "ABX9TyPvU+GKPVk1cKwplRaNb/dA",
      "include_colab_link": true
    },
    "kernelspec": {
      "name": "python3",
      "display_name": "Python 3"
    },
    "language_info": {
      "name": "python"
    },
    "accelerator": "GPU"
  },
  "cells": [
    {
      "cell_type": "markdown",
      "metadata": {
        "id": "view-in-github",
        "colab_type": "text"
      },
      "source": [
        "<a href=\"https://colab.research.google.com/github/edurso/tfod-wkspc/blob/master/poke_at_model.ipynb\" target=\"_parent\"><img src=\"https://colab.research.google.com/assets/colab-badge.svg\" alt=\"Open In Colab\"/></a>"
      ]
    },
    {
      "cell_type": "code",
      "source": [
        "!mkdir -p /tf/data/\n",
        "from google.colab import drive\n",
        "drive.mount('/tf/data')"
      ],
      "metadata": {
        "id": "jnDZ3EK-sNSR"
      },
      "execution_count": null,
      "outputs": []
    },
    {
      "cell_type": "code",
      "execution_count": null,
      "metadata": {
        "id": "xr_Ro7PPrO-d"
      },
      "outputs": [],
      "source": [
        "import tensorflow as tf\n",
        "print(tf.__version__)\n",
        "\n",
        "MODEL = '/tf/data/MyDrive/tensorflow/power-port-targeting/exported-models/trained_model/saved_model'"
      ]
    },
    {
      "cell_type": "code",
      "source": [
        "from tensorflow.saved_model import load\n",
        "model = load(MODEL)\n",
        "model"
      ],
      "metadata": {
        "id": "txAJ-OTNraPI"
      },
      "execution_count": null,
      "outputs": []
    },
    {
      "cell_type": "code",
      "source": [
        "print(list(model.signatures.keys()))"
      ],
      "metadata": {
        "id": "aqZeuuBZrzaM"
      },
      "execution_count": null,
      "outputs": []
    },
    {
      "cell_type": "code",
      "source": [
        "infer = model.signatures['serving_default']\n",
        "print('inputs: {}\\noutputs: {}'.format(infer.inputs, infer.outputs))"
      ],
      "metadata": {
        "id": "zgboup3DtSNw"
      },
      "execution_count": null,
      "outputs": []
    },
    {
      "cell_type": "code",
      "source": [
        "!saved_model_cli show --all --dir /tf/data/MyDrive/tensorflow/power-port-targeting/exported-models/trained_model/saved_model"
      ],
      "metadata": {
        "id": "93lFv6fDwusB"
      },
      "execution_count": null,
      "outputs": []
    },
    {
      "cell_type": "code",
      "source": [
        "from matplotlib import pyplot as plt\n",
        "import numpy as np\n",
        "import cv2 as cv\n",
        "%matplotlib inline"
      ],
      "metadata": {
        "id": "GUAEl-tgto7_"
      },
      "execution_count": null,
      "outputs": []
    },
    {
      "cell_type": "code",
      "source": [
        "img=cv.imread('/tf/data/MyDrive/tensorflow/power-port-targeting/images/test/frame-321.jpg')\n",
        "x=np.array(img)\n",
        "plt.imshow(x)"
      ],
      "metadata": {
        "id": "rmlawZf1vIHY"
      },
      "execution_count": null,
      "outputs": []
    },
    {
      "cell_type": "code",
      "source": [
        "def extract_tensors(signature_def, graph):\n",
        "    output = dict()\n",
        "    for key in signature_def:\n",
        "        value = signature_def[key]\n",
        "        if isinstance(value, tf.TensorInfo):\n",
        "            output[key] = graph.get_tensor_by_name(value.name)\n",
        "    return output\n",
        "\n",
        "def extract_tags(signature_def, graph):\n",
        "    output = dict()\n",
        "    for key in signature_def:\n",
        "        output[key] = dict()\n",
        "        output[key]['inputs'] = extract_tensors(\n",
        "            signature_def[key].inputs, graph)\n",
        "        output[key]['outputs'] = extract_tensors(\n",
        "            signature_def[key].outputs, graph)\n",
        "    return output\n",
        "\n",
        "with tf.Session(graph=tf.Graph()) as session:\n",
        "    serve = tf.saved_model.load(session, tags=['serve'], export_dir=MODEL)\n",
        "    tags = extract_tags(serve.signature_def, session.graph)\n",
        "    model = tags['serving_default']\n",
        "    print(model(img))"
      ],
      "metadata": {
        "id": "IP5JTHKhvWvm"
      },
      "execution_count": null,
      "outputs": []
    },
    {
      "cell_type": "code",
      "source": [
        ""
      ],
      "metadata": {
        "id": "1MSRfAv7wV-O"
      },
      "execution_count": null,
      "outputs": []
    }
  ]
}