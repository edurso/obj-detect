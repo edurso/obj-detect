{
  "cells": [
    {
      "cell_type": "markdown",
      "metadata": {
        "id": "view-in-github",
        "colab_type": "text"
      },
      "source": [
        "<a href=\"https://colab.research.google.com/github/edurso/obj-detect/blob/master/notebooks/obj_detect.ipynb\" target=\"_parent\"><img src=\"https://colab.research.google.com/assets/colab-badge.svg\" alt=\"Open In Colab\"/></a>"
      ]
    },
    {
      "cell_type": "markdown",
      "metadata": {
        "id": "eWjiCHlcB3sr"
      },
      "source": [
        "# TensorFlow Object Detection Model Training Notebook\n",
        "\n",
        "structure of project:\n",
        "\n",
        "```\n",
        "training-demo/\n",
        "├─ annotations/\n",
        "│  └─ label_map.pbtxt\n",
        "├─ exported-models/\n",
        "├─ images/\n",
        "│  ├─ test/\n",
        "│  └─ train/\n",
        "├─ models/\n",
        "│  └─ ${MODEL}/\n",
        "│     └─ pipeline.config\n",
        "└─ pre-trained-models/\n",
        "   └─ ${MODEL}/\n",
        "```\n",
        "\n",
        "where `${MODEL}` is a model from the [object detection zoo](https://github.com/tensorflow/models/blob/master/research/object_detection/g3doc/tf2_detection_zoo.md)"
      ]
    },
    {
      "cell_type": "markdown",
      "metadata": {
        "id": "2uYaBi7pBPd3"
      },
      "source": [
        "## TensorFlow Object Detection API Installation"
      ]
    },
    {
      "cell_type": "markdown",
      "metadata": {
        "id": "vbVhyMzWnm6s"
      },
      "source": [
        "mount data from google drive"
      ]
    },
    {
      "cell_type": "code",
      "execution_count": 1,
      "metadata": {
        "id": "jRvKqfNqm5_Q",
        "outputId": "05207630-23db-414c-9ee5-cf131e5efc29",
        "colab": {
          "base_uri": "https://localhost:8080/"
        }
      },
      "outputs": [
        {
          "output_type": "stream",
          "name": "stdout",
          "text": [
            "Mounted at /content/workspace\n"
          ]
        }
      ],
      "source": [
        "workdir = '/content/workspace/MyDrive/tensorflow/power-port-targeting/'\n",
        "mname = 'ssd_resnet50_v1_fpn_640x640_coco17_tpu-8'\n",
        "from google.colab import drive\n",
        "import os\n",
        "!mkdir -p /content/workspace\n",
        "drive.mount('/content/workspace')"
      ]
    },
    {
      "cell_type": "markdown",
      "metadata": {
        "id": "W7xjZ31ZmIKe"
      },
      "source": [
        "clone tf models repo & utility repo (if not already present)"
      ]
    },
    {
      "cell_type": "code",
      "execution_count": 2,
      "metadata": {
        "id": "fm9GSDiflfYP",
        "outputId": "ea8d2ddf-ae09-4214-d78c-820d08af0795",
        "colab": {
          "base_uri": "https://localhost:8080/"
        }
      },
      "outputs": [
        {
          "output_type": "stream",
          "name": "stdout",
          "text": [
            "Cloning into 'models'...\n",
            "remote: Enumerating objects: 3344, done.\u001b[K\n",
            "remote: Counting objects: 100% (3344/3344), done.\u001b[K\n",
            "remote: Compressing objects: 100% (2780/2780), done.\u001b[K\n",
            "remote: Total 3344 (delta 882), reused 1391 (delta 513), pack-reused 0\u001b[K\n",
            "Receiving objects: 100% (3344/3344), 34.34 MiB | 26.18 MiB/s, done.\n",
            "Resolving deltas: 100% (882/882), done.\n",
            "Cloning into '/content/utils'...\n",
            "remote: Enumerating objects: 23, done.\u001b[K\n",
            "remote: Counting objects: 100% (23/23), done.\u001b[K\n",
            "remote: Compressing objects: 100% (20/20), done.\u001b[K\n",
            "remote: Total 23 (delta 0), reused 15 (delta 0), pack-reused 0\u001b[K\n",
            "Unpacking objects: 100% (23/23), done.\n"
          ]
        }
      ],
      "source": [
        "import os\n",
        "import pathlib\n",
        "\n",
        "if \"models\" in pathlib.Path.cwd().parts:\n",
        "  while \"models\" in pathlib.Path.cwd().parts:\n",
        "    os.chdir('..')\n",
        "elif not pathlib.Path('models').exists():\n",
        "  !git clone --depth 1 https://github.com/tensorflow/models\n",
        "\n",
        "if \"utils\" in pathlib.Path.cwd().parts:\n",
        "  while \"utils\" in pathlib.Path.cwd().parts:\n",
        "    os.chdir('..')\n",
        "elif not pathlib.Path('utils').exists():\n",
        "  !git clone --depth 1 https://github.com/edurso/obj-detect /content/utils"
      ]
    },
    {
      "cell_type": "markdown",
      "metadata": {
        "id": "TR2Swk8pmV9k"
      },
      "source": [
        "install object_detection package"
      ]
    },
    {
      "cell_type": "code",
      "execution_count": 3,
      "metadata": {
        "id": "zvpp7MU-l_AB",
        "outputId": "b8e54b82-766a-4781-d90a-ee297d72e551",
        "colab": {
          "base_uri": "https://localhost:8080/"
        }
      },
      "outputs": [
        {
          "output_type": "stream",
          "name": "stdout",
          "text": [
            "Requirement already satisfied: pip in /usr/local/lib/python3.7/dist-packages (21.1.3)\n",
            "Collecting pip\n",
            "  Downloading pip-22.1-py3-none-any.whl (2.1 MB)\n",
            "Installing collected packages: pip\n",
            "  Attempting uninstall: pip\n",
            "    Found existing installation: pip 21.1.3\n",
            "    Uninstalling pip-21.1.3:\n",
            "      Successfully uninstalled pip-21.1.3\n",
            "Successfully installed pip-22.1\n",
            "Collecting opencv-python-headless==4.1.2.30\n",
            "  Downloading opencv_python_headless-4.1.2.30-cp37-cp37m-manylinux1_x86_64.whl (21.8 MB)\n",
            "     ━━━━━━━━━━━━━━━━━━━━━━━━━━━━━━━━━━━━━━━━ 21.8/21.8 MB 41.9 MB/s eta 0:00:00\n",
            "Requirement already satisfied: numpy>=1.14.5 in /usr/local/lib/python3.7/dist-packages (from opencv-python-headless==4.1.2.30) (1.21.6)\n",
            "Installing collected packages: opencv-python-headless\n",
            "Successfully installed opencv-python-headless-4.1.2.30\n",
            "     ━━━━━━━━━━━━━━━━━━━━━━━━━━━━━━━━━━━━━━━━ 10.2/10.2 MB 54.0 MB/s eta 0:00:00\n",
            "     ━━━━━━━━━━━━━━━━━━━━━━━━━━━━━━━━━━━━━━ 352.1/352.1 kB 28.8 MB/s eta 0:00:00\n",
            "     ━━━━━━━━━━━━━━━━━━━━━━━━━━━━━━━━━━━━━━━━ 2.2/2.2 MB 61.9 MB/s eta 0:00:00\n",
            "     ━━━━━━━━━━━━━━━━━━━━━━━━━━━━━━━━━━━━━━━━ 23.4/23.4 MB 35.7 MB/s eta 0:00:00\n",
            "     ━━━━━━━━━━━━━━━━━━━━━━━━━━━━━━━━━━━━━━ 237.6/237.6 kB 20.7 MB/s eta 0:00:00\n",
            "     ━━━━━━━━━━━━━━━━━━━━━━━━━━━━━━━━━━━━━━━━ 90.7/90.7 kB 9.1 MB/s eta 0:00:00\n",
            "     ━━━━━━━━━━━━━━━━━━━━━━━━━━━━━━━━━━━━━━ 636.6/636.6 kB 36.6 MB/s eta 0:00:00\n",
            "     ━━━━━━━━━━━━━━━━━━━━━━━━━━━━━━━━━━━━━━━━ 99.8/99.8 kB 10.7 MB/s eta 0:00:00\n",
            "     ━━━━━━━━━━━━━━━━━━━━━━━━━━━━━━━━━━━━━━━━ 1.1/1.1 MB 49.7 MB/s eta 0:00:00\n",
            "     ━━━━━━━━━━━━━━━━━━━━━━━━━━━━━━━━━━━━━━━━ 43.6/43.6 kB 4.5 MB/s eta 0:00:00\n",
            "     ━━━━━━━━━━━━━━━━━━━━━━━━━━━━━━━━━━━━━━━━ 1.2/1.2 MB 47.9 MB/s eta 0:00:00\n",
            "     ━━━━━━━━━━━━━━━━━━━━━━━━━━━━━━━━━━━━━━━━ 4.9/4.9 MB 64.6 MB/s eta 0:00:00\n",
            "     ━━━━━━━━━━━━━━━━━━━━━━━━━━━━━━━━━━━━━━ 508.1/508.1 kB 32.4 MB/s eta 0:00:00\n",
            "     ━━━━━━━━━━━━━━━━━━━━━━━━━━━━━━━━━━━━━━ 152.0/152.0 kB 14.6 MB/s eta 0:00:00\n",
            "     ━━━━━━━━━━━━━━━━━━━━━━━━━━━━━━━━━━━━━━━━ 63.1/63.1 kB 6.3 MB/s eta 0:00:00\n",
            "     ━━━━━━━━━━━━━━━━━━━━━━━━━━━━━━━━━━━━━━━━ 46.2/46.2 kB 4.7 MB/s eta 0:00:00\n",
            "     ━━━━━━━━━━━━━━━━━━━━━━━━━━━━━━━━━━━━━━━━ 2.3/2.3 MB 59.0 MB/s eta 0:00:00\n",
            "     ━━━━━━━━━━━━━━━━━━━━━━━━━━━━━━━━━━━━━━ 253.5/253.5 kB 21.8 MB/s eta 0:00:00\n",
            "     ━━━━━━━━━━━━━━━━━━━━━━━━━━━━━━━━━━━━━━━━ 1.0/1.0 MB 49.0 MB/s eta 0:00:00\n",
            "     ━━━━━━━━━━━━━━━━━━━━━━━━━━━━━━━━━━━━━━━ 462.5/462.5 kB 2.6 MB/s eta 0:00:00\n"
          ]
        },
        {
          "output_type": "stream",
          "name": "stderr",
          "text": [
            "WARNING: Skipping opencv-python-headless as it is not installed.\n",
            "WARNING: Running pip as the 'root' user can result in broken permissions and conflicting behaviour with the system package manager. It is recommended to use a virtual environment instead: https://pip.pypa.io/warnings/venv\n",
            "WARNING: Running pip as the 'root' user can result in broken permissions and conflicting behaviour with the system package manager. It is recommended to use a virtual environment instead: https://pip.pypa.io/warnings/venv\n",
            "ERROR: pip's dependency resolver does not currently take into account all the packages that are installed. This behaviour is the source of the following dependency conflicts.\n",
            "multiprocess 0.70.12.2 requires dill>=0.3.4, but you have dill 0.3.1.1 which is incompatible.\n",
            "gym 0.17.3 requires cloudpickle<1.7.0,>=1.2.0, but you have cloudpickle 2.0.0 which is incompatible.\n",
            "google-colab 1.0.0 requires requests~=2.23.0, but you have requests 2.27.1 which is incompatible.\n",
            "datascience 0.10.6 requires folium==0.2.1, but you have folium 0.8.3 which is incompatible.\n",
            "WARNING: Running pip as the 'root' user can result in broken permissions and conflicting behaviour with the system package manager. It is recommended to use a virtual environment instead: https://pip.pypa.io/warnings/venv\n"
          ]
        }
      ],
      "source": [
        "%%bash\n",
        "\n",
        "# update pip\n",
        "pip install --upgrade pip\n",
        "\n",
        "# check opencv dependency versions\n",
        "pip uninstall opencv-python-headless==4.5.5.62 \n",
        "pip install opencv-python-headless==4.1.2.30\n",
        "\n",
        "# compile protos and install object_detection\n",
        "cd models/research/\n",
        "protoc object_detection/protos/*.proto --python_out=.\n",
        "cp object_detection/packages/tf2/setup.py .\n",
        "python -m pip install . --quiet"
      ]
    },
    {
      "cell_type": "markdown",
      "metadata": {
        "id": "eKOZmX3DmZAL"
      },
      "source": [
        "test installation"
      ]
    },
    {
      "cell_type": "code",
      "execution_count": 4,
      "metadata": {
        "id": "zronKfrQmETl",
        "outputId": "1cd8cd89-fcfc-47a4-af24-12bbf0ac269b",
        "colab": {
          "base_uri": "https://localhost:8080/"
        }
      },
      "outputs": [
        {
          "output_type": "stream",
          "name": "stdout",
          "text": [
            "Running tests under Python 3.7.13: /usr/bin/python3\n",
            "[ RUN      ] ModelBuilderTF2Test.test_create_center_net_deepmac\n",
            "2022-05-16 11:30:34.917252: W tensorflow/core/common_runtime/gpu/gpu_bfc_allocator.cc:39] Overriding allow_growth setting because the TF_FORCE_GPU_ALLOW_GROWTH environment variable is set. Original config value was 0.\n",
            "W0516 11:30:35.245603 140715760068480 model_builder.py:1102] Building experimental DeepMAC meta-arch. Some features may be omitted.\n",
            "INFO:tensorflow:time(__main__.ModelBuilderTF2Test.test_create_center_net_deepmac): 3.92s\n",
            "I0516 11:30:35.695366 140715760068480 test_util.py:2374] time(__main__.ModelBuilderTF2Test.test_create_center_net_deepmac): 3.92s\n",
            "[       OK ] ModelBuilderTF2Test.test_create_center_net_deepmac\n",
            "[ RUN      ] ModelBuilderTF2Test.test_create_center_net_model0 (customize_head_params=True)\n",
            "INFO:tensorflow:time(__main__.ModelBuilderTF2Test.test_create_center_net_model0 (customize_head_params=True)): 0.62s\n",
            "I0516 11:30:36.314440 140715760068480 test_util.py:2374] time(__main__.ModelBuilderTF2Test.test_create_center_net_model0 (customize_head_params=True)): 0.62s\n",
            "[       OK ] ModelBuilderTF2Test.test_create_center_net_model0 (customize_head_params=True)\n",
            "[ RUN      ] ModelBuilderTF2Test.test_create_center_net_model1 (customize_head_params=False)\n",
            "INFO:tensorflow:time(__main__.ModelBuilderTF2Test.test_create_center_net_model1 (customize_head_params=False)): 0.33s\n",
            "I0516 11:30:36.641450 140715760068480 test_util.py:2374] time(__main__.ModelBuilderTF2Test.test_create_center_net_model1 (customize_head_params=False)): 0.33s\n",
            "[       OK ] ModelBuilderTF2Test.test_create_center_net_model1 (customize_head_params=False)\n",
            "[ RUN      ] ModelBuilderTF2Test.test_create_center_net_model_from_keypoints\n",
            "INFO:tensorflow:time(__main__.ModelBuilderTF2Test.test_create_center_net_model_from_keypoints): 0.29s\n",
            "I0516 11:30:36.935825 140715760068480 test_util.py:2374] time(__main__.ModelBuilderTF2Test.test_create_center_net_model_from_keypoints): 0.29s\n",
            "[       OK ] ModelBuilderTF2Test.test_create_center_net_model_from_keypoints\n",
            "[ RUN      ] ModelBuilderTF2Test.test_create_center_net_model_mobilenet\n",
            "INFO:tensorflow:time(__main__.ModelBuilderTF2Test.test_create_center_net_model_mobilenet): 2.6s\n",
            "I0516 11:30:39.534203 140715760068480 test_util.py:2374] time(__main__.ModelBuilderTF2Test.test_create_center_net_model_mobilenet): 2.6s\n",
            "[       OK ] ModelBuilderTF2Test.test_create_center_net_model_mobilenet\n",
            "[ RUN      ] ModelBuilderTF2Test.test_create_experimental_model\n",
            "INFO:tensorflow:time(__main__.ModelBuilderTF2Test.test_create_experimental_model): 0.0s\n",
            "I0516 11:30:39.535296 140715760068480 test_util.py:2374] time(__main__.ModelBuilderTF2Test.test_create_experimental_model): 0.0s\n",
            "[       OK ] ModelBuilderTF2Test.test_create_experimental_model\n",
            "[ RUN      ] ModelBuilderTF2Test.test_create_faster_rcnn_from_config_with_crop_feature0 (True)\n",
            "INFO:tensorflow:time(__main__.ModelBuilderTF2Test.test_create_faster_rcnn_from_config_with_crop_feature0 (True)): 0.03s\n",
            "I0516 11:30:39.561796 140715760068480 test_util.py:2374] time(__main__.ModelBuilderTF2Test.test_create_faster_rcnn_from_config_with_crop_feature0 (True)): 0.03s\n",
            "[       OK ] ModelBuilderTF2Test.test_create_faster_rcnn_from_config_with_crop_feature0 (True)\n",
            "[ RUN      ] ModelBuilderTF2Test.test_create_faster_rcnn_from_config_with_crop_feature1 (False)\n",
            "INFO:tensorflow:time(__main__.ModelBuilderTF2Test.test_create_faster_rcnn_from_config_with_crop_feature1 (False)): 0.02s\n",
            "I0516 11:30:39.579588 140715760068480 test_util.py:2374] time(__main__.ModelBuilderTF2Test.test_create_faster_rcnn_from_config_with_crop_feature1 (False)): 0.02s\n",
            "[       OK ] ModelBuilderTF2Test.test_create_faster_rcnn_from_config_with_crop_feature1 (False)\n",
            "[ RUN      ] ModelBuilderTF2Test.test_create_faster_rcnn_model_from_config_with_example_miner\n",
            "INFO:tensorflow:time(__main__.ModelBuilderTF2Test.test_create_faster_rcnn_model_from_config_with_example_miner): 0.02s\n",
            "I0516 11:30:39.597454 140715760068480 test_util.py:2374] time(__main__.ModelBuilderTF2Test.test_create_faster_rcnn_model_from_config_with_example_miner): 0.02s\n",
            "[       OK ] ModelBuilderTF2Test.test_create_faster_rcnn_model_from_config_with_example_miner\n",
            "[ RUN      ] ModelBuilderTF2Test.test_create_faster_rcnn_models_from_config_faster_rcnn_with_matmul\n",
            "INFO:tensorflow:time(__main__.ModelBuilderTF2Test.test_create_faster_rcnn_models_from_config_faster_rcnn_with_matmul): 0.12s\n",
            "I0516 11:30:39.715334 140715760068480 test_util.py:2374] time(__main__.ModelBuilderTF2Test.test_create_faster_rcnn_models_from_config_faster_rcnn_with_matmul): 0.12s\n",
            "[       OK ] ModelBuilderTF2Test.test_create_faster_rcnn_models_from_config_faster_rcnn_with_matmul\n",
            "[ RUN      ] ModelBuilderTF2Test.test_create_faster_rcnn_models_from_config_faster_rcnn_without_matmul\n",
            "INFO:tensorflow:time(__main__.ModelBuilderTF2Test.test_create_faster_rcnn_models_from_config_faster_rcnn_without_matmul): 0.18s\n",
            "I0516 11:30:39.900598 140715760068480 test_util.py:2374] time(__main__.ModelBuilderTF2Test.test_create_faster_rcnn_models_from_config_faster_rcnn_without_matmul): 0.18s\n",
            "[       OK ] ModelBuilderTF2Test.test_create_faster_rcnn_models_from_config_faster_rcnn_without_matmul\n",
            "[ RUN      ] ModelBuilderTF2Test.test_create_faster_rcnn_models_from_config_mask_rcnn_with_matmul\n",
            "INFO:tensorflow:time(__main__.ModelBuilderTF2Test.test_create_faster_rcnn_models_from_config_mask_rcnn_with_matmul): 0.12s\n",
            "I0516 11:30:40.026222 140715760068480 test_util.py:2374] time(__main__.ModelBuilderTF2Test.test_create_faster_rcnn_models_from_config_mask_rcnn_with_matmul): 0.12s\n",
            "[       OK ] ModelBuilderTF2Test.test_create_faster_rcnn_models_from_config_mask_rcnn_with_matmul\n",
            "[ RUN      ] ModelBuilderTF2Test.test_create_faster_rcnn_models_from_config_mask_rcnn_without_matmul\n",
            "INFO:tensorflow:time(__main__.ModelBuilderTF2Test.test_create_faster_rcnn_models_from_config_mask_rcnn_without_matmul): 0.13s\n",
            "I0516 11:30:40.161851 140715760068480 test_util.py:2374] time(__main__.ModelBuilderTF2Test.test_create_faster_rcnn_models_from_config_mask_rcnn_without_matmul): 0.13s\n",
            "[       OK ] ModelBuilderTF2Test.test_create_faster_rcnn_models_from_config_mask_rcnn_without_matmul\n",
            "[ RUN      ] ModelBuilderTF2Test.test_create_rfcn_model_from_config\n",
            "INFO:tensorflow:time(__main__.ModelBuilderTF2Test.test_create_rfcn_model_from_config): 0.12s\n",
            "I0516 11:30:40.285260 140715760068480 test_util.py:2374] time(__main__.ModelBuilderTF2Test.test_create_rfcn_model_from_config): 0.12s\n",
            "[       OK ] ModelBuilderTF2Test.test_create_rfcn_model_from_config\n",
            "[ RUN      ] ModelBuilderTF2Test.test_create_ssd_fpn_model_from_config\n",
            "INFO:tensorflow:time(__main__.ModelBuilderTF2Test.test_create_ssd_fpn_model_from_config): 0.04s\n",
            "I0516 11:30:40.328579 140715760068480 test_util.py:2374] time(__main__.ModelBuilderTF2Test.test_create_ssd_fpn_model_from_config): 0.04s\n",
            "[       OK ] ModelBuilderTF2Test.test_create_ssd_fpn_model_from_config\n",
            "[ RUN      ] ModelBuilderTF2Test.test_create_ssd_models_from_config\n",
            "I0516 11:30:40.599707 140715760068480 ssd_efficientnet_bifpn_feature_extractor.py:146] EfficientDet EfficientNet backbone version: efficientnet-b0\n",
            "I0516 11:30:40.599950 140715760068480 ssd_efficientnet_bifpn_feature_extractor.py:147] EfficientDet BiFPN num filters: 64\n",
            "I0516 11:30:40.600098 140715760068480 ssd_efficientnet_bifpn_feature_extractor.py:149] EfficientDet BiFPN num iterations: 3\n",
            "I0516 11:30:40.602630 140715760068480 efficientnet_model.py:144] round_filter input=32 output=32\n",
            "I0516 11:30:40.623476 140715760068480 efficientnet_model.py:144] round_filter input=32 output=32\n",
            "I0516 11:30:40.623608 140715760068480 efficientnet_model.py:144] round_filter input=16 output=16\n",
            "I0516 11:30:40.694136 140715760068480 efficientnet_model.py:144] round_filter input=16 output=16\n",
            "I0516 11:30:40.694308 140715760068480 efficientnet_model.py:144] round_filter input=24 output=24\n",
            "I0516 11:30:40.885926 140715760068480 efficientnet_model.py:144] round_filter input=24 output=24\n",
            "I0516 11:30:40.886141 140715760068480 efficientnet_model.py:144] round_filter input=40 output=40\n",
            "I0516 11:30:41.073223 140715760068480 efficientnet_model.py:144] round_filter input=40 output=40\n",
            "I0516 11:30:41.073440 140715760068480 efficientnet_model.py:144] round_filter input=80 output=80\n",
            "I0516 11:30:41.415602 140715760068480 efficientnet_model.py:144] round_filter input=80 output=80\n",
            "I0516 11:30:41.415794 140715760068480 efficientnet_model.py:144] round_filter input=112 output=112\n",
            "I0516 11:30:41.702034 140715760068480 efficientnet_model.py:144] round_filter input=112 output=112\n",
            "I0516 11:30:41.702278 140715760068480 efficientnet_model.py:144] round_filter input=192 output=192\n",
            "I0516 11:30:42.283212 140715760068480 efficientnet_model.py:144] round_filter input=192 output=192\n",
            "I0516 11:30:42.283422 140715760068480 efficientnet_model.py:144] round_filter input=320 output=320\n",
            "I0516 11:30:42.375784 140715760068480 efficientnet_model.py:144] round_filter input=1280 output=1280\n",
            "I0516 11:30:42.413146 140715760068480 efficientnet_model.py:454] Building model efficientnet with params ModelConfig(width_coefficient=1.0, depth_coefficient=1.0, resolution=224, dropout_rate=0.2, blocks=(BlockConfig(input_filters=32, output_filters=16, kernel_size=3, num_repeat=1, expand_ratio=1, strides=(1, 1), se_ratio=0.25, id_skip=True, fused_conv=False, conv_type='depthwise'), BlockConfig(input_filters=16, output_filters=24, kernel_size=3, num_repeat=2, expand_ratio=6, strides=(2, 2), se_ratio=0.25, id_skip=True, fused_conv=False, conv_type='depthwise'), BlockConfig(input_filters=24, output_filters=40, kernel_size=5, num_repeat=2, expand_ratio=6, strides=(2, 2), se_ratio=0.25, id_skip=True, fused_conv=False, conv_type='depthwise'), BlockConfig(input_filters=40, output_filters=80, kernel_size=3, num_repeat=3, expand_ratio=6, strides=(2, 2), se_ratio=0.25, id_skip=True, fused_conv=False, conv_type='depthwise'), BlockConfig(input_filters=80, output_filters=112, kernel_size=5, num_repeat=3, expand_ratio=6, strides=(1, 1), se_ratio=0.25, id_skip=True, fused_conv=False, conv_type='depthwise'), BlockConfig(input_filters=112, output_filters=192, kernel_size=5, num_repeat=4, expand_ratio=6, strides=(2, 2), se_ratio=0.25, id_skip=True, fused_conv=False, conv_type='depthwise'), BlockConfig(input_filters=192, output_filters=320, kernel_size=3, num_repeat=1, expand_ratio=6, strides=(1, 1), se_ratio=0.25, id_skip=True, fused_conv=False, conv_type='depthwise')), stem_base_filters=32, top_base_filters=1280, activation='simple_swish', batch_norm='default', bn_momentum=0.99, bn_epsilon=0.001, weight_decay=5e-06, drop_connect_rate=0.2, depth_divisor=8, min_depth=None, use_se=True, input_channels=3, num_classes=1000, model_name='efficientnet', rescale_input=False, data_format='channels_last', dtype='float32')\n",
            "I0516 11:30:42.474556 140715760068480 ssd_efficientnet_bifpn_feature_extractor.py:146] EfficientDet EfficientNet backbone version: efficientnet-b1\n",
            "I0516 11:30:42.474750 140715760068480 ssd_efficientnet_bifpn_feature_extractor.py:147] EfficientDet BiFPN num filters: 88\n",
            "I0516 11:30:42.474862 140715760068480 ssd_efficientnet_bifpn_feature_extractor.py:149] EfficientDet BiFPN num iterations: 4\n",
            "I0516 11:30:42.476856 140715760068480 efficientnet_model.py:144] round_filter input=32 output=32\n",
            "I0516 11:30:42.496184 140715760068480 efficientnet_model.py:144] round_filter input=32 output=32\n",
            "I0516 11:30:42.496338 140715760068480 efficientnet_model.py:144] round_filter input=16 output=16\n",
            "I0516 11:30:42.653803 140715760068480 efficientnet_model.py:144] round_filter input=16 output=16\n",
            "I0516 11:30:42.654049 140715760068480 efficientnet_model.py:144] round_filter input=24 output=24\n",
            "I0516 11:30:42.934936 140715760068480 efficientnet_model.py:144] round_filter input=24 output=24\n",
            "I0516 11:30:42.935162 140715760068480 efficientnet_model.py:144] round_filter input=40 output=40\n",
            "I0516 11:30:43.227783 140715760068480 efficientnet_model.py:144] round_filter input=40 output=40\n",
            "I0516 11:30:43.228024 140715760068480 efficientnet_model.py:144] round_filter input=80 output=80\n",
            "I0516 11:30:43.606292 140715760068480 efficientnet_model.py:144] round_filter input=80 output=80\n",
            "I0516 11:30:43.606543 140715760068480 efficientnet_model.py:144] round_filter input=112 output=112\n",
            "I0516 11:30:43.978378 140715760068480 efficientnet_model.py:144] round_filter input=112 output=112\n",
            "I0516 11:30:43.978586 140715760068480 efficientnet_model.py:144] round_filter input=192 output=192\n",
            "I0516 11:30:44.460715 140715760068480 efficientnet_model.py:144] round_filter input=192 output=192\n",
            "I0516 11:30:44.460912 140715760068480 efficientnet_model.py:144] round_filter input=320 output=320\n",
            "I0516 11:30:44.654379 140715760068480 efficientnet_model.py:144] round_filter input=1280 output=1280\n",
            "I0516 11:30:44.691536 140715760068480 efficientnet_model.py:454] Building model efficientnet with params ModelConfig(width_coefficient=1.0, depth_coefficient=1.1, resolution=240, dropout_rate=0.2, blocks=(BlockConfig(input_filters=32, output_filters=16, kernel_size=3, num_repeat=1, expand_ratio=1, strides=(1, 1), se_ratio=0.25, id_skip=True, fused_conv=False, conv_type='depthwise'), BlockConfig(input_filters=16, output_filters=24, kernel_size=3, num_repeat=2, expand_ratio=6, strides=(2, 2), se_ratio=0.25, id_skip=True, fused_conv=False, conv_type='depthwise'), BlockConfig(input_filters=24, output_filters=40, kernel_size=5, num_repeat=2, expand_ratio=6, strides=(2, 2), se_ratio=0.25, id_skip=True, fused_conv=False, conv_type='depthwise'), BlockConfig(input_filters=40, output_filters=80, kernel_size=3, num_repeat=3, expand_ratio=6, strides=(2, 2), se_ratio=0.25, id_skip=True, fused_conv=False, conv_type='depthwise'), BlockConfig(input_filters=80, output_filters=112, kernel_size=5, num_repeat=3, expand_ratio=6, strides=(1, 1), se_ratio=0.25, id_skip=True, fused_conv=False, conv_type='depthwise'), BlockConfig(input_filters=112, output_filters=192, kernel_size=5, num_repeat=4, expand_ratio=6, strides=(2, 2), se_ratio=0.25, id_skip=True, fused_conv=False, conv_type='depthwise'), BlockConfig(input_filters=192, output_filters=320, kernel_size=3, num_repeat=1, expand_ratio=6, strides=(1, 1), se_ratio=0.25, id_skip=True, fused_conv=False, conv_type='depthwise')), stem_base_filters=32, top_base_filters=1280, activation='simple_swish', batch_norm='default', bn_momentum=0.99, bn_epsilon=0.001, weight_decay=5e-06, drop_connect_rate=0.2, depth_divisor=8, min_depth=None, use_se=True, input_channels=3, num_classes=1000, model_name='efficientnet', rescale_input=False, data_format='channels_last', dtype='float32')\n",
            "I0516 11:30:44.770196 140715760068480 ssd_efficientnet_bifpn_feature_extractor.py:146] EfficientDet EfficientNet backbone version: efficientnet-b2\n",
            "I0516 11:30:44.770369 140715760068480 ssd_efficientnet_bifpn_feature_extractor.py:147] EfficientDet BiFPN num filters: 112\n",
            "I0516 11:30:44.770480 140715760068480 ssd_efficientnet_bifpn_feature_extractor.py:149] EfficientDet BiFPN num iterations: 5\n",
            "I0516 11:30:44.772578 140715760068480 efficientnet_model.py:144] round_filter input=32 output=32\n",
            "I0516 11:30:44.791583 140715760068480 efficientnet_model.py:144] round_filter input=32 output=32\n",
            "I0516 11:30:44.791728 140715760068480 efficientnet_model.py:144] round_filter input=16 output=16\n",
            "I0516 11:30:44.946905 140715760068480 efficientnet_model.py:144] round_filter input=16 output=16\n",
            "I0516 11:30:44.947120 140715760068480 efficientnet_model.py:144] round_filter input=24 output=24\n",
            "I0516 11:30:45.250887 140715760068480 efficientnet_model.py:144] round_filter input=24 output=24\n",
            "I0516 11:30:45.251187 140715760068480 efficientnet_model.py:144] round_filter input=40 output=48\n",
            "I0516 11:30:45.543644 140715760068480 efficientnet_model.py:144] round_filter input=40 output=48\n",
            "I0516 11:30:45.543838 140715760068480 efficientnet_model.py:144] round_filter input=80 output=88\n",
            "I0516 11:30:45.933135 140715760068480 efficientnet_model.py:144] round_filter input=80 output=88\n",
            "I0516 11:30:45.933336 140715760068480 efficientnet_model.py:144] round_filter input=112 output=120\n",
            "I0516 11:30:46.357192 140715760068480 efficientnet_model.py:144] round_filter input=112 output=120\n",
            "I0516 11:30:46.357386 140715760068480 efficientnet_model.py:144] round_filter input=192 output=208\n",
            "I0516 11:30:46.860483 140715760068480 efficientnet_model.py:144] round_filter input=192 output=208\n",
            "I0516 11:30:46.860694 140715760068480 efficientnet_model.py:144] round_filter input=320 output=352\n",
            "I0516 11:30:47.057008 140715760068480 efficientnet_model.py:144] round_filter input=1280 output=1408\n",
            "I0516 11:30:47.095127 140715760068480 efficientnet_model.py:454] Building model efficientnet with params ModelConfig(width_coefficient=1.1, depth_coefficient=1.2, resolution=260, dropout_rate=0.3, blocks=(BlockConfig(input_filters=32, output_filters=16, kernel_size=3, num_repeat=1, expand_ratio=1, strides=(1, 1), se_ratio=0.25, id_skip=True, fused_conv=False, conv_type='depthwise'), BlockConfig(input_filters=16, output_filters=24, kernel_size=3, num_repeat=2, expand_ratio=6, strides=(2, 2), se_ratio=0.25, id_skip=True, fused_conv=False, conv_type='depthwise'), BlockConfig(input_filters=24, output_filters=40, kernel_size=5, num_repeat=2, expand_ratio=6, strides=(2, 2), se_ratio=0.25, id_skip=True, fused_conv=False, conv_type='depthwise'), BlockConfig(input_filters=40, output_filters=80, kernel_size=3, num_repeat=3, expand_ratio=6, strides=(2, 2), se_ratio=0.25, id_skip=True, fused_conv=False, conv_type='depthwise'), BlockConfig(input_filters=80, output_filters=112, kernel_size=5, num_repeat=3, expand_ratio=6, strides=(1, 1), se_ratio=0.25, id_skip=True, fused_conv=False, conv_type='depthwise'), BlockConfig(input_filters=112, output_filters=192, kernel_size=5, num_repeat=4, expand_ratio=6, strides=(2, 2), se_ratio=0.25, id_skip=True, fused_conv=False, conv_type='depthwise'), BlockConfig(input_filters=192, output_filters=320, kernel_size=3, num_repeat=1, expand_ratio=6, strides=(1, 1), se_ratio=0.25, id_skip=True, fused_conv=False, conv_type='depthwise')), stem_base_filters=32, top_base_filters=1280, activation='simple_swish', batch_norm='default', bn_momentum=0.99, bn_epsilon=0.001, weight_decay=5e-06, drop_connect_rate=0.2, depth_divisor=8, min_depth=None, use_se=True, input_channels=3, num_classes=1000, model_name='efficientnet', rescale_input=False, data_format='channels_last', dtype='float32')\n",
            "I0516 11:30:47.168781 140715760068480 ssd_efficientnet_bifpn_feature_extractor.py:146] EfficientDet EfficientNet backbone version: efficientnet-b3\n",
            "I0516 11:30:47.169071 140715760068480 ssd_efficientnet_bifpn_feature_extractor.py:147] EfficientDet BiFPN num filters: 160\n",
            "I0516 11:30:47.169226 140715760068480 ssd_efficientnet_bifpn_feature_extractor.py:149] EfficientDet BiFPN num iterations: 6\n",
            "I0516 11:30:47.172080 140715760068480 efficientnet_model.py:144] round_filter input=32 output=40\n",
            "I0516 11:30:47.192018 140715760068480 efficientnet_model.py:144] round_filter input=32 output=40\n",
            "I0516 11:30:47.192191 140715760068480 efficientnet_model.py:144] round_filter input=16 output=24\n",
            "I0516 11:30:47.599739 140715760068480 efficientnet_model.py:144] round_filter input=16 output=24\n",
            "I0516 11:30:47.599952 140715760068480 efficientnet_model.py:144] round_filter input=24 output=32\n",
            "I0516 11:30:47.887028 140715760068480 efficientnet_model.py:144] round_filter input=24 output=32\n",
            "I0516 11:30:47.887249 140715760068480 efficientnet_model.py:144] round_filter input=40 output=48\n",
            "I0516 11:30:48.177488 140715760068480 efficientnet_model.py:144] round_filter input=40 output=48\n",
            "I0516 11:30:48.177685 140715760068480 efficientnet_model.py:144] round_filter input=80 output=96\n",
            "I0516 11:30:48.684611 140715760068480 efficientnet_model.py:144] round_filter input=80 output=96\n",
            "I0516 11:30:48.684821 140715760068480 efficientnet_model.py:144] round_filter input=112 output=136\n",
            "I0516 11:30:49.187169 140715760068480 efficientnet_model.py:144] round_filter input=112 output=136\n",
            "I0516 11:30:49.187368 140715760068480 efficientnet_model.py:144] round_filter input=192 output=232\n",
            "I0516 11:30:49.795247 140715760068480 efficientnet_model.py:144] round_filter input=192 output=232\n",
            "I0516 11:30:49.795447 140715760068480 efficientnet_model.py:144] round_filter input=320 output=384\n",
            "I0516 11:30:49.988328 140715760068480 efficientnet_model.py:144] round_filter input=1280 output=1536\n",
            "I0516 11:30:50.027299 140715760068480 efficientnet_model.py:454] Building model efficientnet with params ModelConfig(width_coefficient=1.2, depth_coefficient=1.4, resolution=300, dropout_rate=0.3, blocks=(BlockConfig(input_filters=32, output_filters=16, kernel_size=3, num_repeat=1, expand_ratio=1, strides=(1, 1), se_ratio=0.25, id_skip=True, fused_conv=False, conv_type='depthwise'), BlockConfig(input_filters=16, output_filters=24, kernel_size=3, num_repeat=2, expand_ratio=6, strides=(2, 2), se_ratio=0.25, id_skip=True, fused_conv=False, conv_type='depthwise'), BlockConfig(input_filters=24, output_filters=40, kernel_size=5, num_repeat=2, expand_ratio=6, strides=(2, 2), se_ratio=0.25, id_skip=True, fused_conv=False, conv_type='depthwise'), BlockConfig(input_filters=40, output_filters=80, kernel_size=3, num_repeat=3, expand_ratio=6, strides=(2, 2), se_ratio=0.25, id_skip=True, fused_conv=False, conv_type='depthwise'), BlockConfig(input_filters=80, output_filters=112, kernel_size=5, num_repeat=3, expand_ratio=6, strides=(1, 1), se_ratio=0.25, id_skip=True, fused_conv=False, conv_type='depthwise'), BlockConfig(input_filters=112, output_filters=192, kernel_size=5, num_repeat=4, expand_ratio=6, strides=(2, 2), se_ratio=0.25, id_skip=True, fused_conv=False, conv_type='depthwise'), BlockConfig(input_filters=192, output_filters=320, kernel_size=3, num_repeat=1, expand_ratio=6, strides=(1, 1), se_ratio=0.25, id_skip=True, fused_conv=False, conv_type='depthwise')), stem_base_filters=32, top_base_filters=1280, activation='simple_swish', batch_norm='default', bn_momentum=0.99, bn_epsilon=0.001, weight_decay=5e-06, drop_connect_rate=0.2, depth_divisor=8, min_depth=None, use_se=True, input_channels=3, num_classes=1000, model_name='efficientnet', rescale_input=False, data_format='channels_last', dtype='float32')\n",
            "I0516 11:30:50.109711 140715760068480 ssd_efficientnet_bifpn_feature_extractor.py:146] EfficientDet EfficientNet backbone version: efficientnet-b4\n",
            "I0516 11:30:50.109899 140715760068480 ssd_efficientnet_bifpn_feature_extractor.py:147] EfficientDet BiFPN num filters: 224\n",
            "I0516 11:30:50.110012 140715760068480 ssd_efficientnet_bifpn_feature_extractor.py:149] EfficientDet BiFPN num iterations: 7\n",
            "I0516 11:30:50.112190 140715760068480 efficientnet_model.py:144] round_filter input=32 output=48\n",
            "I0516 11:30:50.132520 140715760068480 efficientnet_model.py:144] round_filter input=32 output=48\n",
            "I0516 11:30:50.132662 140715760068480 efficientnet_model.py:144] round_filter input=16 output=24\n",
            "I0516 11:30:50.286281 140715760068480 efficientnet_model.py:144] round_filter input=16 output=24\n",
            "I0516 11:30:50.286490 140715760068480 efficientnet_model.py:144] round_filter input=24 output=32\n",
            "I0516 11:30:50.690963 140715760068480 efficientnet_model.py:144] round_filter input=24 output=32\n",
            "I0516 11:30:50.691199 140715760068480 efficientnet_model.py:144] round_filter input=40 output=56\n",
            "I0516 11:30:51.071249 140715760068480 efficientnet_model.py:144] round_filter input=40 output=56\n",
            "I0516 11:30:51.071470 140715760068480 efficientnet_model.py:144] round_filter input=80 output=112\n",
            "I0516 11:30:51.651408 140715760068480 efficientnet_model.py:144] round_filter input=80 output=112\n",
            "I0516 11:30:51.651614 140715760068480 efficientnet_model.py:144] round_filter input=112 output=160\n",
            "I0516 11:30:52.228793 140715760068480 efficientnet_model.py:144] round_filter input=112 output=160\n",
            "I0516 11:30:52.229004 140715760068480 efficientnet_model.py:144] round_filter input=192 output=272\n",
            "I0516 11:30:53.010668 140715760068480 efficientnet_model.py:144] round_filter input=192 output=272\n",
            "I0516 11:30:53.010875 140715760068480 efficientnet_model.py:144] round_filter input=320 output=448\n",
            "I0516 11:30:53.197293 140715760068480 efficientnet_model.py:144] round_filter input=1280 output=1792\n",
            "I0516 11:30:53.232629 140715760068480 efficientnet_model.py:454] Building model efficientnet with params ModelConfig(width_coefficient=1.4, depth_coefficient=1.8, resolution=380, dropout_rate=0.4, blocks=(BlockConfig(input_filters=32, output_filters=16, kernel_size=3, num_repeat=1, expand_ratio=1, strides=(1, 1), se_ratio=0.25, id_skip=True, fused_conv=False, conv_type='depthwise'), BlockConfig(input_filters=16, output_filters=24, kernel_size=3, num_repeat=2, expand_ratio=6, strides=(2, 2), se_ratio=0.25, id_skip=True, fused_conv=False, conv_type='depthwise'), BlockConfig(input_filters=24, output_filters=40, kernel_size=5, num_repeat=2, expand_ratio=6, strides=(2, 2), se_ratio=0.25, id_skip=True, fused_conv=False, conv_type='depthwise'), BlockConfig(input_filters=40, output_filters=80, kernel_size=3, num_repeat=3, expand_ratio=6, strides=(2, 2), se_ratio=0.25, id_skip=True, fused_conv=False, conv_type='depthwise'), BlockConfig(input_filters=80, output_filters=112, kernel_size=5, num_repeat=3, expand_ratio=6, strides=(1, 1), se_ratio=0.25, id_skip=True, fused_conv=False, conv_type='depthwise'), BlockConfig(input_filters=112, output_filters=192, kernel_size=5, num_repeat=4, expand_ratio=6, strides=(2, 2), se_ratio=0.25, id_skip=True, fused_conv=False, conv_type='depthwise'), BlockConfig(input_filters=192, output_filters=320, kernel_size=3, num_repeat=1, expand_ratio=6, strides=(1, 1), se_ratio=0.25, id_skip=True, fused_conv=False, conv_type='depthwise')), stem_base_filters=32, top_base_filters=1280, activation='simple_swish', batch_norm='default', bn_momentum=0.99, bn_epsilon=0.001, weight_decay=5e-06, drop_connect_rate=0.2, depth_divisor=8, min_depth=None, use_se=True, input_channels=3, num_classes=1000, model_name='efficientnet', rescale_input=False, data_format='channels_last', dtype='float32')\n",
            "I0516 11:30:53.572817 140715760068480 ssd_efficientnet_bifpn_feature_extractor.py:146] EfficientDet EfficientNet backbone version: efficientnet-b5\n",
            "I0516 11:30:53.573009 140715760068480 ssd_efficientnet_bifpn_feature_extractor.py:147] EfficientDet BiFPN num filters: 288\n",
            "I0516 11:30:53.573129 140715760068480 ssd_efficientnet_bifpn_feature_extractor.py:149] EfficientDet BiFPN num iterations: 7\n",
            "I0516 11:30:53.575196 140715760068480 efficientnet_model.py:144] round_filter input=32 output=48\n",
            "I0516 11:30:53.596868 140715760068480 efficientnet_model.py:144] round_filter input=32 output=48\n",
            "I0516 11:30:53.597034 140715760068480 efficientnet_model.py:144] round_filter input=16 output=24\n",
            "I0516 11:30:53.836694 140715760068480 efficientnet_model.py:144] round_filter input=16 output=24\n",
            "I0516 11:30:53.836901 140715760068480 efficientnet_model.py:144] round_filter input=24 output=40\n",
            "I0516 11:30:54.316456 140715760068480 efficientnet_model.py:144] round_filter input=24 output=40\n",
            "I0516 11:30:54.316659 140715760068480 efficientnet_model.py:144] round_filter input=40 output=64\n",
            "I0516 11:30:54.811068 140715760068480 efficientnet_model.py:144] round_filter input=40 output=64\n",
            "I0516 11:30:54.811295 140715760068480 efficientnet_model.py:144] round_filter input=80 output=128\n",
            "I0516 11:30:55.481271 140715760068480 efficientnet_model.py:144] round_filter input=80 output=128\n",
            "I0516 11:30:55.481528 140715760068480 efficientnet_model.py:144] round_filter input=112 output=176\n",
            "I0516 11:30:56.171034 140715760068480 efficientnet_model.py:144] round_filter input=112 output=176\n",
            "I0516 11:30:56.171303 140715760068480 efficientnet_model.py:144] round_filter input=192 output=304\n",
            "I0516 11:30:57.060131 140715760068480 efficientnet_model.py:144] round_filter input=192 output=304\n",
            "I0516 11:30:57.060352 140715760068480 efficientnet_model.py:144] round_filter input=320 output=512\n",
            "I0516 11:30:57.359873 140715760068480 efficientnet_model.py:144] round_filter input=1280 output=2048\n",
            "I0516 11:30:57.394686 140715760068480 efficientnet_model.py:454] Building model efficientnet with params ModelConfig(width_coefficient=1.6, depth_coefficient=2.2, resolution=456, dropout_rate=0.4, blocks=(BlockConfig(input_filters=32, output_filters=16, kernel_size=3, num_repeat=1, expand_ratio=1, strides=(1, 1), se_ratio=0.25, id_skip=True, fused_conv=False, conv_type='depthwise'), BlockConfig(input_filters=16, output_filters=24, kernel_size=3, num_repeat=2, expand_ratio=6, strides=(2, 2), se_ratio=0.25, id_skip=True, fused_conv=False, conv_type='depthwise'), BlockConfig(input_filters=24, output_filters=40, kernel_size=5, num_repeat=2, expand_ratio=6, strides=(2, 2), se_ratio=0.25, id_skip=True, fused_conv=False, conv_type='depthwise'), BlockConfig(input_filters=40, output_filters=80, kernel_size=3, num_repeat=3, expand_ratio=6, strides=(2, 2), se_ratio=0.25, id_skip=True, fused_conv=False, conv_type='depthwise'), BlockConfig(input_filters=80, output_filters=112, kernel_size=5, num_repeat=3, expand_ratio=6, strides=(1, 1), se_ratio=0.25, id_skip=True, fused_conv=False, conv_type='depthwise'), BlockConfig(input_filters=112, output_filters=192, kernel_size=5, num_repeat=4, expand_ratio=6, strides=(2, 2), se_ratio=0.25, id_skip=True, fused_conv=False, conv_type='depthwise'), BlockConfig(input_filters=192, output_filters=320, kernel_size=3, num_repeat=1, expand_ratio=6, strides=(1, 1), se_ratio=0.25, id_skip=True, fused_conv=False, conv_type='depthwise')), stem_base_filters=32, top_base_filters=1280, activation='simple_swish', batch_norm='default', bn_momentum=0.99, bn_epsilon=0.001, weight_decay=5e-06, drop_connect_rate=0.2, depth_divisor=8, min_depth=None, use_se=True, input_channels=3, num_classes=1000, model_name='efficientnet', rescale_input=False, data_format='channels_last', dtype='float32')\n",
            "I0516 11:30:57.507782 140715760068480 ssd_efficientnet_bifpn_feature_extractor.py:146] EfficientDet EfficientNet backbone version: efficientnet-b6\n",
            "I0516 11:30:57.508005 140715760068480 ssd_efficientnet_bifpn_feature_extractor.py:147] EfficientDet BiFPN num filters: 384\n",
            "I0516 11:30:57.508144 140715760068480 ssd_efficientnet_bifpn_feature_extractor.py:149] EfficientDet BiFPN num iterations: 8\n",
            "I0516 11:30:57.510170 140715760068480 efficientnet_model.py:144] round_filter input=32 output=56\n",
            "I0516 11:30:57.530868 140715760068480 efficientnet_model.py:144] round_filter input=32 output=56\n",
            "I0516 11:30:57.531019 140715760068480 efficientnet_model.py:144] round_filter input=16 output=32\n",
            "I0516 11:30:57.770754 140715760068480 efficientnet_model.py:144] round_filter input=16 output=32\n",
            "I0516 11:30:57.770988 140715760068480 efficientnet_model.py:144] round_filter input=24 output=40\n",
            "I0516 11:30:58.354871 140715760068480 efficientnet_model.py:144] round_filter input=24 output=40\n",
            "I0516 11:30:58.355100 140715760068480 efficientnet_model.py:144] round_filter input=40 output=72\n",
            "I0516 11:30:58.971582 140715760068480 efficientnet_model.py:144] round_filter input=40 output=72\n",
            "I0516 11:30:58.971790 140715760068480 efficientnet_model.py:144] round_filter input=80 output=144\n",
            "I0516 11:30:59.779347 140715760068480 efficientnet_model.py:144] round_filter input=80 output=144\n",
            "I0516 11:30:59.779552 140715760068480 efficientnet_model.py:144] round_filter input=112 output=200\n",
            "I0516 11:31:00.916453 140715760068480 efficientnet_model.py:144] round_filter input=112 output=200\n",
            "I0516 11:31:00.916684 140715760068480 efficientnet_model.py:144] round_filter input=192 output=344\n",
            "I0516 11:31:01.995200 140715760068480 efficientnet_model.py:144] round_filter input=192 output=344\n",
            "I0516 11:31:01.995393 140715760068480 efficientnet_model.py:144] round_filter input=320 output=576\n",
            "I0516 11:31:02.279646 140715760068480 efficientnet_model.py:144] round_filter input=1280 output=2304\n",
            "I0516 11:31:02.313652 140715760068480 efficientnet_model.py:454] Building model efficientnet with params ModelConfig(width_coefficient=1.8, depth_coefficient=2.6, resolution=528, dropout_rate=0.5, blocks=(BlockConfig(input_filters=32, output_filters=16, kernel_size=3, num_repeat=1, expand_ratio=1, strides=(1, 1), se_ratio=0.25, id_skip=True, fused_conv=False, conv_type='depthwise'), BlockConfig(input_filters=16, output_filters=24, kernel_size=3, num_repeat=2, expand_ratio=6, strides=(2, 2), se_ratio=0.25, id_skip=True, fused_conv=False, conv_type='depthwise'), BlockConfig(input_filters=24, output_filters=40, kernel_size=5, num_repeat=2, expand_ratio=6, strides=(2, 2), se_ratio=0.25, id_skip=True, fused_conv=False, conv_type='depthwise'), BlockConfig(input_filters=40, output_filters=80, kernel_size=3, num_repeat=3, expand_ratio=6, strides=(2, 2), se_ratio=0.25, id_skip=True, fused_conv=False, conv_type='depthwise'), BlockConfig(input_filters=80, output_filters=112, kernel_size=5, num_repeat=3, expand_ratio=6, strides=(1, 1), se_ratio=0.25, id_skip=True, fused_conv=False, conv_type='depthwise'), BlockConfig(input_filters=112, output_filters=192, kernel_size=5, num_repeat=4, expand_ratio=6, strides=(2, 2), se_ratio=0.25, id_skip=True, fused_conv=False, conv_type='depthwise'), BlockConfig(input_filters=192, output_filters=320, kernel_size=3, num_repeat=1, expand_ratio=6, strides=(1, 1), se_ratio=0.25, id_skip=True, fused_conv=False, conv_type='depthwise')), stem_base_filters=32, top_base_filters=1280, activation='simple_swish', batch_norm='default', bn_momentum=0.99, bn_epsilon=0.001, weight_decay=5e-06, drop_connect_rate=0.2, depth_divisor=8, min_depth=None, use_se=True, input_channels=3, num_classes=1000, model_name='efficientnet', rescale_input=False, data_format='channels_last', dtype='float32')\n",
            "I0516 11:31:02.426781 140715760068480 ssd_efficientnet_bifpn_feature_extractor.py:146] EfficientDet EfficientNet backbone version: efficientnet-b7\n",
            "I0516 11:31:02.426987 140715760068480 ssd_efficientnet_bifpn_feature_extractor.py:147] EfficientDet BiFPN num filters: 384\n",
            "I0516 11:31:02.427137 140715760068480 ssd_efficientnet_bifpn_feature_extractor.py:149] EfficientDet BiFPN num iterations: 8\n",
            "I0516 11:31:02.429003 140715760068480 efficientnet_model.py:144] round_filter input=32 output=64\n",
            "I0516 11:31:02.450287 140715760068480 efficientnet_model.py:144] round_filter input=32 output=64\n",
            "I0516 11:31:02.450427 140715760068480 efficientnet_model.py:144] round_filter input=16 output=32\n",
            "I0516 11:31:02.783762 140715760068480 efficientnet_model.py:144] round_filter input=16 output=32\n",
            "I0516 11:31:02.784003 140715760068480 efficientnet_model.py:144] round_filter input=24 output=48\n",
            "I0516 11:31:03.452651 140715760068480 efficientnet_model.py:144] round_filter input=24 output=48\n",
            "I0516 11:31:03.452847 140715760068480 efficientnet_model.py:144] round_filter input=40 output=80\n",
            "I0516 11:31:04.126705 140715760068480 efficientnet_model.py:144] round_filter input=40 output=80\n",
            "I0516 11:31:04.126909 140715760068480 efficientnet_model.py:144] round_filter input=80 output=160\n",
            "I0516 11:31:05.076138 140715760068480 efficientnet_model.py:144] round_filter input=80 output=160\n",
            "I0516 11:31:05.076348 140715760068480 efficientnet_model.py:144] round_filter input=112 output=224\n",
            "I0516 11:31:06.034368 140715760068480 efficientnet_model.py:144] round_filter input=112 output=224\n",
            "I0516 11:31:06.034568 140715760068480 efficientnet_model.py:144] round_filter input=192 output=384\n",
            "I0516 11:31:07.291600 140715760068480 efficientnet_model.py:144] round_filter input=192 output=384\n",
            "I0516 11:31:07.291793 140715760068480 efficientnet_model.py:144] round_filter input=320 output=640\n",
            "I0516 11:31:07.988259 140715760068480 efficientnet_model.py:144] round_filter input=1280 output=2560\n",
            "I0516 11:31:08.024362 140715760068480 efficientnet_model.py:454] Building model efficientnet with params ModelConfig(width_coefficient=2.0, depth_coefficient=3.1, resolution=600, dropout_rate=0.5, blocks=(BlockConfig(input_filters=32, output_filters=16, kernel_size=3, num_repeat=1, expand_ratio=1, strides=(1, 1), se_ratio=0.25, id_skip=True, fused_conv=False, conv_type='depthwise'), BlockConfig(input_filters=16, output_filters=24, kernel_size=3, num_repeat=2, expand_ratio=6, strides=(2, 2), se_ratio=0.25, id_skip=True, fused_conv=False, conv_type='depthwise'), BlockConfig(input_filters=24, output_filters=40, kernel_size=5, num_repeat=2, expand_ratio=6, strides=(2, 2), se_ratio=0.25, id_skip=True, fused_conv=False, conv_type='depthwise'), BlockConfig(input_filters=40, output_filters=80, kernel_size=3, num_repeat=3, expand_ratio=6, strides=(2, 2), se_ratio=0.25, id_skip=True, fused_conv=False, conv_type='depthwise'), BlockConfig(input_filters=80, output_filters=112, kernel_size=5, num_repeat=3, expand_ratio=6, strides=(1, 1), se_ratio=0.25, id_skip=True, fused_conv=False, conv_type='depthwise'), BlockConfig(input_filters=112, output_filters=192, kernel_size=5, num_repeat=4, expand_ratio=6, strides=(2, 2), se_ratio=0.25, id_skip=True, fused_conv=False, conv_type='depthwise'), BlockConfig(input_filters=192, output_filters=320, kernel_size=3, num_repeat=1, expand_ratio=6, strides=(1, 1), se_ratio=0.25, id_skip=True, fused_conv=False, conv_type='depthwise')), stem_base_filters=32, top_base_filters=1280, activation='simple_swish', batch_norm='default', bn_momentum=0.99, bn_epsilon=0.001, weight_decay=5e-06, drop_connect_rate=0.2, depth_divisor=8, min_depth=None, use_se=True, input_channels=3, num_classes=1000, model_name='efficientnet', rescale_input=False, data_format='channels_last', dtype='float32')\n",
            "INFO:tensorflow:time(__main__.ModelBuilderTF2Test.test_create_ssd_models_from_config): 27.84s\n",
            "I0516 11:31:08.168972 140715760068480 test_util.py:2374] time(__main__.ModelBuilderTF2Test.test_create_ssd_models_from_config): 27.84s\n",
            "[       OK ] ModelBuilderTF2Test.test_create_ssd_models_from_config\n",
            "[ RUN      ] ModelBuilderTF2Test.test_invalid_faster_rcnn_batchnorm_update\n",
            "INFO:tensorflow:time(__main__.ModelBuilderTF2Test.test_invalid_faster_rcnn_batchnorm_update): 0.0s\n",
            "I0516 11:31:08.176601 140715760068480 test_util.py:2374] time(__main__.ModelBuilderTF2Test.test_invalid_faster_rcnn_batchnorm_update): 0.0s\n",
            "[       OK ] ModelBuilderTF2Test.test_invalid_faster_rcnn_batchnorm_update\n",
            "[ RUN      ] ModelBuilderTF2Test.test_invalid_first_stage_nms_iou_threshold\n",
            "INFO:tensorflow:time(__main__.ModelBuilderTF2Test.test_invalid_first_stage_nms_iou_threshold): 0.0s\n",
            "I0516 11:31:08.178531 140715760068480 test_util.py:2374] time(__main__.ModelBuilderTF2Test.test_invalid_first_stage_nms_iou_threshold): 0.0s\n",
            "[       OK ] ModelBuilderTF2Test.test_invalid_first_stage_nms_iou_threshold\n",
            "[ RUN      ] ModelBuilderTF2Test.test_invalid_model_config_proto\n",
            "INFO:tensorflow:time(__main__.ModelBuilderTF2Test.test_invalid_model_config_proto): 0.0s\n",
            "I0516 11:31:08.179151 140715760068480 test_util.py:2374] time(__main__.ModelBuilderTF2Test.test_invalid_model_config_proto): 0.0s\n",
            "[       OK ] ModelBuilderTF2Test.test_invalid_model_config_proto\n",
            "[ RUN      ] ModelBuilderTF2Test.test_invalid_second_stage_batch_size\n",
            "INFO:tensorflow:time(__main__.ModelBuilderTF2Test.test_invalid_second_stage_batch_size): 0.0s\n",
            "I0516 11:31:08.180979 140715760068480 test_util.py:2374] time(__main__.ModelBuilderTF2Test.test_invalid_second_stage_batch_size): 0.0s\n",
            "[       OK ] ModelBuilderTF2Test.test_invalid_second_stage_batch_size\n",
            "[ RUN      ] ModelBuilderTF2Test.test_session\n",
            "[  SKIPPED ] ModelBuilderTF2Test.test_session\n",
            "[ RUN      ] ModelBuilderTF2Test.test_unknown_faster_rcnn_feature_extractor\n",
            "INFO:tensorflow:time(__main__.ModelBuilderTF2Test.test_unknown_faster_rcnn_feature_extractor): 0.0s\n",
            "I0516 11:31:08.182670 140715760068480 test_util.py:2374] time(__main__.ModelBuilderTF2Test.test_unknown_faster_rcnn_feature_extractor): 0.0s\n",
            "[       OK ] ModelBuilderTF2Test.test_unknown_faster_rcnn_feature_extractor\n",
            "[ RUN      ] ModelBuilderTF2Test.test_unknown_meta_architecture\n",
            "INFO:tensorflow:time(__main__.ModelBuilderTF2Test.test_unknown_meta_architecture): 0.0s\n",
            "I0516 11:31:08.183351 140715760068480 test_util.py:2374] time(__main__.ModelBuilderTF2Test.test_unknown_meta_architecture): 0.0s\n",
            "[       OK ] ModelBuilderTF2Test.test_unknown_meta_architecture\n",
            "[ RUN      ] ModelBuilderTF2Test.test_unknown_ssd_feature_extractor\n",
            "INFO:tensorflow:time(__main__.ModelBuilderTF2Test.test_unknown_ssd_feature_extractor): 0.0s\n",
            "I0516 11:31:08.184513 140715760068480 test_util.py:2374] time(__main__.ModelBuilderTF2Test.test_unknown_ssd_feature_extractor): 0.0s\n",
            "[       OK ] ModelBuilderTF2Test.test_unknown_ssd_feature_extractor\n",
            "----------------------------------------------------------------------\n",
            "Ran 24 tests in 36.411s\n",
            "\n",
            "OK (skipped=1)\n"
          ]
        }
      ],
      "source": [
        "!python /content/models/research/object_detection/builders/model_builder_tf2_test.py"
      ]
    },
    {
      "cell_type": "markdown",
      "metadata": {
        "id": "7_R9_tihm698"
      },
      "source": [
        "check tensorflow version"
      ]
    },
    {
      "cell_type": "code",
      "execution_count": 5,
      "metadata": {
        "id": "dGSz44Hgm5xE",
        "outputId": "76499b56-7e1d-4d13-bd58-a7b1f5b767e8",
        "colab": {
          "base_uri": "https://localhost:8080/"
        }
      },
      "outputs": [
        {
          "output_type": "stream",
          "name": "stdout",
          "text": [
            "2.8.0\n"
          ]
        }
      ],
      "source": [
        "import tensorflow as tf\n",
        "print(tf.__version__)"
      ]
    },
    {
      "cell_type": "markdown",
      "metadata": {
        "id": "uO-DCYMhBkBb"
      },
      "source": [
        "Data Pre-Processing"
      ]
    },
    {
      "cell_type": "markdown",
      "metadata": {
        "id": "_55q-DIIoyDA"
      },
      "source": [
        "create tfrecords"
      ]
    },
    {
      "cell_type": "code",
      "execution_count": null,
      "metadata": {
        "id": "0mWzrWRvm6CB"
      },
      "outputs": [],
      "source": [
        "from time import time\n",
        "os.chdir(workdir)\n",
        "start = time()\n",
        "\n",
        "# Generate TFRecord for Training Data\n",
        "!python /content/utils/scripts/preprocessing/generate-tfrecord.py \\\n",
        "    -x images/train \\\n",
        "    -l annotations/label_map.pbtxt \\\n",
        "    -o annotations/train.record\n",
        "\n",
        "# Generate TFRecord for Validation Data\n",
        "!python /content/utils/scripts/preprocessing/generate-tfrecord.py \\\n",
        "    -x images/test \\\n",
        "    -l annotations/label_map.pbtxt \\\n",
        "    -o annotations/test.record\n",
        "\n",
        "print('records generated in {}s'.format(time()-start))"
      ]
    },
    {
      "cell_type": "markdown",
      "metadata": {
        "id": "dgDJjXPgBwNS"
      },
      "source": [
        "## Training"
      ]
    },
    {
      "cell_type": "markdown",
      "metadata": {
        "id": "LNBR8j-Fqrqm"
      },
      "source": [
        "start tensroboard monitoring"
      ]
    },
    {
      "cell_type": "code",
      "execution_count": null,
      "metadata": {
        "id": "gk3ho7kmm6KL"
      },
      "outputs": [],
      "source": [
        "os.chdir(workdir)\n",
        "%load_ext tensorboard\n",
        "%tensorboard --logdir=models/{mname}"
      ]
    },
    {
      "cell_type": "markdown",
      "metadata": {
        "id": "4NrQz1_fqz6z"
      },
      "source": [
        "start training job"
      ]
    },
    {
      "cell_type": "code",
      "execution_count": null,
      "metadata": {
        "id": "Z0Lv7ZTZqv-4"
      },
      "outputs": [],
      "source": [
        "os.chdir(workdir)\n",
        "!python /content/models/research/object_detection/model_main_tf2.py \\\n",
        "    --include masks \\\n",
        "    --model_dir=models/{mname} \\\n",
        "    --pipeline_config_path=models/{mname}/pipeline.config"
      ]
    },
    {
      "cell_type": "markdown",
      "metadata": {
        "id": "K2MO5gHKByT_"
      },
      "source": [
        "## Export Trained Model"
      ]
    },
    {
      "cell_type": "markdown",
      "metadata": {
        "id": "ewm9kBLMysEb"
      },
      "source": [
        "export model"
      ]
    },
    {
      "cell_type": "code",
      "execution_count": null,
      "metadata": {
        "id": "gMVcanz6q2be"
      },
      "outputs": [],
      "source": [
        "os.chdir(workdir)\n",
        "!python /tf/models/research/object_detection/exporter_main_v2.py \\\n",
        "    --input_type image_tensor \\\n",
        "    --pipeline_config_path ./models/{model})/pipeline.config \\\n",
        "    --trained_checkpoint_dir ./models/{model}/ \\\n",
        "    --output_directory ./exported-models/trained_model"
      ]
    }
  ],
  "metadata": {
    "accelerator": "GPU",
    "colab": {
      "name": "obj-detect.ipynb",
      "provenance": [],
      "include_colab_link": true
    },
    "kernelspec": {
      "display_name": "Python 3",
      "name": "python3"
    },
    "language_info": {
      "name": "python"
    }
  },
  "nbformat": 4,
  "nbformat_minor": 0
}