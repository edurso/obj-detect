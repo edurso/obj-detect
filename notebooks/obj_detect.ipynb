{
  "cells": [
    {
      "cell_type": "markdown",
      "metadata": {
        "id": "view-in-github",
        "colab_type": "text"
      },
      "source": [
        "<a href=\"https://colab.research.google.com/github/edurso/obj-detect/blob/master/notebooks/obj_detect.ipynb\" target=\"_parent\"><img src=\"https://colab.research.google.com/assets/colab-badge.svg\" alt=\"Open In Colab\"/></a>"
      ]
    },
    {
      "cell_type": "markdown",
      "metadata": {
        "id": "eWjiCHlcB3sr"
      },
      "source": [
        "# TensorFlow Object Detection Model Training Notebook\n",
        "\n",
        "structure of project:\n",
        "\n",
        "```\n",
        "training_demo/\n",
        "├─ annotations/\n",
        "│  └─ label_map.pbtxt\n",
        "├─ exported_models/\n",
        "├─ images/\n",
        "│  ├─ test/\n",
        "│  └─ train/\n",
        "├─ models/\n",
        "│  └─ ${MODEL}/\n",
        "│     └─ pipeline.config\n",
        "└─ pretrained_models/\n",
        "   └─ ${MODEL}/\n",
        "```\n",
        "\n",
        "where `${MODEL}` is a model from the [object detection model zoo](https://github.com/tensorflow/models/blob/master/research/object_detection/g3doc/tf2_detection_zoo.md)"
      ]
    },
    {
      "cell_type": "markdown",
      "metadata": {
        "id": "vbVhyMzWnm6s"
      },
      "source": [
        "mount data from google drive"
      ]
    },
    {
      "cell_type": "code",
      "execution_count": null,
      "metadata": {
        "id": "jRvKqfNqm5_Q"
      },
      "outputs": [],
      "source": [
        "workdir = '/content/workspace/MyDrive/tensorflow/rapid_react/'\n",
        "mname = 'ssd_resnet50_v1_fpn_640x640_coco17_tpu-8' # from model zoo\n",
        "mlink = 'http://download.tensorflow.org/models/object_detection/tf2/20200711/{}.tar.gz'.format(mname) # link to model zoo\n",
        "from google.colab import drive\n",
        "import os\n",
        "!mkdir -p /content/workspace\n",
        "drive.mount('/content/workspace')"
      ]
    },
    {
      "cell_type": "markdown",
      "source": [
        "## Set Up Workspace"
      ],
      "metadata": {
        "id": "OUqbVfONeaXK"
      }
    },
    {
      "cell_type": "markdown",
      "source": [
        "make `workdir` if it doesn't exist"
      ],
      "metadata": {
        "id": "XfJxVhBHf3Vu"
      }
    },
    {
      "cell_type": "code",
      "source": [
        "import pathlib\n",
        "\n",
        "os.chdir('/')\n",
        "if not pathlib.Path(workdir).exists():\n",
        "  !mkdir -p {workdir}"
      ],
      "metadata": {
        "id": "YGfMsjtnf6s5"
      },
      "execution_count": null,
      "outputs": []
    },
    {
      "cell_type": "markdown",
      "source": [
        "create working directory tree & download and extract model"
      ],
      "metadata": {
        "id": "RAUx7ulQfExk"
      }
    },
    {
      "cell_type": "code",
      "source": [
        "# make directory structure\n",
        "os.chdir(workdir)\n",
        "if not pathlib.Path(workdir + 'models/').exists():\n",
        "  !mkdir -p annotations/ exported_models/ pretrained_models/ images/\n",
        "\n",
        "  # download pretrained model\n",
        "  !wget {mlink}\n",
        "  !tar -xvzf {mname}.tar.gz\n",
        "  !mv {mname}/ pretrained_models/{mname}\n",
        "  !rm -rf {mname}.tar.gz\n",
        "\n",
        "  # make directory for model\n",
        "  !mkdir -p {workdir}models/{mname}\n",
        "  # !cp -r {workdir}pretrained_models/{mname}/checkpoint {workdir}models/{mname}/\n",
        "  !cp {workdir}pretrained_models/{mname}/pipeline.config {workdir}models/{mname}/"
      ],
      "metadata": {
        "id": "vKYKsjDpfE7y"
      },
      "execution_count": null,
      "outputs": []
    },
    {
      "cell_type": "markdown",
      "source": [
        "*Items now need to be uploaded/modified:*\n",
        "\n",
        "- `label_map.pbtxt` to `annotations/`\n",
        "- training and testing images/labels to `images/` after creating it with [this script](https://github.com/edurso/obj-detect/blob/master/scripts/partition-dataset.py)\n",
        "- `models/pipeline.config` needs to be modified to reflect the dataset\n",
        "\n",
        "*Pipeline Configuration:*\n",
        "\n",
        "- `model.ssd.num_classes`: set this to the number of different label classes as defined in `annotations/label-map.pbtxt`\n",
        "- `train_config.batch_size`: set this to the desired batch size (larger batch sizes require more memory during training)\n",
        "- `train_input_reader.label_map_path: \"annotations/label_map.pbtxt\"`\n",
        "- `train_input_reader.tf_record_input_reader.input_path: \"annotations/train.record\"`\n",
        "- `eval_config.metrics_set: \"coco_detection_metrics\"`: optional\n",
        "- `eval_config.use_moving_averages: false`: optional\n",
        "- `eval_input_reader.label_map_path: \"annotations/label_map.pbtxt\"`\n",
        "- `eval_input_reader.tf_record_input_reader.input_path: \"annotations/test.record\"`\n",
        "\n",
        "Depending on the model, additional configuration may be required."
      ],
      "metadata": {
        "id": "pu7JpCMpfFLF"
      }
    },
    {
      "cell_type": "code",
      "source": [
        "assert pathlib.Path(workdir + 'annotations/label_map.pbtxt').is_file()"
      ],
      "metadata": {
        "id": "XwjWS6FrfFRV"
      },
      "execution_count": null,
      "outputs": []
    },
    {
      "cell_type": "markdown",
      "metadata": {
        "id": "2uYaBi7pBPd3"
      },
      "source": [
        "## TensorFlow Object Detection API Installation"
      ]
    },
    {
      "cell_type": "markdown",
      "metadata": {
        "id": "W7xjZ31ZmIKe"
      },
      "source": [
        "clone tf models repo & utility repo (if not already present)"
      ]
    },
    {
      "cell_type": "code",
      "execution_count": null,
      "metadata": {
        "id": "fm9GSDiflfYP"
      },
      "outputs": [],
      "source": [
        "import pathlib\n",
        "\n",
        "os.chdir('/content/')\n",
        "\n",
        "if \"models\" in pathlib.Path.cwd().parts:\n",
        "  while \"models\" in pathlib.Path.cwd().parts:\n",
        "    os.chdir('..')\n",
        "elif not pathlib.Path('models').exists():\n",
        "  !git clone --depth 1 https://github.com/tensorflow/models /content/models\n",
        "\n",
        "if \"utils\" in pathlib.Path.cwd().parts:\n",
        "  while \"utils\" in pathlib.Path.cwd().parts:\n",
        "    os.chdir('..')\n",
        "elif not pathlib.Path('utils').exists():\n",
        "  !git clone --depth 1 https://github.com/edurso/obj-detect /content/utils"
      ]
    },
    {
      "cell_type": "markdown",
      "metadata": {
        "id": "TR2Swk8pmV9k"
      },
      "source": [
        "install object_detection package"
      ]
    },
    {
      "cell_type": "code",
      "execution_count": null,
      "metadata": {
        "id": "zvpp7MU-l_AB"
      },
      "outputs": [],
      "source": [
        "%%bash\n",
        "\n",
        "# update pip\n",
        "python3 -m pip install --upgrade pip\n",
        "\n",
        "# check opencv dependency versions\n",
        "python3 -m pip install chainer\n",
        "python3 -m pip uninstall opencv-python-headless==4.5.5.62 \n",
        "python3 -m pip install opencv-python-headless==4.1.2.30\n",
        "\n",
        "# compile protos and install object_detection\n",
        "cd /content/models/research/\n",
        "protoc object_detection/protos/*.proto --python_out=.\n",
        "cp object_detection/packages/tf2/setup.py .\n",
        "python3 -m pip install . --quiet"
      ]
    },
    {
      "cell_type": "markdown",
      "metadata": {
        "id": "eKOZmX3DmZAL"
      },
      "source": [
        "test installation"
      ]
    },
    {
      "cell_type": "code",
      "execution_count": null,
      "metadata": {
        "id": "zronKfrQmETl"
      },
      "outputs": [],
      "source": [
        "!python3 /content/models/research/object_detection/builders/model_builder_tf2_test.py"
      ]
    },
    {
      "cell_type": "markdown",
      "source": [
        "check version"
      ],
      "metadata": {
        "id": "XAf1QTuF_yxx"
      }
    },
    {
      "cell_type": "code",
      "source": [
        "!pip3 show object-detection"
      ],
      "metadata": {
        "id": "t38fE-rD_0JE"
      },
      "execution_count": null,
      "outputs": []
    },
    {
      "cell_type": "markdown",
      "source": [
        "update cudnn"
      ],
      "metadata": {
        "id": "uG-4TnM0FDkv"
      }
    },
    {
      "cell_type": "code",
      "source": [
        "!dpkg --configure -a\n",
        "!apt-get install --allow-change-held-packages libcudnn8=8.1.0.77-1+cuda11.2\n",
        "!apt-get install --allow-change-held-packages libcudnn8-dev=8.1.0.77-1+cuda11.2"
      ],
      "metadata": {
        "id": "hTqhjzVSEnbD"
      },
      "execution_count": null,
      "outputs": []
    },
    {
      "cell_type": "code",
      "source": [
        "!nvcc --version\n",
        "!nvidia-smi\n",
        "import chainer\n",
        "chainer.print_runtime_info()"
      ],
      "metadata": {
        "id": "TBb4tJ-GCiJ3"
      },
      "execution_count": null,
      "outputs": []
    },
    {
      "cell_type": "markdown",
      "metadata": {
        "id": "7_R9_tihm698"
      },
      "source": [
        "check tensorflow version"
      ]
    },
    {
      "cell_type": "code",
      "execution_count": null,
      "metadata": {
        "id": "dGSz44Hgm5xE"
      },
      "outputs": [],
      "source": [
        "import tensorflow as tf\n",
        "print(tf.__version__)"
      ]
    },
    {
      "cell_type": "markdown",
      "metadata": {
        "id": "uO-DCYMhBkBb"
      },
      "source": [
        "## Data Pre-Processing"
      ]
    },
    {
      "cell_type": "markdown",
      "metadata": {
        "id": "_55q-DIIoyDA"
      },
      "source": [
        "create tfrecords"
      ]
    },
    {
      "cell_type": "code",
      "execution_count": null,
      "metadata": {
        "id": "0mWzrWRvm6CB"
      },
      "outputs": [],
      "source": [
        "from time import time\n",
        "os.chdir(workdir)\n",
        "start = time()\n",
        "\n",
        "# Generate TFRecord for Training Data\n",
        "!python3 /content/utils/scripts/generate-tfrecord.py \\\n",
        "    -x images/train \\\n",
        "    -l annotations/label_map.pbtxt \\\n",
        "    -o annotations/train.record\n",
        "\n",
        "# Generate TFRecord for Validation Data\n",
        "!python3 /content/utils/scripts/generate-tfrecord.py \\\n",
        "    -x images/test \\\n",
        "    -l annotations/label_map.pbtxt \\\n",
        "    -o annotations/test.record\n",
        "\n",
        "print('records generated in {}s'.format(time()-start))"
      ]
    },
    {
      "cell_type": "markdown",
      "metadata": {
        "id": "dgDJjXPgBwNS"
      },
      "source": [
        "## Training"
      ]
    },
    {
      "cell_type": "markdown",
      "metadata": {
        "id": "LNBR8j-Fqrqm"
      },
      "source": [
        "start tensroboard monitoring"
      ]
    },
    {
      "cell_type": "code",
      "execution_count": null,
      "metadata": {
        "id": "gk3ho7kmm6KL"
      },
      "outputs": [],
      "source": [
        "os.chdir(workdir)\n",
        "%load_ext tensorboard\n",
        "%tensorboard --logdir=models/{mname}"
      ]
    },
    {
      "cell_type": "markdown",
      "metadata": {
        "id": "4NrQz1_fqz6z"
      },
      "source": [
        "start training job"
      ]
    },
    {
      "cell_type": "code",
      "execution_count": null,
      "metadata": {
        "id": "Z0Lv7ZTZqv-4"
      },
      "outputs": [],
      "source": [
        "os.chdir(workdir)\n",
        "!python3 /content/models/research/object_detection/model_main_tf2.py \\\n",
        "    --include masks \\\n",
        "    --model_dir=models/{mname} \\\n",
        "    --pipeline_config_path=models/{mname}/pipeline.config"
      ]
    },
    {
      "cell_type": "markdown",
      "metadata": {
        "id": "K2MO5gHKByT_"
      },
      "source": [
        "## Export Trained Model"
      ]
    },
    {
      "cell_type": "markdown",
      "metadata": {
        "id": "ewm9kBLMysEb"
      },
      "source": [
        "export model"
      ]
    },
    {
      "cell_type": "code",
      "execution_count": null,
      "metadata": {
        "id": "gMVcanz6q2be"
      },
      "outputs": [],
      "source": [
        "os.chdir(workdir)\n",
        "!mkdir -p {workdir}exported_models/trained_model/\n",
        "!python3 /content/models/research/object_detection/exporter_main_v2.py \\\n",
        "    --input_type float_image_tensor \\\n",
        "    --pipeline_config_path ./models/{mname}/pipeline.config \\\n",
        "    --trained_checkpoint_dir ./models/{mname}/ \\\n",
        "    --output_directory {workdir}exported_models/trained_model/"
      ]
    },
    {
      "cell_type": "markdown",
      "source": [
        "copy label file to deployable model"
      ],
      "metadata": {
        "id": "fNabhjxkxAIj"
      }
    },
    {
      "cell_type": "code",
      "source": [
        "!cp {workdir}annotations/label_map.pbtxt {workdir}exported_models/trained_model/label_map.pbtxt\n",
        "!cat {workdir}annotations/label_map.pbtxt"
      ],
      "metadata": {
        "id": "nh3aD0cDwtFr"
      },
      "execution_count": null,
      "outputs": []
    },
    {
      "cell_type": "markdown",
      "source": [
        "the [`tensorrt.ipynb`](https://github.com/edurso/obj-detect/blob/master/notebooks/tensorrt.ipynb) notebook will use this to build a tensorrt engine"
      ],
      "metadata": {
        "id": "iHpejSbscfgE"
      }
    }
  ],
  "metadata": {
    "accelerator": "GPU",
    "colab": {
      "name": "obj-detect.ipynb",
      "provenance": [],
      "include_colab_link": true
    },
    "kernelspec": {
      "display_name": "Python 3",
      "name": "python3"
    },
    "language_info": {
      "name": "python"
    }
  },
  "nbformat": 4,
  "nbformat_minor": 0
}