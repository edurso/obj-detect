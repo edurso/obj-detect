{
  "cells": [
    {
      "cell_type": "markdown",
      "metadata": {
        "colab_type": "text",
        "id": "view-in-github"
      },
      "source": [
        "<a href=\"https://colab.research.google.com/github/edurso/obj-detect/blob/master/notebooks/obj_detect.ipynb\" target=\"_parent\"><img src=\"https://colab.research.google.com/assets/colab-badge.svg\" alt=\"Open In Colab\"/></a>"
      ]
    },
    {
      "cell_type": "markdown",
      "metadata": {
        "id": "eWjiCHlcB3sr"
      },
      "source": [
        "# TensorFlow Object Detection Model Training Notebook\n",
        "\n",
        "structure of project:\n",
        "\n",
        "```\n",
        "training-demo/\n",
        "├─ annotations/\n",
        "│  └─ label_map.pbtxt\n",
        "├─ exported-models/\n",
        "├─ images/\n",
        "│  ├─ test/\n",
        "│  └─ train/\n",
        "├─ models/\n",
        "│  └─ ${MODEL}/\n",
        "│     └─ pipeline.config\n",
        "└─ pre-trained-models/\n",
        "   └─ ${MODEL}/\n",
        "```\n",
        "\n",
        "where `${MODEL}` is a model from the [object detection zoo](https://github.com/tensorflow/models/blob/master/research/object_detection/g3doc/tf2_detection_zoo.md)"
      ]
    },
    {
      "cell_type": "markdown",
      "metadata": {
        "id": "2uYaBi7pBPd3"
      },
      "source": [
        "## TensorFlow Object Detection API Installation"
      ]
    },
    {
      "cell_type": "markdown",
      "metadata": {
        "id": "vbVhyMzWnm6s"
      },
      "source": [
        "mount data from google drive"
      ]
    },
    {
      "cell_type": "code",
      "execution_count": null,
      "metadata": {
        "id": "jRvKqfNqm5_Q"
      },
      "outputs": [],
      "source": [
        "workdir = '/content/workspace/MyDrive/tensorflow/power-port-targeting/'\n",
        "mname = 'ssd_resnet50_v1_fpn_640x640_coco17_tpu-8'\n",
        "from google.colab import drive\n",
        "import os\n",
        "!mkdir -p /content/workspace\n",
        "drive.mount('/content/workspace')"
      ]
    },
    {
      "cell_type": "markdown",
      "metadata": {
        "id": "W7xjZ31ZmIKe"
      },
      "source": [
        "clone tf models repo & utility repo (if not already present)"
      ]
    },
    {
      "cell_type": "code",
      "execution_count": null,
      "metadata": {
        "id": "fm9GSDiflfYP"
      },
      "outputs": [],
      "source": [
        "import os\n",
        "import pathlib\n",
        "\n",
        "if \"models\" in pathlib.Path.cwd().parts:\n",
        "  while \"models\" in pathlib.Path.cwd().parts:\n",
        "    os.chdir('..')\n",
        "elif not pathlib.Path('models').exists():\n",
        "  !git clone --depth 1 https://github.com/tensorflow/models\n",
        "\n",
        "if \"utils\" in pathlib.Path.cwd().parts:\n",
        "  while \"utils\" in pathlib.Path.cwd().parts:\n",
        "    os.chdir('..')\n",
        "elif not pathlib.Path('utils').exists():\n",
        "  !git clone --depth 1 https://github.com/edurso/obj-detect /content/utils"
      ]
    },
    {
      "cell_type": "markdown",
      "metadata": {
        "id": "TR2Swk8pmV9k"
      },
      "source": [
        "install object_detection package"
      ]
    },
    {
      "cell_type": "code",
      "execution_count": null,
      "metadata": {
        "id": "zvpp7MU-l_AB"
      },
      "outputs": [],
      "source": [
        "%%bash\n",
        "\n",
        "# update pip\n",
        "pip install --upgrade pip\n",
        "\n",
        "# check opencv dependency versions\n",
        "pip uninstall opencv-python-headless==4.5.5.62 \n",
        "pip install opencv-python-headless==4.1.2.30\n",
        "\n",
        "# compile protos and install object_detection\n",
        "cd models/research/\n",
        "protoc object_detection/protos/*.proto --python_out=.\n",
        "cp object_detection/packages/tf2/setup.py .\n",
        "python -m pip install . --quiet"
      ]
    },
    {
      "cell_type": "markdown",
      "metadata": {
        "id": "eKOZmX3DmZAL"
      },
      "source": [
        "test installation"
      ]
    },
    {
      "cell_type": "code",
      "execution_count": null,
      "metadata": {
        "id": "zronKfrQmETl"
      },
      "outputs": [],
      "source": [
        "!python /content/models/research/object_detection/builders/model_builder_tf2_test.py"
      ]
    },
    {
      "cell_type": "markdown",
      "metadata": {
        "id": "7_R9_tihm698"
      },
      "source": [
        "check tensorflow version"
      ]
    },
    {
      "cell_type": "code",
      "execution_count": null,
      "metadata": {
        "id": "dGSz44Hgm5xE"
      },
      "outputs": [],
      "source": [
        "import tensorflow as tf\n",
        "print(tf.__version__)"
      ]
    },
    {
      "cell_type": "markdown",
      "metadata": {
        "id": "uO-DCYMhBkBb"
      },
      "source": [
        "Data Pre-Processing"
      ]
    },
    {
      "cell_type": "markdown",
      "metadata": {
        "id": "_55q-DIIoyDA"
      },
      "source": [
        "create tfrecords"
      ]
    },
    {
      "cell_type": "code",
      "execution_count": null,
      "metadata": {
        "id": "0mWzrWRvm6CB"
      },
      "outputs": [],
      "source": [
        "from time import time\n",
        "os.chdir(workdir)\n",
        "start = time()\n",
        "\n",
        "# Generate TFRecord for Training Data\n",
        "!python /content/utils/scripts/preprocessing/generate-tfrecord.py \\\n",
        "    -x images/train \\\n",
        "    -l annotations/label_map.pbtxt \\\n",
        "    -o annotations/train.record\n",
        "\n",
        "# Generate TFRecord for Validation Data\n",
        "!python /content/utils/scripts/preprocessing/generate-tfrecord.py \\\n",
        "    -x images/test \\\n",
        "    -l annotations/label_map.pbtxt \\\n",
        "    -o annotations/test.record\n",
        "\n",
        "print('records generated in {}s'.format(time()-start))"
      ]
    },
    {
      "cell_type": "markdown",
      "metadata": {
        "id": "dgDJjXPgBwNS"
      },
      "source": [
        "## Training"
      ]
    },
    {
      "cell_type": "markdown",
      "metadata": {
        "id": "LNBR8j-Fqrqm"
      },
      "source": [
        "start tensroboard monitoring"
      ]
    },
    {
      "cell_type": "code",
      "execution_count": null,
      "metadata": {
        "id": "gk3ho7kmm6KL"
      },
      "outputs": [],
      "source": [
        "os.chdir(workdir)\n",
        "%load_ext tensorboard\n",
        "%tensorboard --logdir=models/{mname}"
      ]
    },
    {
      "cell_type": "markdown",
      "metadata": {
        "id": "4NrQz1_fqz6z"
      },
      "source": [
        "start training job"
      ]
    },
    {
      "cell_type": "code",
      "execution_count": null,
      "metadata": {
        "id": "Z0Lv7ZTZqv-4"
      },
      "outputs": [],
      "source": [
        "os.chdir(workdir)\n",
        "!python /content/models/research/object_detection/model_main_tf2.py \\\n",
        "    --include masks \\\n",
        "    --model_dir=models/{mname} \\\n",
        "    --pipeline_config_path=models/{mname}/pipeline.config"
      ]
    },
    {
      "cell_type": "markdown",
      "metadata": {
        "id": "K2MO5gHKByT_"
      },
      "source": [
        "## Export Trained Model"
      ]
    },
    {
      "cell_type": "markdown",
      "metadata": {
        "id": "ewm9kBLMysEb"
      },
      "source": [
        "export model"
      ]
    },
    {
      "cell_type": "code",
      "execution_count": null,
      "metadata": {
        "id": "gMVcanz6q2be"
      },
      "outputs": [],
      "source": [
        "os.chdir(workdir)\n",
        "!python /tf/models/research/object_detection/exporter_main_v2.py \\\n",
        "    --input_type image_tensor \\\n",
        "    --pipeline_config_path ./models/{model})/pipeline.config \\\n",
        "    --trained_checkpoint_dir ./models/{model}/ \\\n",
        "    --output_directory ./exported-models/trained_model"
      ]
    }
  ],
  "metadata": {
    "accelerator": "GPU",
    "colab": {
      "authorship_tag": "ABX9TyNzElHsCOa6uRHNArAiqH8b",
      "include_colab_link": true,
      "name": "obj-detect.ipynb",
      "provenance": []
    },
    "kernelspec": {
      "display_name": "Python 3",
      "name": "python3"
    },
    "language_info": {
      "name": "python"
    }
  },
  "nbformat": 4,
  "nbformat_minor": 0
}
