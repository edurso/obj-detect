{
  "nbformat": 4,
  "nbformat_minor": 0,
  "metadata": {
    "colab": {
      "name": "tensorrt.ipynb",
      "provenance": [],
      "authorship_tag": "ABX9TyPRMYXBhbuoSVB8jFMZj1cK"
    },
    "kernelspec": {
      "name": "python3",
      "display_name": "Python 3"
    },
    "language_info": {
      "name": "python"
    }
  },
  "cells": [
    {
      "cell_type": "markdown",
      "source": [
        "# Convert TensroFlow saved_model to [TensorRT](https://github.com/NVIDIA/TensorRT/tree/main/samples/python/tensorflow_object_detection_api) Engine"
      ],
      "metadata": {
        "id": "1mFz89uCrCT1"
      }
    },
    {
      "cell_type": "markdown",
      "source": [
        "define model location"
      ],
      "metadata": {
        "id": "yUW6HSNtt5_1"
      }
    },
    {
      "cell_type": "code",
      "source": [
        "workdir = '/home/edurso/workspace/obj-detect/models/trained_model/'\n",
        "mname = 'ssd_resnet50_v1_fpn_640x640_coco17_tpu-8'"
      ],
      "metadata": {
        "id": "SnPfgeE1rh6I"
      },
      "execution_count": null,
      "outputs": []
    },
    {
      "cell_type": "markdown",
      "source": [
        "download `trained_model` from google drive to `workdir`"
      ],
      "metadata": {
        "id": "uMHXiLwAuqpi"
      }
    },
    {
      "cell_type": "markdown",
      "source": [
        "## Installation & Environment Configuration"
      ],
      "metadata": {
        "id": "5sIDMXa7u2Fe"
      }
    },
    {
      "cell_type": "markdown",
      "source": [
        "install tfod api"
      ],
      "metadata": {
        "id": "SOByLeeYrO4u"
      }
    },
    {
      "cell_type": "code",
      "execution_count": null,
      "metadata": {
        "id": "v7WvleJRq8kV"
      },
      "outputs": [],
      "source": [
        "import os\n",
        "import pathlib\n",
        "\n",
        "os.chdir('..')\n",
        "\n",
        "if \"models\" in pathlib.Path.cwd().parts:\n",
        "  while \"models\" in pathlib.Path.cwd().parts:\n",
        "    os.chdir('..')\n",
        "elif not pathlib.Path('models').exists():\n",
        "  !git clone --depth 1 https://github.com/tensorflow/models"
      ]
    },
    {
      "cell_type": "code",
      "source": [
        "%%bash\n",
        "\n",
        "# update pip\n",
        "pip3 install --upgrade pip\n",
        "\n",
        "# check opencv dependency versions\n",
        "pip3 uninstall opencv-python-headless==4.5.5.62 \n",
        "pip3 install opencv-python-headless==4.1.2.30\n",
        "pip3 install onnx-graphsurgeon==0.3.10 --index-url https://pypi.ngc.nvidia.com\n",
        "\n",
        "# compile protos and install object_detection\n",
        "cd models/research/\n",
        "protoc object_detection/protos/*.proto --python_out=.\n",
        "cp object_detection/packages/tf2/setup.py .\n",
        "python3 -m pip install . --quiet"
      ],
      "metadata": {
        "id": "uKThu3a2rZ5_"
      },
      "execution_count": null,
      "outputs": []
    },
    {
      "cell_type": "code",
      "source": [
        "!pip show object-detection"
      ],
      "metadata": {
        "id": "xrnd4Amarc1Y"
      },
      "execution_count": null,
      "outputs": []
    },
    {
      "cell_type": "markdown",
      "source": [
        "get tensorrt utility files"
      ],
      "metadata": {
        "id": "R6i4673tsAAz"
      }
    },
    {
      "cell_type": "code",
      "source": [
        "url = 'https://raw.githubusercontent.com/NVIDIA/TensorRT/main/samples/python/tensorflow_object_detection_api/{}.py'\n",
        "files = ['build_engine', 'create_onnx', 'infer', 'compare_tf', 'infer', 'onnx_utils', 'visualize']\n",
        "os.chdir('../scripts')\n",
        "for file in files:\n",
        "  furl = url.format(file)\n",
        "  !wget {furl}"
      ],
      "metadata": {
        "id": "KgaetwYcsE4F"
      },
      "execution_count": null,
      "outputs": []
    },
    {
      "cell_type": "markdown",
      "source": [
        "## Create TensorRT Engine"
      ],
      "metadata": {
        "id": "-03wJdovuzk9"
      }
    },
    {
      "cell_type": "code",
      "source": [
        "os.chdir('../scripts')\n",
        "!python3 create_onnx.py \\\n",
        "    --pipeline_config {workdir}pipeline.config \\\n",
        "    --saved_model {workdir}saved_model \\\n",
        "    --onnx {workdir}model.onnx"
      ],
      "metadata": {
        "id": "7Et08YQou_J3"
      },
      "execution_count": null,
      "outputs": []
    },
    {
      "cell_type": "code",
      "source": [
        "os.chdir('../scripts')\n",
        "!python3 build_engine.py \\\n",
        "    --onnx {workdir}model.onnx \\\n",
        "    --engine {workdir}engine.trt \\\n",
        "    --precision fp16"
      ],
      "metadata": {
        "id": "2ddDfupkv-uy"
      },
      "execution_count": null,
      "outputs": []
    },
    {
      "cell_type": "markdown",
      "source": [
        "## Test TensorRT Engine"
      ],
      "metadata": {
        "id": "wifi6ff2wKqM"
      }
    },
    {
      "cell_type": "code",
      "source": [
        "!trtexec \\\n",
        "    --loadEngine={workdir}engine.trt \\\n",
        "    --useCudaGraph --noDataTransfers \\\n",
        "    --iterations=100 --avgRuns=100"
      ],
      "metadata": {
        "id": "Q_XsLaDQwVg-"
      },
      "execution_count": null,
      "outputs": []
    },
    {
      "cell_type": "code",
      "source": [
        "os.chdir('../scripts')\n",
        "!python3 infer.py \\\n",
        "    --engine {workdir}engine.trt \\\n",
        "    --input ../img \\\n",
        "    --output {workdir}/output \\\n",
        "    --preprocessor fixed_shape_resizer \\\n",
        "    --labels {workdir}label_map.txt"
      ],
      "metadata": {
        "id": "sexALvpHxWPq"
      },
      "execution_count": null,
      "outputs": []
    }
  ]
}
