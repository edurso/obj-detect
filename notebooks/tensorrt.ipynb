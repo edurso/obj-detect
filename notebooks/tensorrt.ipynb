{
  "cells": [
    {
      "cell_type": "markdown",
      "metadata": {
        "id": "view-in-github",
        "colab_type": "text"
      },
      "source": [
        "<a href=\"https://colab.research.google.com/github/edurso/obj-detect/blob/master/notebooks/tensorrt.ipynb\" target=\"_parent\"><img src=\"https://colab.research.google.com/assets/colab-badge.svg\" alt=\"Open In Colab\"/></a>"
      ]
    },
    {
      "cell_type": "markdown",
      "metadata": {
        "id": "1mFz89uCrCT1"
      },
      "source": [
        "# Convert TensroFlow `saved_model` to [TensorRT](https://github.com/NVIDIA/TensorRT/tree/main/samples/python/tensorflow_object_detection_api) Engine"
      ]
    },
    {
      "cell_type": "markdown",
      "metadata": {
        "id": "yUW6HSNtt5_1"
      },
      "source": [
        "define model location"
      ]
    },
    {
      "cell_type": "code",
      "execution_count": null,
      "metadata": {
        "id": "SnPfgeE1rh6I"
      },
      "outputs": [],
      "source": [
        "workdir = '/content/workspace/MyDrive/tensorflow/rapid_react/exported_models/trained_model/'\n",
        "from google.colab import drive\n",
        "import os\n",
        "!mkdir -p /content/workspace\n",
        "drive.mount('/content/workspace')"
      ]
    },
    {
      "cell_type": "markdown",
      "metadata": {
        "id": "uMHXiLwAuqpi"
      },
      "source": [
        "download `trained_model` from google drive to `workdir`"
      ]
    },
    {
      "cell_type": "markdown",
      "source": [
        "check python version"
      ],
      "metadata": {
        "id": "h4HxR6xS9jho"
      }
    },
    {
      "cell_type": "code",
      "source": [
        "!python3 --version"
      ],
      "metadata": {
        "id": "Ua-RV_839Duq"
      },
      "execution_count": null,
      "outputs": []
    },
    {
      "cell_type": "markdown",
      "metadata": {
        "id": "5sIDMXa7u2Fe"
      },
      "source": [
        "## Installation & Environment Configuration"
      ]
    },
    {
      "cell_type": "markdown",
      "metadata": {
        "id": "SOByLeeYrO4u"
      },
      "source": [
        "install tfod api"
      ]
    },
    {
      "cell_type": "code",
      "execution_count": null,
      "metadata": {
        "id": "v7WvleJRq8kV"
      },
      "outputs": [],
      "source": [
        "import os\n",
        "import pathlib\n",
        "\n",
        "if \"models\" in pathlib.Path.cwd().parts:\n",
        "  while \"models\" in pathlib.Path.cwd().parts:\n",
        "    os.chdir('..')\n",
        "elif not pathlib.Path('models').exists():\n",
        "  !git clone --depth 1 https://github.com/tensorflow/models /content/models\n",
        "\n",
        "if \"utils\" in pathlib.Path.cwd().parts:\n",
        "  while \"utils\" in pathlib.Path.cwd().parts:\n",
        "    os.chdir('..')\n",
        "elif not pathlib.Path('utils').exists():\n",
        "  !git clone --depth 1 https://github.com/edurso/obj-detect /content/utils"
      ]
    },
    {
      "cell_type": "code",
      "execution_count": null,
      "metadata": {
        "id": "uKThu3a2rZ5_"
      },
      "outputs": [],
      "source": [
        "%%bash\n",
        "\n",
        "# update pip\n",
        "python3 -m pip install --upgrade setuptools pip\n",
        "\n",
        "# check opencv dependency versions\n",
        "python3 -m pip uninstall opencv-python-headless==4.5.5.62 \n",
        "python3 -m pip install opencv-python-headless==4.1.2.30\n",
        "python3 -m pip install onnx-graphsurgeon==0.3.10 --index-url https://pypi.ngc.nvidia.com"
      ]
    },
    {
      "cell_type": "code",
      "source": [
        "%%bash\n",
        "\n",
        "# compile protos and install object_detection\n",
        "cd /content/models/research/\n",
        "protoc object_detection/protos/*.proto --python_out=.\n",
        "cp object_detection/packages/tf2/setup.py .\n",
        "python3 -m pip install --use-feature=2020-resolver ."
      ],
      "metadata": {
        "id": "BT3hbLj2URBs"
      },
      "execution_count": null,
      "outputs": []
    },
    {
      "cell_type": "code",
      "source": [
        "!python3 -m pip show object-detection"
      ],
      "metadata": {
        "id": "wFdE8G0lTWyr"
      },
      "execution_count": null,
      "outputs": []
    },
    {
      "cell_type": "markdown",
      "source": [
        "install tensorrt"
      ],
      "metadata": {
        "id": "npGdio1AyyM7"
      }
    },
    {
      "cell_type": "code",
      "source": [
        "!nvidia-smi\n",
        "!python3 -m pip install nvidia-pyindex\n",
        "!python3 -m pip install pycuda onnx==1.8.1 onnxruntime==1.8.0 tf2onnx==1.8.1\n",
        "!python3 -m pip install onnx-graphsurgeon==0.3.10 --index-url https://pypi.ngc.nvidia.com\n",
        "!python3 -m pip install --upgrade --index-url https://pypi.ngc.nvidia.com nvidia-tensorrt\n",
        "import tensorrt\n",
        "print(tensorrt.__version__)"
      ],
      "metadata": {
        "id": "FYy6TeoA4QaP"
      },
      "execution_count": null,
      "outputs": []
    },
    {
      "cell_type": "markdown",
      "metadata": {
        "id": "R6i4673tsAAz"
      },
      "source": [
        "get tensorrt utility files"
      ]
    },
    {
      "cell_type": "code",
      "execution_count": null,
      "metadata": {
        "id": "KgaetwYcsE4F"
      },
      "outputs": [],
      "source": [
        "url = 'https://raw.githubusercontent.com/NVIDIA/TensorRT/main/samples/python/tensorflow_object_detection_api/{}.py'\n",
        "files = ['build_engine', 'create_onnx', 'image_batcher', 'infer', 'compare_tf', 'infer', 'onnx_utils', 'visualize']\n",
        "os.chdir('/content/utils/scripts')\n",
        "for file in files:\n",
        "    furl = url.format(file)\n",
        "    if not os.path.exists('/content/utils/scripts/{}.py'.format(file)):\n",
        "        !wget {furl}"
      ]
    },
    {
      "cell_type": "markdown",
      "metadata": {
        "id": "-03wJdovuzk9"
      },
      "source": [
        "## Create TensorRT Engine"
      ]
    },
    {
      "cell_type": "code",
      "execution_count": null,
      "metadata": {
        "id": "7Et08YQou_J3"
      },
      "outputs": [],
      "source": [
        "os.chdir('/content/utils/scripts')\n",
        "!echo {workdir}saved_model\n",
        "!python3 create_onnx.py \\\n",
        "    --pipeline_config {workdir}pipeline.config \\\n",
        "    --saved_model {workdir}saved_model \\\n",
        "    --onnx {workdir}model.onnx"
      ]
    },
    {
      "cell_type": "code",
      "execution_count": null,
      "metadata": {
        "id": "2ddDfupkv-uy"
      },
      "outputs": [],
      "source": [
        "os.chdir('/content/utils/scripts')\n",
        "!python3 build_engine.py \\\n",
        "    --onnx {workdir}model.onnx \\\n",
        "    --engine {workdir}engine.trt \\\n",
        "    --precision fp16 # for some reason this must be fp32, fp16 will not work"
      ]
    },
    {
      "cell_type": "markdown",
      "metadata": {
        "id": "wifi6ff2wKqM"
      },
      "source": [
        "## Test TensorRT Engine"
      ]
    },
    {
      "cell_type": "code",
      "execution_count": null,
      "metadata": {
        "id": "sexALvpHxWPq"
      },
      "outputs": [],
      "source": [
        "os.chdir('/content/utils/scripts')\n",
        "!python3 infer.py \\\n",
        "    --engine {workdir}engine.trt \\\n",
        "    --input /content/workspace/MyDrive/tensorflow/rapid_react/images/test \\\n",
        "    --output {workdir}output \\\n",
        "    --preprocessor fixed_shape_resizer \\\n",
        "    --labels {workdir}label_map.pbtxt"
      ]
    },
    {
      "cell_type": "markdown",
      "source": [
        "## Download TensorRT Engine (`engine.trt`)"
      ],
      "metadata": {
        "id": "jJ7T0syEGPv3"
      }
    },
    {
      "cell_type": "code",
      "execution_count": null,
      "metadata": {
        "id": "nAuQe24KyhPN"
      },
      "outputs": [],
      "source": [
        "os.chdir('/content/utils/scripts')\n",
        "from google.colab import files\n",
        "files.download(workdir + 'engine.trt')"
      ]
    },
    {
      "cell_type": "markdown",
      "source": [
        "`engine.trt` is ready for use"
      ],
      "metadata": {
        "id": "WgVOjrCbXoHL"
      }
    }
  ],
  "metadata": {
    "colab": {
      "name": "tensorrt.ipynb",
      "provenance": [],
      "include_colab_link": true
    },
    "kernelspec": {
      "display_name": "Python 3",
      "language": "python",
      "name": "python3"
    },
    "language_info": {
      "codemirror_mode": {
        "name": "ipython",
        "version": 3
      },
      "file_extension": ".py",
      "mimetype": "text/x-python",
      "name": "python",
      "nbconvert_exporter": "python",
      "pygments_lexer": "ipython3",
      "version": "3.6.9"
    },
    "accelerator": "GPU"
  },
  "nbformat": 4,
  "nbformat_minor": 0
}