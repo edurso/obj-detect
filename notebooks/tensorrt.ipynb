{
 "cells": [
  {
   "cell_type": "markdown",
   "metadata": {
    "id": "1mFz89uCrCT1"
   },
   "source": [
    "# Convert TensroFlow saved_model to [TensorRT](https://github.com/NVIDIA/TensorRT/tree/main/samples/python/tensorflow_object_detection_api) Engine"
   ]
  },
  {
   "cell_type": "markdown",
   "metadata": {
    "id": "yUW6HSNtt5_1"
   },
   "source": [
    "define model location"
   ]
  },
  {
   "cell_type": "code",
   "execution_count": 1,
   "metadata": {
    "id": "SnPfgeE1rh6I"
   },
   "outputs": [],
   "source": [
    "workdir = '/home/edurso/dev/obj-detect/models/trained_model/'\n",
    "mname = 'ssd_resnet50_v1_fpn_640x640_coco17_tpu-8'"
   ]
  },
  {
   "cell_type": "markdown",
   "metadata": {
    "id": "uMHXiLwAuqpi"
   },
   "source": [
    "download `trained_model` from google drive to `workdir`"
   ]
  },
  {
   "cell_type": "markdown",
   "metadata": {
    "id": "5sIDMXa7u2Fe"
   },
   "source": [
    "## Installation & Environment Configuration"
   ]
  },
  {
   "cell_type": "markdown",
   "metadata": {
    "id": "SOByLeeYrO4u"
   },
   "source": [
    "install tfod api"
   ]
  },
  {
   "cell_type": "code",
   "execution_count": 2,
   "metadata": {
    "id": "v7WvleJRq8kV"
   },
   "outputs": [
    {
     "name": "stdout",
     "output_type": "stream",
     "text": [
      "Cloning into 'models'...\n",
      "remote: Enumerating objects: 3344, done.\u001b[K\n",
      "remote: Counting objects: 100% (3344/3344), done.\u001b[K\n",
      "remote: Compressing objects: 100% (2780/2780), done.\u001b[K\n",
      "remote: Total 3344 (delta 882), reused 1390 (delta 513), pack-reused 0\u001b[K\n",
      "Receiving objects: 100% (3344/3344), 34.34 MiB | 7.24 MiB/s, done.\n",
      "Resolving deltas: 100% (882/882), done.\n"
     ]
    }
   ],
   "source": [
    "import os\n",
    "import pathlib\n",
    "\n",
    "os.chdir('..')\n",
    "\n",
    "if \"models\" in pathlib.Path.cwd().parts:\n",
    "    while \"models\" in pathlib.Path.cwd().parts:\n",
    "        os.chdir('..')\n",
    "elif not pathlib.Path('models').exists():\n",
    "    !git clone --depth 1 https://github.com/tensorflow/models"
   ]
  },
  {
   "cell_type": "code",
   "execution_count": 3,
   "metadata": {
    "id": "uKThu3a2rZ5_"
   },
   "outputs": [
    {
     "name": "stdout",
     "output_type": "stream",
     "text": [
      "Defaulting to user installation because normal site-packages is not writeable\n",
      "Requirement already satisfied: pip in /home/lightning/.local/lib/python3.6/site-packages (21.3.1)\n",
      "Defaulting to user installation because normal site-packages is not writeable\n",
      "Processing /home/lightning/dev/obj-detect/models/research\n",
      "  Preparing metadata (setup.py): started\n",
      "  Preparing metadata (setup.py): finished with status 'done'\n",
      "Collecting Cython\n",
      "  Using cached Cython-0.29.29-cp36-cp36m-manylinux_2_17_aarch64.manylinux2014_aarch64.manylinux_2_24_aarch64.whl (1.8 MB)\n",
      "Collecting apache-beam\n",
      "  Using cached apache_beam-2.38.0-cp36-cp36m-manylinux2014_aarch64.whl (11.2 MB)\n",
      "Collecting avro-python3\n",
      "  Using cached avro-python3-1.10.2.tar.gz (38 kB)\n",
      "  Preparing metadata (setup.py): started\n",
      "  Preparing metadata (setup.py): finished with status 'done'\n",
      "  Using cached avro-python3-1.10.1.tar.gz (38 kB)\n",
      "  Preparing metadata (setup.py): started\n",
      "  Preparing metadata (setup.py): finished with status 'done'\n",
      "  Using cached avro-python3-1.10.0.tar.gz (37 kB)\n",
      "  Preparing metadata (setup.py): started\n",
      "  Preparing metadata (setup.py): finished with status 'done'\n",
      "  Using cached avro-python3-1.9.2.1.tar.gz (37 kB)\n",
      "  Preparing metadata (setup.py): started\n",
      "  Preparing metadata (setup.py): finished with status 'done'\n",
      "  Using cached avro-python3-1.9.2.tar.gz (37 kB)\n",
      "  Preparing metadata (setup.py): started\n",
      "  Preparing metadata (setup.py): finished with status 'error'\n",
      "  Using cached avro-python3-1.9.1.tar.gz (36 kB)\n",
      "  Preparing metadata (setup.py): started\n",
      "  Preparing metadata (setup.py): finished with status 'done'\n",
      "Collecting contextlib2\n",
      "  Using cached contextlib2-21.6.0-py2.py3-none-any.whl (13 kB)\n",
      "Collecting keras\n",
      "  Using cached keras-2.9.0-py2.py3-none-any.whl (1.6 MB)\n",
      "Collecting lvis\n",
      "  Using cached lvis-0.5.3-py3-none-any.whl (14 kB)\n",
      "Requirement already satisfied: lxml in /usr/lib/python3/dist-packages (from object-detection==0.1) (4.2.1)\n",
      "Requirement already satisfied: matplotlib in /usr/lib/python3/dist-packages (from object-detection==0.1) (2.1.1)\n",
      "Requirement already satisfied: pandas in /usr/lib/python3/dist-packages (from object-detection==0.1) (0.22.0)\n",
      "Collecting pillow\n",
      "  Using cached Pillow-8.4.0-cp36-cp36m-manylinux_2_17_aarch64.manylinux2014_aarch64.whl (3.0 MB)\n",
      "Collecting pycocotools\n",
      "  Using cached pycocotools-2.0.4.tar.gz (106 kB)\n",
      "  Installing build dependencies: started\n",
      "  Installing build dependencies: finished with status 'done'\n",
      "  Getting requirements to build wheel: started\n",
      "  Getting requirements to build wheel: finished with status 'done'\n",
      "  Preparing metadata (pyproject.toml): started\n",
      "  Preparing metadata (pyproject.toml): finished with status 'done'\n",
      "Requirement already satisfied: scipy in /usr/lib/python3/dist-packages (from object-detection==0.1) (0.19.1)\n",
      "Requirement already satisfied: six in /usr/lib/python3/dist-packages (from object-detection==0.1) (1.11.0)\n"
     ]
    },
    {
     "name": "stderr",
     "output_type": "stream",
     "text": [
      "WARNING: --use-feature=2020-resolver no longer has any effect, since it is now the default dependency resolver in pip. This will become an error in pip 21.0.\n",
      "WARNING: Discarding https://files.pythonhosted.org/packages/cc/97/7a6970380ca8db9139a3cc0b0e3e0dd3e4bc584fb3644e1d06e71e1a55f0/avro-python3-1.10.2.tar.gz#sha256=3b63f24e6b04368c3e4a6f923f484be0230d821aad65ac36108edbff29e9aaab (from https://pypi.org/simple/avro-python3/) (requires-python:>=3.5). Requested avro-python3 from https://files.pythonhosted.org/packages/cc/97/7a6970380ca8db9139a3cc0b0e3e0dd3e4bc584fb3644e1d06e71e1a55f0/avro-python3-1.10.2.tar.gz#sha256=3b63f24e6b04368c3e4a6f923f484be0230d821aad65ac36108edbff29e9aaab (from object-detection==0.1) has inconsistent version: filename has '1.10.2', but metadata has 'file-.avro-VERSION.txt'\n",
      "WARNING: Discarding https://files.pythonhosted.org/packages/3f/84/ef37f882a7d93674d6fe1aa6e99f18cf2f34e9b775952f3d85587c11c92e/avro-python3-1.10.1.tar.gz#sha256=9027abeab63dd9b66bd3c564fa0670c70f78027ecb1978d96c6af7ed415b626b (from https://pypi.org/simple/avro-python3/) (requires-python:>=3.5). Requested avro-python3 from https://files.pythonhosted.org/packages/3f/84/ef37f882a7d93674d6fe1aa6e99f18cf2f34e9b775952f3d85587c11c92e/avro-python3-1.10.1.tar.gz#sha256=9027abeab63dd9b66bd3c564fa0670c70f78027ecb1978d96c6af7ed415b626b (from object-detection==0.1) has inconsistent version: filename has '1.10.1', but metadata has 'file-.avro-VERSION.txt'\n",
      "WARNING: Discarding https://files.pythonhosted.org/packages/b2/5a/819537be46d65a01f8b8c6046ed05603fb9ef88c663b8cca840263788d58/avro-python3-1.10.0.tar.gz#sha256=a455c215540b1fceb1823e2a918e94959b54cb363307c97869aa46b5b55bde05 (from https://pypi.org/simple/avro-python3/) (requires-python:>=3.5). Requested avro-python3 from https://files.pythonhosted.org/packages/b2/5a/819537be46d65a01f8b8c6046ed05603fb9ef88c663b8cca840263788d58/avro-python3-1.10.0.tar.gz#sha256=a455c215540b1fceb1823e2a918e94959b54cb363307c97869aa46b5b55bde05 (from object-detection==0.1) has inconsistent version: filename has '1.10.0', but metadata has 'file-.avro-VERSION.txt'\n",
      "WARNING: Discarding https://files.pythonhosted.org/packages/5a/80/acd1455bea0a9fcdc60a748a97dcbb3ff624726fb90987a0fc1c19e7a5a5/avro-python3-1.9.2.1.tar.gz#sha256=ca1e77a3da5ac98e8833588f71fb2e170b38e34787ee0e04920de0e9470b7d32 (from https://pypi.org/simple/avro-python3/) (requires-python:>=3.5). Requested avro-python3 from https://files.pythonhosted.org/packages/5a/80/acd1455bea0a9fcdc60a748a97dcbb3ff624726fb90987a0fc1c19e7a5a5/avro-python3-1.9.2.1.tar.gz#sha256=ca1e77a3da5ac98e8833588f71fb2e170b38e34787ee0e04920de0e9470b7d32 (from object-detection==0.1) has inconsistent version: filename has '1.9.2.1', but metadata has 'file-.avro-VERSION.txt'\n",
      "  ERROR: Command errored out with exit status 1:\n",
      "   command: /usr/bin/python3 -c 'import io, os, sys, setuptools, tokenize; sys.argv[0] = '\"'\"'/tmp/pip-install-k_ufu85e/avro-python3_cfea9685185640f5bac2cfb6e2fd332e/setup.py'\"'\"'; __file__='\"'\"'/tmp/pip-install-k_ufu85e/avro-python3_cfea9685185640f5bac2cfb6e2fd332e/setup.py'\"'\"';f = getattr(tokenize, '\"'\"'open'\"'\"', open)(__file__) if os.path.exists(__file__) else io.StringIO('\"'\"'from setuptools import setup; setup()'\"'\"');code = f.read().replace('\"'\"'\\r\\n'\"'\"', '\"'\"'\\n'\"'\"');f.close();exec(compile(code, __file__, '\"'\"'exec'\"'\"'))' egg_info --egg-base /tmp/pip-pip-egg-info-a03e4dv8\n",
      "       cwd: /tmp/pip-install-k_ufu85e/avro-python3_cfea9685185640f5bac2cfb6e2fd332e/\n",
      "  Complete output (5 lines):\n",
      "  Traceback (most recent call last):\n",
      "    File \"<string>\", line 1, in <module>\n",
      "    File \"/tmp/pip-install-k_ufu85e/avro-python3_cfea9685185640f5bac2cfb6e2fd332e/setup.py\", line 41, in <module>\n",
      "      import pycodestyle\n",
      "  ModuleNotFoundError: No module named 'pycodestyle'\n",
      "  ----------------------------------------\n",
      "WARNING: Discarding https://files.pythonhosted.org/packages/31/21/d98e2515e5ca0337d7e747e8065227ee77faf5c817bbb74391899613178a/avro-python3-1.9.2.tar.gz#sha256=f671f8b7ddfeeceadff03421890092c1bc4c4cb1e22c76755ef9bc27bf919da0 (from https://pypi.org/simple/avro-python3/) (requires-python:>=3.5). Command errored out with exit status 1: python setup.py egg_info Check the logs for full command output.\n",
      "ERROR: Could not find a version that satisfies the requirement tensorflow_io (from object-detection) (from versions: none)\n",
      "ERROR: No matching distribution found for tensorflow_io\n"
     ]
    },
    {
     "ename": "CalledProcessError",
     "evalue": "Command 'b'\\n# update pip\\npip3 install --upgrade pip\\n\\n# check opencv dependency versions\\n# pip3 uninstall opencv-python-headless==4.5.5.62 \\n# pip3 install opencv-python-headless==4.1.2.30\\n# pip3 install onnx-graphsurgeon==0.3.10 --index-url https://pypi.ngc.nvidia.com\\n\\n# compile protos and install object_detection\\ncd $(pwd)/models/research/\\nprotoc object_detection/protos/*.proto --python_out=.\\ncp object_detection/packages/tf2/setup.py .\\npython3 -m pip install --use-feature=2020-resolver .\\n'' returned non-zero exit status 1.",
     "output_type": "error",
     "traceback": [
      "\u001b[0;31m---------------------------------------------------------------------------\u001b[0m",
      "\u001b[0;31mCalledProcessError\u001b[0m                        Traceback (most recent call last)",
      "\u001b[0;32m<ipython-input-3-349c4250e1d5>\u001b[0m in \u001b[0;36m<module>\u001b[0;34m\u001b[0m\n\u001b[0;32m----> 1\u001b[0;31m \u001b[0mget_ipython\u001b[0m\u001b[0;34m(\u001b[0m\u001b[0;34m)\u001b[0m\u001b[0;34m.\u001b[0m\u001b[0mrun_cell_magic\u001b[0m\u001b[0;34m(\u001b[0m\u001b[0;34m'bash'\u001b[0m\u001b[0;34m,\u001b[0m \u001b[0;34m''\u001b[0m\u001b[0;34m,\u001b[0m \u001b[0;34m'\\n# update pip\\npip3 install --upgrade pip\\n\\n# check opencv dependency versions\\n# pip3 uninstall opencv-python-headless==4.5.5.62 \\n# pip3 install opencv-python-headless==4.1.2.30\\n# pip3 install onnx-graphsurgeon==0.3.10 --index-url https://pypi.ngc.nvidia.com\\n\\n# compile protos and install object_detection\\ncd $(pwd)/models/research/\\nprotoc object_detection/protos/*.proto --python_out=.\\ncp object_detection/packages/tf2/setup.py .\\npython3 -m pip install --use-feature=2020-resolver .\\n'\u001b[0m\u001b[0;34m)\u001b[0m\u001b[0;34m\u001b[0m\u001b[0;34m\u001b[0m\u001b[0m\n\u001b[0m",
      "\u001b[0;32m~/.local/lib/python3.6/site-packages/IPython/core/interactiveshell.py\u001b[0m in \u001b[0;36mrun_cell_magic\u001b[0;34m(self, magic_name, line, cell)\u001b[0m\n\u001b[1;32m   2369\u001b[0m             \u001b[0;32mwith\u001b[0m \u001b[0mself\u001b[0m\u001b[0;34m.\u001b[0m\u001b[0mbuiltin_trap\u001b[0m\u001b[0;34m:\u001b[0m\u001b[0;34m\u001b[0m\u001b[0;34m\u001b[0m\u001b[0m\n\u001b[1;32m   2370\u001b[0m                 \u001b[0margs\u001b[0m \u001b[0;34m=\u001b[0m \u001b[0;34m(\u001b[0m\u001b[0mmagic_arg_s\u001b[0m\u001b[0;34m,\u001b[0m \u001b[0mcell\u001b[0m\u001b[0;34m)\u001b[0m\u001b[0;34m\u001b[0m\u001b[0;34m\u001b[0m\u001b[0m\n\u001b[0;32m-> 2371\u001b[0;31m                 \u001b[0mresult\u001b[0m \u001b[0;34m=\u001b[0m \u001b[0mfn\u001b[0m\u001b[0;34m(\u001b[0m\u001b[0;34m*\u001b[0m\u001b[0margs\u001b[0m\u001b[0;34m,\u001b[0m \u001b[0;34m**\u001b[0m\u001b[0mkwargs\u001b[0m\u001b[0;34m)\u001b[0m\u001b[0;34m\u001b[0m\u001b[0;34m\u001b[0m\u001b[0m\n\u001b[0m\u001b[1;32m   2372\u001b[0m             \u001b[0;32mreturn\u001b[0m \u001b[0mresult\u001b[0m\u001b[0;34m\u001b[0m\u001b[0;34m\u001b[0m\u001b[0m\n\u001b[1;32m   2373\u001b[0m \u001b[0;34m\u001b[0m\u001b[0m\n",
      "\u001b[0;32m~/.local/lib/python3.6/site-packages/IPython/core/magics/script.py\u001b[0m in \u001b[0;36mnamed_script_magic\u001b[0;34m(line, cell)\u001b[0m\n\u001b[1;32m    140\u001b[0m             \u001b[0;32melse\u001b[0m\u001b[0;34m:\u001b[0m\u001b[0;34m\u001b[0m\u001b[0;34m\u001b[0m\u001b[0m\n\u001b[1;32m    141\u001b[0m                 \u001b[0mline\u001b[0m \u001b[0;34m=\u001b[0m \u001b[0mscript\u001b[0m\u001b[0;34m\u001b[0m\u001b[0;34m\u001b[0m\u001b[0m\n\u001b[0;32m--> 142\u001b[0;31m             \u001b[0;32mreturn\u001b[0m \u001b[0mself\u001b[0m\u001b[0;34m.\u001b[0m\u001b[0mshebang\u001b[0m\u001b[0;34m(\u001b[0m\u001b[0mline\u001b[0m\u001b[0;34m,\u001b[0m \u001b[0mcell\u001b[0m\u001b[0;34m)\u001b[0m\u001b[0;34m\u001b[0m\u001b[0;34m\u001b[0m\u001b[0m\n\u001b[0m\u001b[1;32m    143\u001b[0m \u001b[0;34m\u001b[0m\u001b[0m\n\u001b[1;32m    144\u001b[0m         \u001b[0;31m# write a basic docstring:\u001b[0m\u001b[0;34m\u001b[0m\u001b[0;34m\u001b[0m\u001b[0;34m\u001b[0m\u001b[0m\n",
      "\u001b[0;32m<decorator-gen-110>\u001b[0m in \u001b[0;36mshebang\u001b[0;34m(self, line, cell)\u001b[0m\n",
      "\u001b[0;32m~/.local/lib/python3.6/site-packages/IPython/core/magic.py\u001b[0m in \u001b[0;36m<lambda>\u001b[0;34m(f, *a, **k)\u001b[0m\n\u001b[1;32m    185\u001b[0m     \u001b[0;31m# but it's overkill for just that one bit of state.\u001b[0m\u001b[0;34m\u001b[0m\u001b[0;34m\u001b[0m\u001b[0;34m\u001b[0m\u001b[0m\n\u001b[1;32m    186\u001b[0m     \u001b[0;32mdef\u001b[0m \u001b[0mmagic_deco\u001b[0m\u001b[0;34m(\u001b[0m\u001b[0marg\u001b[0m\u001b[0;34m)\u001b[0m\u001b[0;34m:\u001b[0m\u001b[0;34m\u001b[0m\u001b[0;34m\u001b[0m\u001b[0m\n\u001b[0;32m--> 187\u001b[0;31m         \u001b[0mcall\u001b[0m \u001b[0;34m=\u001b[0m \u001b[0;32mlambda\u001b[0m \u001b[0mf\u001b[0m\u001b[0;34m,\u001b[0m \u001b[0;34m*\u001b[0m\u001b[0ma\u001b[0m\u001b[0;34m,\u001b[0m \u001b[0;34m**\u001b[0m\u001b[0mk\u001b[0m\u001b[0;34m:\u001b[0m \u001b[0mf\u001b[0m\u001b[0;34m(\u001b[0m\u001b[0;34m*\u001b[0m\u001b[0ma\u001b[0m\u001b[0;34m,\u001b[0m \u001b[0;34m**\u001b[0m\u001b[0mk\u001b[0m\u001b[0;34m)\u001b[0m\u001b[0;34m\u001b[0m\u001b[0;34m\u001b[0m\u001b[0m\n\u001b[0m\u001b[1;32m    188\u001b[0m \u001b[0;34m\u001b[0m\u001b[0m\n\u001b[1;32m    189\u001b[0m         \u001b[0;32mif\u001b[0m \u001b[0mcallable\u001b[0m\u001b[0;34m(\u001b[0m\u001b[0marg\u001b[0m\u001b[0;34m)\u001b[0m\u001b[0;34m:\u001b[0m\u001b[0;34m\u001b[0m\u001b[0;34m\u001b[0m\u001b[0m\n",
      "\u001b[0;32m~/.local/lib/python3.6/site-packages/IPython/core/magics/script.py\u001b[0m in \u001b[0;36mshebang\u001b[0;34m(self, line, cell)\u001b[0m\n\u001b[1;32m    243\u001b[0m             \u001b[0msys\u001b[0m\u001b[0;34m.\u001b[0m\u001b[0mstderr\u001b[0m\u001b[0;34m.\u001b[0m\u001b[0mflush\u001b[0m\u001b[0;34m(\u001b[0m\u001b[0;34m)\u001b[0m\u001b[0;34m\u001b[0m\u001b[0;34m\u001b[0m\u001b[0m\n\u001b[1;32m    244\u001b[0m         \u001b[0;32mif\u001b[0m \u001b[0margs\u001b[0m\u001b[0;34m.\u001b[0m\u001b[0mraise_error\u001b[0m \u001b[0;32mand\u001b[0m \u001b[0mp\u001b[0m\u001b[0;34m.\u001b[0m\u001b[0mreturncode\u001b[0m\u001b[0;34m!=\u001b[0m\u001b[0;36m0\u001b[0m\u001b[0;34m:\u001b[0m\u001b[0;34m\u001b[0m\u001b[0;34m\u001b[0m\u001b[0m\n\u001b[0;32m--> 245\u001b[0;31m             \u001b[0;32mraise\u001b[0m \u001b[0mCalledProcessError\u001b[0m\u001b[0;34m(\u001b[0m\u001b[0mp\u001b[0m\u001b[0;34m.\u001b[0m\u001b[0mreturncode\u001b[0m\u001b[0;34m,\u001b[0m \u001b[0mcell\u001b[0m\u001b[0;34m,\u001b[0m \u001b[0moutput\u001b[0m\u001b[0;34m=\u001b[0m\u001b[0mout\u001b[0m\u001b[0;34m,\u001b[0m \u001b[0mstderr\u001b[0m\u001b[0;34m=\u001b[0m\u001b[0merr\u001b[0m\u001b[0;34m)\u001b[0m\u001b[0;34m\u001b[0m\u001b[0;34m\u001b[0m\u001b[0m\n\u001b[0m\u001b[1;32m    246\u001b[0m \u001b[0;34m\u001b[0m\u001b[0m\n\u001b[1;32m    247\u001b[0m     \u001b[0;32mdef\u001b[0m \u001b[0m_run_script\u001b[0m\u001b[0;34m(\u001b[0m\u001b[0mself\u001b[0m\u001b[0;34m,\u001b[0m \u001b[0mp\u001b[0m\u001b[0;34m,\u001b[0m \u001b[0mcell\u001b[0m\u001b[0;34m,\u001b[0m \u001b[0mto_close\u001b[0m\u001b[0;34m)\u001b[0m\u001b[0;34m:\u001b[0m\u001b[0;34m\u001b[0m\u001b[0;34m\u001b[0m\u001b[0m\n",
      "\u001b[0;31mCalledProcessError\u001b[0m: Command 'b'\\n# update pip\\npip3 install --upgrade pip\\n\\n# check opencv dependency versions\\n# pip3 uninstall opencv-python-headless==4.5.5.62 \\n# pip3 install opencv-python-headless==4.1.2.30\\n# pip3 install onnx-graphsurgeon==0.3.10 --index-url https://pypi.ngc.nvidia.com\\n\\n# compile protos and install object_detection\\ncd $(pwd)/models/research/\\nprotoc object_detection/protos/*.proto --python_out=.\\ncp object_detection/packages/tf2/setup.py .\\npython3 -m pip install --use-feature=2020-resolver .\\n'' returned non-zero exit status 1."
     ]
    }
   ],
   "source": [
    "%%bash\n",
    "\n",
    "# update pip\n",
    "pip3 install --upgrade pip\n",
    "\n",
    "# check opencv dependency versions\n",
    "# pip3 uninstall opencv-python-headless==4.5.5.62 \n",
    "# pip3 install opencv-python-headless==4.1.2.30\n",
    "# pip3 install onnx-graphsurgeon==0.3.10 --index-url https://pypi.ngc.nvidia.com\n",
    "\n",
    "# compile protos and install object_detection\n",
    "cd $(pwd)/models/research/\n",
    "protoc object_detection/protos/*.proto --python_out=.\n",
    "cp object_detection/packages/tf2/setup.py .\n",
    "python3 -m pip install --use-feature=2020-resolver ."
   ]
  },
  {
   "cell_type": "code",
   "execution_count": null,
   "metadata": {
    "id": "xrnd4Amarc1Y"
   },
   "outputs": [],
   "source": [
    "!pip show object-detection"
   ]
  },
  {
   "cell_type": "markdown",
   "metadata": {
    "id": "R6i4673tsAAz"
   },
   "source": [
    "get tensorrt utility files"
   ]
  },
  {
   "cell_type": "code",
   "execution_count": null,
   "metadata": {
    "id": "KgaetwYcsE4F"
   },
   "outputs": [],
   "source": [
    "url = 'https://raw.githubusercontent.com/NVIDIA/TensorRT/main/samples/python/tensorflow_object_detection_api/{}.py'\n",
    "files = ['build_engine', 'create_onnx', 'infer', 'compare_tf', 'infer', 'onnx_utils', 'visualize']\n",
    "os.chdir('../scripts')\n",
    "for file in files:\n",
    "    furl = url.format(file)\n",
    "    !wget {furl}"
   ]
  },
  {
   "cell_type": "markdown",
   "metadata": {
    "id": "-03wJdovuzk9"
   },
   "source": [
    "## Create TensorRT Engine"
   ]
  },
  {
   "cell_type": "code",
   "execution_count": null,
   "metadata": {
    "id": "7Et08YQou_J3"
   },
   "outputs": [],
   "source": [
    "os.chdir('../scripts')\n",
    "!python3 create_onnx.py \\\n",
    "    --pipeline_config {workdir}pipeline.config \\\n",
    "    --saved_model {workdir}saved_model \\\n",
    "    --onnx {workdir}model.onnx"
   ]
  },
  {
   "cell_type": "code",
   "execution_count": null,
   "metadata": {
    "id": "2ddDfupkv-uy"
   },
   "outputs": [],
   "source": [
    "os.chdir('../scripts')\n",
    "!python3 build_engine.py \\\n",
    "    --onnx {workdir}model.onnx \\\n",
    "    --engine {workdir}engine.trt \\\n",
    "    --precision fp16"
   ]
  },
  {
   "cell_type": "markdown",
   "metadata": {
    "id": "wifi6ff2wKqM"
   },
   "source": [
    "## Test TensorRT Engine"
   ]
  },
  {
   "cell_type": "code",
   "execution_count": null,
   "metadata": {
    "id": "Q_XsLaDQwVg-"
   },
   "outputs": [],
   "source": [
    "!trtexec \\\n",
    "    --loadEngine={workdir}engine.trt \\\n",
    "    --useCudaGraph --noDataTransfers \\\n",
    "    --iterations=100 --avgRuns=100"
   ]
  },
  {
   "cell_type": "code",
   "execution_count": null,
   "metadata": {
    "id": "sexALvpHxWPq"
   },
   "outputs": [],
   "source": [
    "os.chdir('../scripts')\n",
    "!python3 infer.py \\\n",
    "    --engine {workdir}engine.trt \\\n",
    "    --input ../img \\\n",
    "    --output {workdir}/output \\\n",
    "    --preprocessor fixed_shape_resizer \\\n",
    "    --labels {workdir}label_map.txt"
   ]
  },
  {
   "cell_type": "markdown",
   "metadata": {},
   "source": [
    "## Clean Up"
   ]
  },
  {
   "cell_type": "code",
   "execution_count": null,
   "metadata": {},
   "outputs": [],
   "source": [
    "os.chdir('../scripts')\n",
    "for file in files:\n",
    "    fname = '{}.py'.format(file)\n",
    "    !rm -rf {fname}"
   ]
  }
 ],
 "metadata": {
  "colab": {
   "authorship_tag": "ABX9TyPRMYXBhbuoSVB8jFMZj1cK",
   "name": "tensorrt.ipynb",
   "provenance": []
  },
  "kernelspec": {
   "display_name": "Python 3",
   "language": "python",
   "name": "python3"
  },
  "language_info": {
   "codemirror_mode": {
    "name": "ipython",
    "version": 3
   },
   "file_extension": ".py",
   "mimetype": "text/x-python",
   "name": "python",
   "nbconvert_exporter": "python",
   "pygments_lexer": "ipython3",
   "version": "3.6.9"
  }
 },
 "nbformat": 4,
 "nbformat_minor": 4
}
