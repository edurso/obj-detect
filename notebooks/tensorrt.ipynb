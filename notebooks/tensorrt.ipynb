{
  "cells": [
    {
      "cell_type": "markdown",
      "metadata": {
        "id": "view-in-github",
        "colab_type": "text"
      },
      "source": [
        "<a href=\"https://colab.research.google.com/github/edurso/obj-detect/blob/master/notebooks/tensorrt.ipynb\" target=\"_parent\"><img src=\"https://colab.research.google.com/assets/colab-badge.svg\" alt=\"Open In Colab\"/></a>"
      ]
    },
    {
      "cell_type": "markdown",
      "metadata": {
        "id": "1mFz89uCrCT1"
      },
      "source": [
        "# Convert TensroFlow `saved_model` to [TensorRT](https://github.com/NVIDIA/TensorRT/tree/main/samples/python/tensorflow_object_detection_api) Engine"
      ]
    },
    {
      "cell_type": "markdown",
      "metadata": {
        "id": "yUW6HSNtt5_1"
      },
      "source": [
        "define model location"
      ]
    },
    {
      "cell_type": "code",
      "execution_count": 1,
      "metadata": {
        "id": "SnPfgeE1rh6I",
        "outputId": "4544eafd-62f0-48f9-fa04-a7d7b6e131c5",
        "colab": {
          "base_uri": "https://localhost:8080/"
        }
      },
      "outputs": [
        {
          "output_type": "stream",
          "name": "stdout",
          "text": [
            "Drive already mounted at /content/workspace; to attempt to forcibly remount, call drive.mount(\"/content/workspace\", force_remount=True).\n"
          ]
        }
      ],
      "source": [
        "workdir = '/content/workspace/MyDrive/tensorflow/power-port-targeting/exported-models/trained_model/'\n",
        "mname = 'ssd_resnet50_v1_fpn_640x640_coco17_tpu-8'\n",
        "from google.colab import drive\n",
        "import os\n",
        "!mkdir -p /content/workspace\n",
        "drive.mount('/content/workspace')"
      ]
    },
    {
      "cell_type": "markdown",
      "metadata": {
        "id": "uMHXiLwAuqpi"
      },
      "source": [
        "download `trained_model` from google drive to `workdir`"
      ]
    },
    {
      "cell_type": "markdown",
      "source": [
        "check python version"
      ],
      "metadata": {
        "id": "h4HxR6xS9jho"
      }
    },
    {
      "cell_type": "code",
      "source": [
        "!python3 --version"
      ],
      "metadata": {
        "id": "Ua-RV_839Duq",
        "outputId": "8d1bcd60-e9b2-4302-9ffa-e4093a70011b",
        "colab": {
          "base_uri": "https://localhost:8080/"
        }
      },
      "execution_count": 2,
      "outputs": [
        {
          "output_type": "stream",
          "name": "stdout",
          "text": [
            "Python 3.7.13\n"
          ]
        }
      ]
    },
    {
      "cell_type": "markdown",
      "metadata": {
        "id": "5sIDMXa7u2Fe"
      },
      "source": [
        "## Installation & Environment Configuration"
      ]
    },
    {
      "cell_type": "markdown",
      "metadata": {
        "id": "SOByLeeYrO4u"
      },
      "source": [
        "install tfod api"
      ]
    },
    {
      "cell_type": "code",
      "execution_count": 3,
      "metadata": {
        "id": "v7WvleJRq8kV"
      },
      "outputs": [],
      "source": [
        "import os\n",
        "import pathlib\n",
        "\n",
        "if \"models\" in pathlib.Path.cwd().parts:\n",
        "  while \"models\" in pathlib.Path.cwd().parts:\n",
        "    os.chdir('..')\n",
        "elif not pathlib.Path('models').exists():\n",
        "  !git clone --depth 1 https://github.com/tensorflow/models /content/models\n",
        "\n",
        "if \"utils\" in pathlib.Path.cwd().parts:\n",
        "  while \"utils\" in pathlib.Path.cwd().parts:\n",
        "    os.chdir('..')\n",
        "elif not pathlib.Path('utils').exists():\n",
        "  !git clone --depth 1 https://github.com/edurso/obj-detect /content/utils"
      ]
    },
    {
      "cell_type": "code",
      "execution_count": 4,
      "metadata": {
        "id": "uKThu3a2rZ5_",
        "outputId": "b15ffc1d-1f01-4f3e-b28b-271f39b23690",
        "colab": {
          "base_uri": "https://localhost:8080/"
        }
      },
      "outputs": [
        {
          "output_type": "stream",
          "name": "stdout",
          "text": [
            "Requirement already satisfied: setuptools in /usr/local/lib/python3.7/dist-packages (62.3.1)\n",
            "Requirement already satisfied: pip in /usr/local/lib/python3.7/dist-packages (22.1)\n",
            "Collecting opencv-python-headless==4.1.2.30\n",
            "  Using cached opencv_python_headless-4.1.2.30-cp37-cp37m-manylinux1_x86_64.whl (21.8 MB)\n",
            "Requirement already satisfied: numpy>=1.14.5 in /usr/local/lib/python3.7/dist-packages (from opencv-python-headless==4.1.2.30) (1.21.6)\n",
            "Installing collected packages: opencv-python-headless\n",
            "Successfully installed opencv-python-headless-4.1.2.30\n",
            "Looking in indexes: https://pypi.ngc.nvidia.com\n",
            "Requirement already satisfied: onnx-graphsurgeon==0.3.10 in /usr/local/lib/python3.7/dist-packages (0.3.10)\n",
            "Requirement already satisfied: onnx in /usr/local/lib/python3.7/dist-packages (from onnx-graphsurgeon==0.3.10) (1.8.1)\n",
            "Requirement already satisfied: numpy in /usr/local/lib/python3.7/dist-packages (from onnx-graphsurgeon==0.3.10) (1.21.6)\n",
            "Requirement already satisfied: six in /usr/local/lib/python3.7/dist-packages (from onnx->onnx-graphsurgeon==0.3.10) (1.15.0)\n",
            "Requirement already satisfied: typing-extensions>=3.6.2.1 in /usr/local/lib/python3.7/dist-packages (from onnx->onnx-graphsurgeon==0.3.10) (4.2.0)\n",
            "Requirement already satisfied: protobuf in /usr/local/lib/python3.7/dist-packages (from onnx->onnx-graphsurgeon==0.3.10) (3.20.1)\n",
            "Processing /content/models/research\n",
            "  Preparing metadata (setup.py): started\n",
            "  Preparing metadata (setup.py): finished with status 'done'\n",
            "Requirement already satisfied: avro-python3 in /usr/local/lib/python3.7/dist-packages (from object-detection==0.1) (1.10.2)\n",
            "Requirement already satisfied: apache-beam in /usr/local/lib/python3.7/dist-packages (from object-detection==0.1) (2.38.0)\n",
            "Requirement already satisfied: pillow in /usr/local/lib/python3.7/dist-packages (from object-detection==0.1) (7.1.2)\n",
            "Requirement already satisfied: lxml in /usr/local/lib/python3.7/dist-packages (from object-detection==0.1) (4.2.6)\n",
            "Requirement already satisfied: matplotlib in /usr/local/lib/python3.7/dist-packages (from object-detection==0.1) (3.2.2)\n",
            "Requirement already satisfied: Cython in /usr/local/lib/python3.7/dist-packages (from object-detection==0.1) (0.29.28)\n",
            "Requirement already satisfied: contextlib2 in /usr/local/lib/python3.7/dist-packages (from object-detection==0.1) (0.5.5)\n",
            "Requirement already satisfied: tf-slim in /usr/local/lib/python3.7/dist-packages (from object-detection==0.1) (1.1.0)\n",
            "Requirement already satisfied: six in /usr/local/lib/python3.7/dist-packages (from object-detection==0.1) (1.15.0)\n",
            "Requirement already satisfied: pycocotools in /usr/local/lib/python3.7/dist-packages (from object-detection==0.1) (2.0.4)\n",
            "Requirement already satisfied: lvis in /usr/local/lib/python3.7/dist-packages (from object-detection==0.1) (0.5.3)\n",
            "Requirement already satisfied: scipy in /usr/local/lib/python3.7/dist-packages (from object-detection==0.1) (1.4.1)\n",
            "Requirement already satisfied: pandas in /usr/local/lib/python3.7/dist-packages (from object-detection==0.1) (1.3.5)\n",
            "Requirement already satisfied: tf-models-official>=2.5.1 in /usr/local/lib/python3.7/dist-packages (from object-detection==0.1) (2.8.0)\n",
            "Requirement already satisfied: tensorflow_io in /usr/local/lib/python3.7/dist-packages (from object-detection==0.1) (0.25.0)\n",
            "Requirement already satisfied: keras in /usr/local/lib/python3.7/dist-packages (from object-detection==0.1) (2.8.0)\n",
            "Requirement already satisfied: tensorflow-datasets in /usr/local/lib/python3.7/dist-packages (from tf-models-official>=2.5.1->object-detection==0.1) (4.0.1)\n",
            "Requirement already satisfied: kaggle>=1.3.9 in /usr/local/lib/python3.7/dist-packages (from tf-models-official>=2.5.1->object-detection==0.1) (1.5.12)\n",
            "Requirement already satisfied: tensorflow-model-optimization>=0.4.1 in /usr/local/lib/python3.7/dist-packages (from tf-models-official>=2.5.1->object-detection==0.1) (0.7.2)\n",
            "Requirement already satisfied: tensorflow-addons in /usr/local/lib/python3.7/dist-packages (from tf-models-official>=2.5.1->object-detection==0.1) (0.16.1)\n",
            "Requirement already satisfied: tensorflow-text~=2.8.0 in /usr/local/lib/python3.7/dist-packages (from tf-models-official>=2.5.1->object-detection==0.1) (2.8.2)\n",
            "Requirement already satisfied: google-api-python-client>=1.6.7 in /usr/local/lib/python3.7/dist-packages (from tf-models-official>=2.5.1->object-detection==0.1) (1.12.11)\n",
            "Requirement already satisfied: sacrebleu in /usr/local/lib/python3.7/dist-packages (from tf-models-official>=2.5.1->object-detection==0.1) (2.0.0)\n",
            "Requirement already satisfied: opencv-python-headless in /usr/local/lib/python3.7/dist-packages (from tf-models-official>=2.5.1->object-detection==0.1) (4.1.2.30)\n",
            "Requirement already satisfied: sentencepiece in /usr/local/lib/python3.7/dist-packages (from tf-models-official>=2.5.1->object-detection==0.1) (0.1.96)\n",
            "Requirement already satisfied: tensorflow-hub>=0.6.0 in /usr/local/lib/python3.7/dist-packages (from tf-models-official>=2.5.1->object-detection==0.1) (0.12.0)\n",
            "Requirement already satisfied: oauth2client in /usr/local/lib/python3.7/dist-packages (from tf-models-official>=2.5.1->object-detection==0.1) (4.1.3)\n",
            "Requirement already satisfied: py-cpuinfo>=3.3.0 in /usr/local/lib/python3.7/dist-packages (from tf-models-official>=2.5.1->object-detection==0.1) (8.0.0)\n",
            "Requirement already satisfied: gin-config in /usr/local/lib/python3.7/dist-packages (from tf-models-official>=2.5.1->object-detection==0.1) (0.5.0)\n",
            "Requirement already satisfied: numpy>=1.15.4 in /usr/local/lib/python3.7/dist-packages (from tf-models-official>=2.5.1->object-detection==0.1) (1.21.6)\n",
            "Requirement already satisfied: seqeval in /usr/local/lib/python3.7/dist-packages (from tf-models-official>=2.5.1->object-detection==0.1) (1.2.2)\n",
            "Requirement already satisfied: pyyaml<6.0,>=5.1 in /usr/local/lib/python3.7/dist-packages (from tf-models-official>=2.5.1->object-detection==0.1) (5.4.1)\n",
            "Requirement already satisfied: tensorflow~=2.8.0 in /usr/local/lib/python3.7/dist-packages (from tf-models-official>=2.5.1->object-detection==0.1) (2.8.0+zzzcolab20220506162203)\n",
            "Requirement already satisfied: psutil>=5.4.3 in /usr/local/lib/python3.7/dist-packages (from tf-models-official>=2.5.1->object-detection==0.1) (5.4.8)\n",
            "Requirement already satisfied: pytz>=2017.3 in /usr/local/lib/python3.7/dist-packages (from pandas->object-detection==0.1) (2022.1)\n",
            "Requirement already satisfied: python-dateutil>=2.7.3 in /usr/local/lib/python3.7/dist-packages (from pandas->object-detection==0.1) (2.8.2)\n",
            "Requirement already satisfied: absl-py>=0.2.2 in /usr/local/lib/python3.7/dist-packages (from tf-slim->object-detection==0.1) (1.0.0)\n",
            "Requirement already satisfied: orjson<4.0 in /usr/local/lib/python3.7/dist-packages (from apache-beam->object-detection==0.1) (3.6.8)\n",
            "Requirement already satisfied: pydot<2,>=1.2.0 in /usr/local/lib/python3.7/dist-packages (from apache-beam->object-detection==0.1) (1.3.0)\n",
            "Requirement already satisfied: pyarrow<7.0.0,>=0.15.1 in /usr/local/lib/python3.7/dist-packages (from apache-beam->object-detection==0.1) (6.0.1)\n",
            "Requirement already satisfied: fastavro<2,>=0.23.6 in /usr/local/lib/python3.7/dist-packages (from apache-beam->object-detection==0.1) (1.4.11)\n",
            "Requirement already satisfied: requests<3.0.0,>=2.24.0 in /usr/local/lib/python3.7/dist-packages (from apache-beam->object-detection==0.1) (2.27.1)\n",
            "Requirement already satisfied: typing-extensions>=3.7.0 in /usr/local/lib/python3.7/dist-packages (from apache-beam->object-detection==0.1) (4.2.0)\n",
            "Requirement already satisfied: protobuf<4,>=3.12.2 in /usr/local/lib/python3.7/dist-packages (from apache-beam->object-detection==0.1) (3.20.1)\n",
            "Requirement already satisfied: grpcio<2,>=1.29.0 in /usr/local/lib/python3.7/dist-packages (from apache-beam->object-detection==0.1) (1.46.1)\n",
            "Requirement already satisfied: httplib2<0.20.0,>=0.8 in /usr/local/lib/python3.7/dist-packages (from apache-beam->object-detection==0.1) (0.17.4)\n",
            "Requirement already satisfied: proto-plus<2,>=1.7.1 in /usr/local/lib/python3.7/dist-packages (from apache-beam->object-detection==0.1) (1.20.3)\n",
            "Requirement already satisfied: pymongo<4.0.0,>=3.8.0 in /usr/local/lib/python3.7/dist-packages (from apache-beam->object-detection==0.1) (3.12.3)\n",
            "Requirement already satisfied: crcmod<2.0,>=1.7 in /usr/local/lib/python3.7/dist-packages (from apache-beam->object-detection==0.1) (1.7)\n",
            "Requirement already satisfied: dill<0.3.2,>=0.3.1.1 in /usr/local/lib/python3.7/dist-packages (from apache-beam->object-detection==0.1) (0.3.1.1)\n",
            "Requirement already satisfied: cloudpickle<3,>=2.0.0 in /usr/local/lib/python3.7/dist-packages (from apache-beam->object-detection==0.1) (2.0.0)\n",
            "Requirement already satisfied: hdfs<3.0.0,>=2.1.0 in /usr/local/lib/python3.7/dist-packages (from apache-beam->object-detection==0.1) (2.7.0)\n",
            "Requirement already satisfied: kiwisolver>=1.1.0 in /usr/local/lib/python3.7/dist-packages (from lvis->object-detection==0.1) (1.4.2)\n",
            "Requirement already satisfied: pyparsing>=2.4.0 in /usr/local/lib/python3.7/dist-packages (from lvis->object-detection==0.1) (3.0.9)\n",
            "Requirement already satisfied: opencv-python>=4.1.0.25 in /usr/local/lib/python3.7/dist-packages (from lvis->object-detection==0.1) (4.1.2.30)\n",
            "Requirement already satisfied: cycler>=0.10.0 in /usr/local/lib/python3.7/dist-packages (from lvis->object-detection==0.1) (0.11.0)\n",
            "Requirement already satisfied: tensorflow-io-gcs-filesystem==0.25.0 in /usr/local/lib/python3.7/dist-packages (from tensorflow_io->object-detection==0.1) (0.25.0)\n",
            "Requirement already satisfied: google-api-core<3dev,>=1.21.0 in /usr/local/lib/python3.7/dist-packages (from google-api-python-client>=1.6.7->tf-models-official>=2.5.1->object-detection==0.1) (1.31.5)\n",
            "Requirement already satisfied: google-auth<3dev,>=1.16.0 in /usr/local/lib/python3.7/dist-packages (from google-api-python-client>=1.6.7->tf-models-official>=2.5.1->object-detection==0.1) (1.35.0)\n",
            "Requirement already satisfied: uritemplate<4dev,>=3.0.0 in /usr/local/lib/python3.7/dist-packages (from google-api-python-client>=1.6.7->tf-models-official>=2.5.1->object-detection==0.1) (3.0.1)\n",
            "Requirement already satisfied: google-auth-httplib2>=0.0.3 in /usr/local/lib/python3.7/dist-packages (from google-api-python-client>=1.6.7->tf-models-official>=2.5.1->object-detection==0.1) (0.0.4)\n",
            "Requirement already satisfied: docopt in /usr/local/lib/python3.7/dist-packages (from hdfs<3.0.0,>=2.1.0->apache-beam->object-detection==0.1) (0.6.2)\n",
            "Requirement already satisfied: certifi in /usr/local/lib/python3.7/dist-packages (from kaggle>=1.3.9->tf-models-official>=2.5.1->object-detection==0.1) (2021.10.8)\n",
            "Requirement already satisfied: urllib3 in /usr/local/lib/python3.7/dist-packages (from kaggle>=1.3.9->tf-models-official>=2.5.1->object-detection==0.1) (1.24.3)\n",
            "Requirement already satisfied: python-slugify in /usr/local/lib/python3.7/dist-packages (from kaggle>=1.3.9->tf-models-official>=2.5.1->object-detection==0.1) (6.1.2)\n",
            "Requirement already satisfied: tqdm in /usr/local/lib/python3.7/dist-packages (from kaggle>=1.3.9->tf-models-official>=2.5.1->object-detection==0.1) (4.64.0)\n",
            "Requirement already satisfied: rsa>=3.1.4 in /usr/local/lib/python3.7/dist-packages (from oauth2client->tf-models-official>=2.5.1->object-detection==0.1) (4.8)\n",
            "Requirement already satisfied: pyasn1>=0.1.7 in /usr/local/lib/python3.7/dist-packages (from oauth2client->tf-models-official>=2.5.1->object-detection==0.1) (0.4.8)\n",
            "Requirement already satisfied: pyasn1-modules>=0.0.5 in /usr/local/lib/python3.7/dist-packages (from oauth2client->tf-models-official>=2.5.1->object-detection==0.1) (0.2.8)\n",
            "Requirement already satisfied: charset-normalizer~=2.0.0 in /usr/local/lib/python3.7/dist-packages (from requests<3.0.0,>=2.24.0->apache-beam->object-detection==0.1) (2.0.12)\n",
            "Requirement already satisfied: idna<4,>=2.5 in /usr/local/lib/python3.7/dist-packages (from requests<3.0.0,>=2.24.0->apache-beam->object-detection==0.1) (2.10)\n",
            "Requirement already satisfied: keras-preprocessing>=1.1.1 in /usr/local/lib/python3.7/dist-packages (from tensorflow~=2.8.0->tf-models-official>=2.5.1->object-detection==0.1) (1.1.2)\n",
            "Requirement already satisfied: opt-einsum>=2.3.2 in /usr/local/lib/python3.7/dist-packages (from tensorflow~=2.8.0->tf-models-official>=2.5.1->object-detection==0.1) (3.3.0)\n",
            "Requirement already satisfied: libclang>=9.0.1 in /usr/local/lib/python3.7/dist-packages (from tensorflow~=2.8.0->tf-models-official>=2.5.1->object-detection==0.1) (14.0.1)\n",
            "Requirement already satisfied: tensorboard<2.9,>=2.8 in /usr/local/lib/python3.7/dist-packages (from tensorflow~=2.8.0->tf-models-official>=2.5.1->object-detection==0.1) (2.8.0)\n",
            "Requirement already satisfied: setuptools in /usr/local/lib/python3.7/dist-packages (from tensorflow~=2.8.0->tf-models-official>=2.5.1->object-detection==0.1) (62.3.1)\n",
            "Requirement already satisfied: google-pasta>=0.1.1 in /usr/local/lib/python3.7/dist-packages (from tensorflow~=2.8.0->tf-models-official>=2.5.1->object-detection==0.1) (0.2.0)\n",
            "Requirement already satisfied: wrapt>=1.11.0 in /usr/local/lib/python3.7/dist-packages (from tensorflow~=2.8.0->tf-models-official>=2.5.1->object-detection==0.1) (1.14.1)\n",
            "Requirement already satisfied: astunparse>=1.6.0 in /usr/local/lib/python3.7/dist-packages (from tensorflow~=2.8.0->tf-models-official>=2.5.1->object-detection==0.1) (1.6.3)\n",
            "Requirement already satisfied: tf-estimator-nightly==2.8.0.dev2021122109 in /usr/local/lib/python3.7/dist-packages (from tensorflow~=2.8.0->tf-models-official>=2.5.1->object-detection==0.1) (2.8.0.dev2021122109)\n",
            "Requirement already satisfied: flatbuffers>=1.12 in /usr/local/lib/python3.7/dist-packages (from tensorflow~=2.8.0->tf-models-official>=2.5.1->object-detection==0.1) (2.0)\n",
            "Requirement already satisfied: termcolor>=1.1.0 in /usr/local/lib/python3.7/dist-packages (from tensorflow~=2.8.0->tf-models-official>=2.5.1->object-detection==0.1) (1.1.0)\n",
            "Requirement already satisfied: h5py>=2.9.0 in /usr/local/lib/python3.7/dist-packages (from tensorflow~=2.8.0->tf-models-official>=2.5.1->object-detection==0.1) (3.1.0)\n",
            "Requirement already satisfied: gast>=0.2.1 in /usr/local/lib/python3.7/dist-packages (from tensorflow~=2.8.0->tf-models-official>=2.5.1->object-detection==0.1) (0.5.3)\n",
            "Requirement already satisfied: dm-tree~=0.1.1 in /usr/local/lib/python3.7/dist-packages (from tensorflow-model-optimization>=0.4.1->tf-models-official>=2.5.1->object-detection==0.1) (0.1.7)\n",
            "Requirement already satisfied: portalocker in /usr/local/lib/python3.7/dist-packages (from sacrebleu->tf-models-official>=2.5.1->object-detection==0.1) (2.4.0)\n",
            "Requirement already satisfied: colorama in /usr/local/lib/python3.7/dist-packages (from sacrebleu->tf-models-official>=2.5.1->object-detection==0.1) (0.4.4)\n",
            "Requirement already satisfied: tabulate>=0.8.9 in /usr/local/lib/python3.7/dist-packages (from sacrebleu->tf-models-official>=2.5.1->object-detection==0.1) (0.8.9)\n",
            "Requirement already satisfied: regex in /usr/local/lib/python3.7/dist-packages (from sacrebleu->tf-models-official>=2.5.1->object-detection==0.1) (2019.12.20)\n",
            "Requirement already satisfied: scikit-learn>=0.21.3 in /usr/local/lib/python3.7/dist-packages (from seqeval->tf-models-official>=2.5.1->object-detection==0.1) (1.0.2)\n",
            "Requirement already satisfied: typeguard>=2.7 in /usr/local/lib/python3.7/dist-packages (from tensorflow-addons->tf-models-official>=2.5.1->object-detection==0.1) (2.7.1)\n",
            "Requirement already satisfied: tensorflow-metadata in /usr/local/lib/python3.7/dist-packages (from tensorflow-datasets->tf-models-official>=2.5.1->object-detection==0.1) (1.8.0)\n",
            "Requirement already satisfied: attrs>=18.1.0 in /usr/local/lib/python3.7/dist-packages (from tensorflow-datasets->tf-models-official>=2.5.1->object-detection==0.1) (21.4.0)\n",
            "Requirement already satisfied: importlib-resources in /usr/local/lib/python3.7/dist-packages (from tensorflow-datasets->tf-models-official>=2.5.1->object-detection==0.1) (5.7.1)\n",
            "Requirement already satisfied: future in /usr/local/lib/python3.7/dist-packages (from tensorflow-datasets->tf-models-official>=2.5.1->object-detection==0.1) (0.16.0)\n",
            "Requirement already satisfied: promise in /usr/local/lib/python3.7/dist-packages (from tensorflow-datasets->tf-models-official>=2.5.1->object-detection==0.1) (2.3)\n",
            "Requirement already satisfied: wheel<1.0,>=0.23.0 in /usr/local/lib/python3.7/dist-packages (from astunparse>=1.6.0->tensorflow~=2.8.0->tf-models-official>=2.5.1->object-detection==0.1) (0.37.1)\n",
            "Requirement already satisfied: googleapis-common-protos<2.0dev,>=1.6.0 in /usr/local/lib/python3.7/dist-packages (from google-api-core<3dev,>=1.21.0->google-api-python-client>=1.6.7->tf-models-official>=2.5.1->object-detection==0.1) (1.56.1)\n",
            "Requirement already satisfied: packaging>=14.3 in /usr/local/lib/python3.7/dist-packages (from google-api-core<3dev,>=1.21.0->google-api-python-client>=1.6.7->tf-models-official>=2.5.1->object-detection==0.1) (21.3)\n",
            "Requirement already satisfied: cachetools<5.0,>=2.0.0 in /usr/local/lib/python3.7/dist-packages (from google-auth<3dev,>=1.16.0->google-api-python-client>=1.6.7->tf-models-official>=2.5.1->object-detection==0.1) (4.2.4)\n",
            "Requirement already satisfied: cached-property in /usr/local/lib/python3.7/dist-packages (from h5py>=2.9.0->tensorflow~=2.8.0->tf-models-official>=2.5.1->object-detection==0.1) (1.5.2)\n",
            "Requirement already satisfied: joblib>=0.11 in /usr/local/lib/python3.7/dist-packages (from scikit-learn>=0.21.3->seqeval->tf-models-official>=2.5.1->object-detection==0.1) (1.1.0)\n",
            "Requirement already satisfied: threadpoolctl>=2.0.0 in /usr/local/lib/python3.7/dist-packages (from scikit-learn>=0.21.3->seqeval->tf-models-official>=2.5.1->object-detection==0.1) (3.1.0)\n",
            "Requirement already satisfied: google-auth-oauthlib<0.5,>=0.4.1 in /usr/local/lib/python3.7/dist-packages (from tensorboard<2.9,>=2.8->tensorflow~=2.8.0->tf-models-official>=2.5.1->object-detection==0.1) (0.4.6)\n",
            "Requirement already satisfied: markdown>=2.6.8 in /usr/local/lib/python3.7/dist-packages (from tensorboard<2.9,>=2.8->tensorflow~=2.8.0->tf-models-official>=2.5.1->object-detection==0.1) (3.3.7)\n",
            "Requirement already satisfied: werkzeug>=0.11.15 in /usr/local/lib/python3.7/dist-packages (from tensorboard<2.9,>=2.8->tensorflow~=2.8.0->tf-models-official>=2.5.1->object-detection==0.1) (1.0.1)\n",
            "Requirement already satisfied: tensorboard-data-server<0.7.0,>=0.6.0 in /usr/local/lib/python3.7/dist-packages (from tensorboard<2.9,>=2.8->tensorflow~=2.8.0->tf-models-official>=2.5.1->object-detection==0.1) (0.6.1)\n",
            "Requirement already satisfied: tensorboard-plugin-wit>=1.6.0 in /usr/local/lib/python3.7/dist-packages (from tensorboard<2.9,>=2.8->tensorflow~=2.8.0->tf-models-official>=2.5.1->object-detection==0.1) (1.8.1)\n",
            "Requirement already satisfied: zipp>=3.1.0 in /usr/local/lib/python3.7/dist-packages (from importlib-resources->tensorflow-datasets->tf-models-official>=2.5.1->object-detection==0.1) (3.8.0)\n",
            "Requirement already satisfied: text-unidecode>=1.3 in /usr/local/lib/python3.7/dist-packages (from python-slugify->kaggle>=1.3.9->tf-models-official>=2.5.1->object-detection==0.1) (1.3)\n",
            "Requirement already satisfied: requests-oauthlib>=0.7.0 in /usr/local/lib/python3.7/dist-packages (from google-auth-oauthlib<0.5,>=0.4.1->tensorboard<2.9,>=2.8->tensorflow~=2.8.0->tf-models-official>=2.5.1->object-detection==0.1) (1.3.1)\n",
            "Requirement already satisfied: importlib-metadata>=4.4 in /usr/local/lib/python3.7/dist-packages (from markdown>=2.6.8->tensorboard<2.9,>=2.8->tensorflow~=2.8.0->tf-models-official>=2.5.1->object-detection==0.1) (4.11.3)\n",
            "Requirement already satisfied: oauthlib>=3.0.0 in /usr/local/lib/python3.7/dist-packages (from requests-oauthlib>=0.7.0->google-auth-oauthlib<0.5,>=0.4.1->tensorboard<2.9,>=2.8->tensorflow~=2.8.0->tf-models-official>=2.5.1->object-detection==0.1) (3.2.0)\n",
            "Building wheels for collected packages: object-detection\n",
            "  Building wheel for object-detection (setup.py): started\n",
            "  Building wheel for object-detection (setup.py): finished with status 'done'\n",
            "  Created wheel for object-detection: filename=object_detection-0.1-py3-none-any.whl size=21914838 sha256=3584e4889b9dd025abcd9e6a77e7d106771be0530c1f5277a940a1768dd4fb86\n",
            "  Stored in directory: /tmp/pip-ephem-wheel-cache-aqytka0y/wheels/fa/a4/d2/e9a5057e414fd46c8e543d2706cd836d64e1fcd9eccceb2329\n",
            "Successfully built object-detection\n",
            "Installing collected packages: object-detection\n",
            "  Attempting uninstall: object-detection\n",
            "    Found existing installation: object-detection 0.1\n",
            "    Uninstalling object-detection-0.1:\n",
            "      Successfully uninstalled object-detection-0.1\n",
            "Successfully installed object-detection-0.1\n"
          ]
        },
        {
          "output_type": "stream",
          "name": "stderr",
          "text": [
            "WARNING: Running pip as the 'root' user can result in broken permissions and conflicting behaviour with the system package manager. It is recommended to use a virtual environment instead: https://pip.pypa.io/warnings/venv\n",
            "WARNING: Skipping opencv-python-headless as it is not installed.\n",
            "WARNING: Running pip as the 'root' user can result in broken permissions and conflicting behaviour with the system package manager. It is recommended to use a virtual environment instead: https://pip.pypa.io/warnings/venv\n",
            "WARNING: Running pip as the 'root' user can result in broken permissions and conflicting behaviour with the system package manager. It is recommended to use a virtual environment instead: https://pip.pypa.io/warnings/venv\n",
            "WARNING: Running pip as the 'root' user can result in broken permissions and conflicting behaviour with the system package manager. It is recommended to use a virtual environment instead: https://pip.pypa.io/warnings/venv\n",
            "WARNING: --use-feature=2020-resolver no longer has any effect, since it is now the default dependency resolver in pip. This will become an error in pip 21.0.\n",
            "WARNING: Running pip as the 'root' user can result in broken permissions and conflicting behaviour with the system package manager. It is recommended to use a virtual environment instead: https://pip.pypa.io/warnings/venv\n"
          ]
        }
      ],
      "source": [
        "%%bash\n",
        "\n",
        "# update pip\n",
        "python3 -m pip install --upgrade setuptools pip\n",
        "\n",
        "# check opencv dependency versions\n",
        "python3 -m pip uninstall opencv-python-headless==4.5.5.62 \n",
        "python3 -m pip install opencv-python-headless==4.1.2.30\n",
        "python3 -m pip install onnx-graphsurgeon==0.3.10 --index-url https://pypi.ngc.nvidia.com\n",
        "\n",
        "# compile protos and install object_detection\n",
        "cd /content/models/research/\n",
        "protoc object_detection/protos/*.proto --python_out=.\n",
        "cp object_detection/packages/tf2/setup.py .\n",
        "python3 -m pip install --use-feature=2020-resolver ."
      ]
    },
    {
      "cell_type": "code",
      "execution_count": 5,
      "metadata": {
        "id": "xrnd4Amarc1Y",
        "outputId": "513268ef-18c2-4883-d5fe-538821a581eb",
        "colab": {
          "base_uri": "https://localhost:8080/"
        }
      },
      "outputs": [
        {
          "output_type": "stream",
          "name": "stdout",
          "text": [
            "Name: object-detection\n",
            "Version: 0.1\n",
            "Summary: Tensorflow Object Detection Library\n",
            "Home-page: \n",
            "Author: \n",
            "Author-email: \n",
            "License: \n",
            "Location: /usr/local/lib/python3.7/dist-packages\n",
            "Requires: apache-beam, avro-python3, contextlib2, Cython, keras, lvis, lxml, matplotlib, pandas, pillow, pycocotools, scipy, six, tensorflow-io, tf-models-official, tf-slim\n",
            "Required-by: \n"
          ]
        }
      ],
      "source": [
        "!pip3 show object-detection"
      ]
    },
    {
      "cell_type": "markdown",
      "source": [
        "install tensorrt"
      ],
      "metadata": {
        "id": "npGdio1AyyM7"
      }
    },
    {
      "cell_type": "code",
      "source": [
        "!nvidia-smi"
      ],
      "metadata": {
        "id": "RxWvXb5Gy1Rs",
        "outputId": "0a4653e1-ee04-4f58-9c98-43b623491be4",
        "colab": {
          "base_uri": "https://localhost:8080/"
        }
      },
      "execution_count": 6,
      "outputs": [
        {
          "output_type": "stream",
          "name": "stdout",
          "text": [
            "Tue May 17 22:53:06 2022       \n",
            "+-----------------------------------------------------------------------------+\n",
            "| NVIDIA-SMI 460.32.03    Driver Version: 460.32.03    CUDA Version: 11.2     |\n",
            "|-------------------------------+----------------------+----------------------+\n",
            "| GPU  Name        Persistence-M| Bus-Id        Disp.A | Volatile Uncorr. ECC |\n",
            "| Fan  Temp  Perf  Pwr:Usage/Cap|         Memory-Usage | GPU-Util  Compute M. |\n",
            "|                               |                      |               MIG M. |\n",
            "|===============================+======================+======================|\n",
            "|   0  Tesla K80           Off  | 00000000:00:04.0 Off |                    0 |\n",
            "| N/A   39C    P8    26W / 149W |      0MiB / 11441MiB |      0%      Default |\n",
            "|                               |                      |                  N/A |\n",
            "+-------------------------------+----------------------+----------------------+\n",
            "                                                                               \n",
            "+-----------------------------------------------------------------------------+\n",
            "| Processes:                                                                  |\n",
            "|  GPU   GI   CI        PID   Type   Process name                  GPU Memory |\n",
            "|        ID   ID                                                   Usage      |\n",
            "|=============================================================================|\n",
            "|  No running processes found                                                 |\n",
            "+-----------------------------------------------------------------------------+\n"
          ]
        }
      ]
    },
    {
      "cell_type": "code",
      "source": [
        "!python3 -m pip install nvidia-pyindex\n",
        "!python3 -m pip install pycuda onnx==1.8.1 onnxruntime==1.8.0 tf2onnx==1.8.1\n",
        "!python3 -m pip install onnx-graphsurgeon==0.3.10 --index-url https://pypi.ngc.nvidia.com\n",
        "!python3 -m pip install --upgrade --index-url https://pypi.ngc.nvidia.com nvidia-tensorrt"
      ],
      "metadata": {
        "id": "FYy6TeoA4QaP",
        "outputId": "20ca9729-d35f-4092-c360-9b3f037447f4",
        "colab": {
          "base_uri": "https://localhost:8080/"
        }
      },
      "execution_count": 7,
      "outputs": [
        {
          "output_type": "stream",
          "name": "stdout",
          "text": [
            "Requirement already satisfied: nvidia-pyindex in /usr/local/lib/python3.7/dist-packages (1.0.9)\n",
            "\u001b[33mWARNING: Running pip as the 'root' user can result in broken permissions and conflicting behaviour with the system package manager. It is recommended to use a virtual environment instead: https://pip.pypa.io/warnings/venv\u001b[0m\u001b[33m\n",
            "\u001b[0mRequirement already satisfied: pycuda in /usr/local/lib/python3.7/dist-packages (2021.1)\n",
            "Requirement already satisfied: onnx==1.8.1 in /usr/local/lib/python3.7/dist-packages (1.8.1)\n",
            "Requirement already satisfied: onnxruntime==1.8.0 in /usr/local/lib/python3.7/dist-packages (1.8.0)\n",
            "Requirement already satisfied: tf2onnx==1.8.1 in /usr/local/lib/python3.7/dist-packages (1.8.1)\n",
            "Requirement already satisfied: numpy>=1.16.6 in /usr/local/lib/python3.7/dist-packages (from onnx==1.8.1) (1.21.6)\n",
            "Requirement already satisfied: typing-extensions>=3.6.2.1 in /usr/local/lib/python3.7/dist-packages (from onnx==1.8.1) (4.2.0)\n",
            "Requirement already satisfied: protobuf in /usr/local/lib/python3.7/dist-packages (from onnx==1.8.1) (3.20.1)\n",
            "Requirement already satisfied: six in /usr/local/lib/python3.7/dist-packages (from onnx==1.8.1) (1.15.0)\n",
            "Requirement already satisfied: flatbuffers in /usr/local/lib/python3.7/dist-packages (from onnxruntime==1.8.0) (2.0)\n",
            "Requirement already satisfied: requests in /usr/local/lib/python3.7/dist-packages (from tf2onnx==1.8.1) (2.27.1)\n",
            "Requirement already satisfied: pytools>=2011.2 in /usr/local/lib/python3.7/dist-packages (from pycuda) (2022.1.7)\n",
            "Requirement already satisfied: appdirs>=1.4.0 in /usr/local/lib/python3.7/dist-packages (from pycuda) (1.4.4)\n",
            "Requirement already satisfied: mako in /usr/local/lib/python3.7/dist-packages (from pycuda) (1.2.0)\n",
            "Requirement already satisfied: platformdirs>=2.2.0 in /usr/local/lib/python3.7/dist-packages (from pytools>=2011.2->pycuda) (2.5.2)\n",
            "Requirement already satisfied: importlib-metadata in /usr/local/lib/python3.7/dist-packages (from mako->pycuda) (4.11.3)\n",
            "Requirement already satisfied: MarkupSafe>=0.9.2 in /usr/local/lib/python3.7/dist-packages (from mako->pycuda) (2.0.1)\n",
            "Requirement already satisfied: idna<4,>=2.5 in /usr/local/lib/python3.7/dist-packages (from requests->tf2onnx==1.8.1) (2.10)\n",
            "Requirement already satisfied: certifi>=2017.4.17 in /usr/local/lib/python3.7/dist-packages (from requests->tf2onnx==1.8.1) (2021.10.8)\n",
            "Requirement already satisfied: charset-normalizer~=2.0.0 in /usr/local/lib/python3.7/dist-packages (from requests->tf2onnx==1.8.1) (2.0.12)\n",
            "Requirement already satisfied: urllib3<1.27,>=1.21.1 in /usr/local/lib/python3.7/dist-packages (from requests->tf2onnx==1.8.1) (1.24.3)\n",
            "Requirement already satisfied: zipp>=0.5 in /usr/local/lib/python3.7/dist-packages (from importlib-metadata->mako->pycuda) (3.8.0)\n",
            "\u001b[33mWARNING: Running pip as the 'root' user can result in broken permissions and conflicting behaviour with the system package manager. It is recommended to use a virtual environment instead: https://pip.pypa.io/warnings/venv\u001b[0m\u001b[33m\n",
            "\u001b[0mLooking in indexes: https://pypi.ngc.nvidia.com\n",
            "Requirement already satisfied: onnx-graphsurgeon==0.3.10 in /usr/local/lib/python3.7/dist-packages (0.3.10)\n",
            "Requirement already satisfied: onnx in /usr/local/lib/python3.7/dist-packages (from onnx-graphsurgeon==0.3.10) (1.8.1)\n",
            "Requirement already satisfied: numpy in /usr/local/lib/python3.7/dist-packages (from onnx-graphsurgeon==0.3.10) (1.21.6)\n",
            "Requirement already satisfied: protobuf in /usr/local/lib/python3.7/dist-packages (from onnx->onnx-graphsurgeon==0.3.10) (3.20.1)\n",
            "Requirement already satisfied: six in /usr/local/lib/python3.7/dist-packages (from onnx->onnx-graphsurgeon==0.3.10) (1.15.0)\n",
            "Requirement already satisfied: typing-extensions>=3.6.2.1 in /usr/local/lib/python3.7/dist-packages (from onnx->onnx-graphsurgeon==0.3.10) (4.2.0)\n",
            "\u001b[33mWARNING: Running pip as the 'root' user can result in broken permissions and conflicting behaviour with the system package manager. It is recommended to use a virtual environment instead: https://pip.pypa.io/warnings/venv\u001b[0m\u001b[33m\n",
            "\u001b[0mLooking in indexes: https://pypi.ngc.nvidia.com\n",
            "Requirement already satisfied: nvidia-tensorrt in /usr/local/lib/python3.7/dist-packages (8.4.0.6)\n",
            "Requirement already satisfied: nvidia-cudnn-cu11 in /usr/local/lib/python3.7/dist-packages (from nvidia-tensorrt) (2022.4.2)\n",
            "Requirement already satisfied: nvidia-cublas-cu11 in /usr/local/lib/python3.7/dist-packages (from nvidia-tensorrt) (2022.4.8)\n",
            "Requirement already satisfied: nvidia-cuda-runtime-cu11 in /usr/local/lib/python3.7/dist-packages (from nvidia-tensorrt) (2022.4.25)\n",
            "Requirement already satisfied: nvidia-cublas-cu117 in /usr/local/lib/python3.7/dist-packages (from nvidia-cublas-cu11->nvidia-tensorrt) (11.10.1.25)\n",
            "Requirement already satisfied: nvidia-cuda-runtime-cu117 in /usr/local/lib/python3.7/dist-packages (from nvidia-cuda-runtime-cu11->nvidia-tensorrt) (11.7.60)\n",
            "Requirement already satisfied: nvidia-cudnn-cu115 in /usr/local/lib/python3.7/dist-packages (from nvidia-cudnn-cu11->nvidia-tensorrt) (8.3.3.40)\n",
            "Requirement already satisfied: setuptools in /usr/local/lib/python3.7/dist-packages (from nvidia-cublas-cu117->nvidia-cublas-cu11->nvidia-tensorrt) (62.3.1)\n",
            "Requirement already satisfied: wheel in /usr/local/lib/python3.7/dist-packages (from nvidia-cublas-cu117->nvidia-cublas-cu11->nvidia-tensorrt) (0.37.1)\n",
            "\u001b[33mWARNING: Running pip as the 'root' user can result in broken permissions and conflicting behaviour with the system package manager. It is recommended to use a virtual environment instead: https://pip.pypa.io/warnings/venv\u001b[0m\u001b[33m\n",
            "\u001b[0m"
          ]
        }
      ]
    },
    {
      "cell_type": "code",
      "source": [
        "import tensorrt\n",
        "print(tensorrt.__version__)"
      ],
      "metadata": {
        "id": "qC8UgIcY3FAJ",
        "outputId": "d5300684-7372-4cf0-f3ea-5c911861ffcf",
        "colab": {
          "base_uri": "https://localhost:8080/"
        }
      },
      "execution_count": 8,
      "outputs": [
        {
          "output_type": "stream",
          "name": "stdout",
          "text": [
            "8.4.0.6\n"
          ]
        }
      ]
    },
    {
      "cell_type": "markdown",
      "metadata": {
        "id": "R6i4673tsAAz"
      },
      "source": [
        "get tensorrt utility files"
      ]
    },
    {
      "cell_type": "code",
      "execution_count": 9,
      "metadata": {
        "id": "KgaetwYcsE4F",
        "outputId": "c6b088b0-bfe4-408a-b185-ddfcfd7c0c6c",
        "colab": {
          "base_uri": "https://localhost:8080/"
        }
      },
      "outputs": [
        {
          "output_type": "stream",
          "name": "stdout",
          "text": [
            "--2022-05-17 22:53:24--  https://raw.githubusercontent.com/NVIDIA/TensorRT/main/samples/python/tensorflow_object_detection_api/build_engine.py\n",
            "Resolving raw.githubusercontent.com (raw.githubusercontent.com)... 185.199.108.133, 185.199.110.133, 185.199.109.133, ...\n",
            "Connecting to raw.githubusercontent.com (raw.githubusercontent.com)|185.199.108.133|:443... connected.\n",
            "HTTP request sent, awaiting response... 200 OK\n",
            "Length: 12009 (12K) [text/plain]\n",
            "Saving to: ‘build_engine.py.3’\n",
            "\n",
            "build_engine.py.3   100%[===================>]  11.73K  --.-KB/s    in 0s      \n",
            "\n",
            "2022-05-17 22:53:24 (53.6 MB/s) - ‘build_engine.py.3’ saved [12009/12009]\n",
            "\n",
            "--2022-05-17 22:53:24--  https://raw.githubusercontent.com/NVIDIA/TensorRT/main/samples/python/tensorflow_object_detection_api/create_onnx.py\n",
            "Resolving raw.githubusercontent.com (raw.githubusercontent.com)... 185.199.108.133, 185.199.109.133, 185.199.110.133, ...\n",
            "Connecting to raw.githubusercontent.com (raw.githubusercontent.com)|185.199.108.133|:443... connected.\n",
            "HTTP request sent, awaiting response... 200 OK\n",
            "Length: 40909 (40K) [text/plain]\n",
            "Saving to: ‘create_onnx.py.3’\n",
            "\n",
            "create_onnx.py.3    100%[===================>]  39.95K  --.-KB/s    in 0.003s  \n",
            "\n",
            "2022-05-17 22:53:25 (11.8 MB/s) - ‘create_onnx.py.3’ saved [40909/40909]\n",
            "\n",
            "--2022-05-17 22:53:25--  https://raw.githubusercontent.com/NVIDIA/TensorRT/main/samples/python/tensorflow_object_detection_api/image_batcher.py\n",
            "Resolving raw.githubusercontent.com (raw.githubusercontent.com)... 185.199.111.133, 185.199.109.133, 185.199.110.133, ...\n",
            "Connecting to raw.githubusercontent.com (raw.githubusercontent.com)|185.199.111.133|:443... connected.\n",
            "HTTP request sent, awaiting response... 200 OK\n",
            "Length: 7723 (7.5K) [text/plain]\n",
            "Saving to: ‘image_batcher.py.2’\n",
            "\n",
            "image_batcher.py.2  100%[===================>]   7.54K  --.-KB/s    in 0s      \n",
            "\n",
            "2022-05-17 22:53:25 (41.3 MB/s) - ‘image_batcher.py.2’ saved [7723/7723]\n",
            "\n",
            "--2022-05-17 22:53:25--  https://raw.githubusercontent.com/NVIDIA/TensorRT/main/samples/python/tensorflow_object_detection_api/infer.py\n",
            "Resolving raw.githubusercontent.com (raw.githubusercontent.com)... 185.199.111.133, 185.199.110.133, 185.199.108.133, ...\n",
            "Connecting to raw.githubusercontent.com (raw.githubusercontent.com)|185.199.111.133|:443... connected.\n",
            "HTTP request sent, awaiting response... 200 OK\n",
            "Length: 10788 (11K) [text/plain]\n",
            "Saving to: ‘infer.py.6’\n",
            "\n",
            "infer.py.6          100%[===================>]  10.54K  --.-KB/s    in 0s      \n",
            "\n",
            "2022-05-17 22:53:25 (61.8 MB/s) - ‘infer.py.6’ saved [10788/10788]\n",
            "\n",
            "--2022-05-17 22:53:25--  https://raw.githubusercontent.com/NVIDIA/TensorRT/main/samples/python/tensorflow_object_detection_api/compare_tf.py\n",
            "Resolving raw.githubusercontent.com (raw.githubusercontent.com)... 185.199.110.133, 185.199.111.133, 185.199.109.133, ...\n",
            "Connecting to raw.githubusercontent.com (raw.githubusercontent.com)|185.199.110.133|:443... connected.\n",
            "HTTP request sent, awaiting response... 200 OK\n",
            "Length: 12788 (12K) [text/plain]\n",
            "Saving to: ‘compare_tf.py.2’\n",
            "\n",
            "compare_tf.py.2     100%[===================>]  12.49K  --.-KB/s    in 0s      \n",
            "\n",
            "2022-05-17 22:53:25 (54.3 MB/s) - ‘compare_tf.py.2’ saved [12788/12788]\n",
            "\n",
            "--2022-05-17 22:53:25--  https://raw.githubusercontent.com/NVIDIA/TensorRT/main/samples/python/tensorflow_object_detection_api/infer.py\n",
            "Resolving raw.githubusercontent.com (raw.githubusercontent.com)... 185.199.108.133, 185.199.109.133, 185.199.110.133, ...\n",
            "Connecting to raw.githubusercontent.com (raw.githubusercontent.com)|185.199.108.133|:443... connected.\n",
            "HTTP request sent, awaiting response... 200 OK\n",
            "Length: 10788 (11K) [text/plain]\n",
            "Saving to: ‘infer.py.7’\n",
            "\n",
            "infer.py.7          100%[===================>]  10.54K  --.-KB/s    in 0s      \n",
            "\n",
            "2022-05-17 22:53:26 (80.7 MB/s) - ‘infer.py.7’ saved [10788/10788]\n",
            "\n",
            "--2022-05-17 22:53:26--  https://raw.githubusercontent.com/NVIDIA/TensorRT/main/samples/python/tensorflow_object_detection_api/onnx_utils.py\n",
            "Resolving raw.githubusercontent.com (raw.githubusercontent.com)... 185.199.108.133, 185.199.109.133, 185.199.110.133, ...\n",
            "Connecting to raw.githubusercontent.com (raw.githubusercontent.com)|185.199.108.133|:443... connected.\n",
            "HTTP request sent, awaiting response... 200 OK\n",
            "Length: 9961 (9.7K) [text/plain]\n",
            "Saving to: ‘onnx_utils.py.2’\n",
            "\n",
            "onnx_utils.py.2     100%[===================>]   9.73K  --.-KB/s    in 0s      \n",
            "\n",
            "2022-05-17 22:53:26 (73.5 MB/s) - ‘onnx_utils.py.2’ saved [9961/9961]\n",
            "\n",
            "--2022-05-17 22:53:26--  https://raw.githubusercontent.com/NVIDIA/TensorRT/main/samples/python/tensorflow_object_detection_api/visualize.py\n",
            "Resolving raw.githubusercontent.com (raw.githubusercontent.com)... 185.199.108.133, 185.199.109.133, 185.199.110.133, ...\n",
            "Connecting to raw.githubusercontent.com (raw.githubusercontent.com)|185.199.108.133|:443... connected.\n",
            "HTTP request sent, awaiting response... 200 OK\n",
            "Length: 7275 (7.1K) [text/plain]\n",
            "Saving to: ‘visualize.py.2’\n",
            "\n",
            "visualize.py.2      100%[===================>]   7.10K  --.-KB/s    in 0s      \n",
            "\n",
            "2022-05-17 22:53:26 (43.4 MB/s) - ‘visualize.py.2’ saved [7275/7275]\n",
            "\n"
          ]
        }
      ],
      "source": [
        "url = 'https://raw.githubusercontent.com/NVIDIA/TensorRT/main/samples/python/tensorflow_object_detection_api/{}.py'\n",
        "files = ['build_engine', 'create_onnx', 'image_batcher', 'infer', 'compare_tf', 'infer', 'onnx_utils', 'visualize']\n",
        "os.chdir('/content/utils/scripts')\n",
        "for file in files:\n",
        "    furl = url.format(file)\n",
        "    !wget {furl}"
      ]
    },
    {
      "cell_type": "markdown",
      "metadata": {
        "id": "-03wJdovuzk9"
      },
      "source": [
        "## Create TensorRT Engine"
      ]
    },
    {
      "cell_type": "code",
      "execution_count": 14,
      "metadata": {
        "id": "7Et08YQou_J3",
        "outputId": "6644ca69-877b-4f16-b93f-a21b3abe5b02",
        "colab": {
          "base_uri": "https://localhost:8080/"
        }
      },
      "outputs": [
        {
          "output_type": "stream",
          "name": "stdout",
          "text": [
            "/content/workspace/MyDrive/tensorflow/power-port-targeting/exported-models/trained_model/saved_model\n",
            "2022-05-17 23:08:06.122221: W tensorflow/core/common_runtime/gpu/gpu_bfc_allocator.cc:39] Overriding allow_growth setting because the TF_FORCE_GPU_ALLOW_GROWTH environment variable is set. Original config value was 0.\n",
            "INFO:tf2onnx.tf_loader:Signatures found in model: [serving_default].\n",
            "WARNING:tensorflow:From /usr/local/lib/python3.7/dist-packages/tf2onnx/tf_loader.py:529: extract_sub_graph (from tensorflow.python.framework.graph_util_impl) is deprecated and will be removed in a future version.\n",
            "Instructions for updating:\n",
            "Use `tf.compat.v1.graph_util.extract_sub_graph`\n",
            "WARNING:tensorflow:From /usr/local/lib/python3.7/dist-packages/tf2onnx/tf_loader.py:529: extract_sub_graph (from tensorflow.python.framework.graph_util_impl) is deprecated and will be removed in a future version.\n",
            "Instructions for updating:\n",
            "Use `tf.compat.v1.graph_util.extract_sub_graph`\n",
            "INFO:ModelHelper:Loaded saved model from /content/workspace/.shortcut-targets-by-id/14CICqswNgg6A6bA_ucf0CNafkIEVmdaV/tensorflow/power-port-targeting/exported-models/trained_model/saved_model\n",
            "INFO:tf2onnx.tfonnx:Using tensorflow=2.8.0, onnx=1.8.1, tf2onnx=1.8.1/4e49f3\n",
            "INFO:tf2onnx.tfonnx:Using opset <onnx, 11>\n",
            "INFO:tf2onnx.tf_utils:Computed 4 values for constant folding\n",
            "INFO:tf2onnx.tf_utils:Computed 0 values for constant folding\n",
            "INFO:tf2onnx.tf_utils:Computed 0 values for constant folding\n",
            "INFO:tf2onnx.tfonnx:folding node using tf type=ExpandDims, name=StatefulPartitionedCall/Postprocessor/ExpandDims_2\n",
            "INFO:tf2onnx.tfonnx:folding node using tf type=Identity, name=StatefulPartitionedCall/MultiscaleGridAnchorGenerator/GridAnchorGenerator/Identity\n",
            "INFO:tf2onnx.tfonnx:folding node using tf type=Select, name=StatefulPartitionedCall/Postprocessor/BatchMultiClassNonMaxSuppression/PadOrClipBoxList/Select_1\n",
            "INFO:tf2onnx.tfonnx:folding node using tf type=Select, name=StatefulPartitionedCall/Postprocessor/BatchMultiClassNonMaxSuppression/PadOrClipBoxList/Select_8\n",
            "INFO:tf2onnx.tfonnx:folding node type=Range, name=StatefulPartitionedCall/Postprocessor/range\n",
            "WARNING:tf2onnx.onnx_opset.nn:Node StatefulPartitionedCall/ResNet50V1_FPN/model/conv1_bn/FusedBatchNormV3 of type FusedBatchNormV3 has is_training set to true, which is not supperted. Please re-save the model with training set to false.\n",
            "WARNING:tf2onnx.onnx_opset.nn:Node StatefulPartitionedCall/ResNet50V1_FPN/model/conv2_block1_1_bn/FusedBatchNormV3 of type FusedBatchNormV3 has is_training set to true, which is not supperted. Please re-save the model with training set to false.\n",
            "WARNING:tf2onnx.onnx_opset.nn:Node StatefulPartitionedCall/ResNet50V1_FPN/model/conv2_block1_2_bn/FusedBatchNormV3 of type FusedBatchNormV3 has is_training set to true, which is not supperted. Please re-save the model with training set to false.\n",
            "WARNING:tf2onnx.onnx_opset.nn:Node StatefulPartitionedCall/ResNet50V1_FPN/model/conv2_block1_3_bn/FusedBatchNormV3 of type FusedBatchNormV3 has is_training set to true, which is not supperted. Please re-save the model with training set to false.\n",
            "WARNING:tf2onnx.onnx_opset.nn:Node StatefulPartitionedCall/ResNet50V1_FPN/model/conv2_block1_0_bn/FusedBatchNormV3 of type FusedBatchNormV3 has is_training set to true, which is not supperted. Please re-save the model with training set to false.\n",
            "WARNING:tf2onnx.onnx_opset.nn:Node StatefulPartitionedCall/ResNet50V1_FPN/model/conv2_block2_1_bn/FusedBatchNormV3 of type FusedBatchNormV3 has is_training set to true, which is not supperted. Please re-save the model with training set to false.\n",
            "WARNING:tf2onnx.onnx_opset.nn:Node StatefulPartitionedCall/ResNet50V1_FPN/model/conv2_block2_2_bn/FusedBatchNormV3 of type FusedBatchNormV3 has is_training set to true, which is not supperted. Please re-save the model with training set to false.\n",
            "WARNING:tf2onnx.onnx_opset.nn:Node StatefulPartitionedCall/ResNet50V1_FPN/model/conv2_block2_3_bn/FusedBatchNormV3 of type FusedBatchNormV3 has is_training set to true, which is not supperted. Please re-save the model with training set to false.\n",
            "WARNING:tf2onnx.onnx_opset.nn:Node StatefulPartitionedCall/ResNet50V1_FPN/model/conv2_block3_1_bn/FusedBatchNormV3 of type FusedBatchNormV3 has is_training set to true, which is not supperted. Please re-save the model with training set to false.\n",
            "WARNING:tf2onnx.onnx_opset.nn:Node StatefulPartitionedCall/ResNet50V1_FPN/model/conv2_block3_2_bn/FusedBatchNormV3 of type FusedBatchNormV3 has is_training set to true, which is not supperted. Please re-save the model with training set to false.\n",
            "WARNING:tf2onnx.onnx_opset.nn:Node StatefulPartitionedCall/ResNet50V1_FPN/model/conv2_block3_3_bn/FusedBatchNormV3 of type FusedBatchNormV3 has is_training set to true, which is not supperted. Please re-save the model with training set to false.\n",
            "WARNING:tf2onnx.onnx_opset.nn:Node StatefulPartitionedCall/ResNet50V1_FPN/model/conv3_block1_1_bn/FusedBatchNormV3 of type FusedBatchNormV3 has is_training set to true, which is not supperted. Please re-save the model with training set to false.\n",
            "WARNING:tf2onnx.onnx_opset.nn:Node StatefulPartitionedCall/ResNet50V1_FPN/model/conv3_block1_2_bn/FusedBatchNormV3 of type FusedBatchNormV3 has is_training set to true, which is not supperted. Please re-save the model with training set to false.\n",
            "WARNING:tf2onnx.onnx_opset.nn:Node StatefulPartitionedCall/ResNet50V1_FPN/model/conv3_block1_3_bn/FusedBatchNormV3 of type FusedBatchNormV3 has is_training set to true, which is not supperted. Please re-save the model with training set to false.\n",
            "WARNING:tf2onnx.onnx_opset.nn:Node StatefulPartitionedCall/ResNet50V1_FPN/model/conv3_block1_0_bn/FusedBatchNormV3 of type FusedBatchNormV3 has is_training set to true, which is not supperted. Please re-save the model with training set to false.\n",
            "WARNING:tf2onnx.onnx_opset.nn:Node StatefulPartitionedCall/ResNet50V1_FPN/model/conv3_block2_1_bn/FusedBatchNormV3 of type FusedBatchNormV3 has is_training set to true, which is not supperted. Please re-save the model with training set to false.\n",
            "WARNING:tf2onnx.onnx_opset.nn:Node StatefulPartitionedCall/ResNet50V1_FPN/model/conv3_block2_2_bn/FusedBatchNormV3 of type FusedBatchNormV3 has is_training set to true, which is not supperted. Please re-save the model with training set to false.\n",
            "WARNING:tf2onnx.onnx_opset.nn:Node StatefulPartitionedCall/ResNet50V1_FPN/model/conv3_block2_3_bn/FusedBatchNormV3 of type FusedBatchNormV3 has is_training set to true, which is not supperted. Please re-save the model with training set to false.\n",
            "WARNING:tf2onnx.onnx_opset.nn:Node StatefulPartitionedCall/ResNet50V1_FPN/model/conv3_block3_1_bn/FusedBatchNormV3 of type FusedBatchNormV3 has is_training set to true, which is not supperted. Please re-save the model with training set to false.\n",
            "WARNING:tf2onnx.onnx_opset.nn:Node StatefulPartitionedCall/ResNet50V1_FPN/model/conv3_block3_2_bn/FusedBatchNormV3 of type FusedBatchNormV3 has is_training set to true, which is not supperted. Please re-save the model with training set to false.\n",
            "WARNING:tf2onnx.onnx_opset.nn:Node StatefulPartitionedCall/ResNet50V1_FPN/model/conv3_block3_3_bn/FusedBatchNormV3 of type FusedBatchNormV3 has is_training set to true, which is not supperted. Please re-save the model with training set to false.\n",
            "WARNING:tf2onnx.onnx_opset.nn:Node StatefulPartitionedCall/ResNet50V1_FPN/model/conv3_block4_1_bn/FusedBatchNormV3 of type FusedBatchNormV3 has is_training set to true, which is not supperted. Please re-save the model with training set to false.\n",
            "WARNING:tf2onnx.onnx_opset.nn:Node StatefulPartitionedCall/ResNet50V1_FPN/model/conv3_block4_2_bn/FusedBatchNormV3 of type FusedBatchNormV3 has is_training set to true, which is not supperted. Please re-save the model with training set to false.\n",
            "WARNING:tf2onnx.onnx_opset.nn:Node StatefulPartitionedCall/ResNet50V1_FPN/model/conv3_block4_3_bn/FusedBatchNormV3 of type FusedBatchNormV3 has is_training set to true, which is not supperted. Please re-save the model with training set to false.\n",
            "WARNING:tf2onnx.onnx_opset.nn:Node StatefulPartitionedCall/ResNet50V1_FPN/model/conv4_block1_1_bn/FusedBatchNormV3 of type FusedBatchNormV3 has is_training set to true, which is not supperted. Please re-save the model with training set to false.\n",
            "WARNING:tf2onnx.onnx_opset.nn:Node StatefulPartitionedCall/ResNet50V1_FPN/model/conv4_block1_2_bn/FusedBatchNormV3 of type FusedBatchNormV3 has is_training set to true, which is not supperted. Please re-save the model with training set to false.\n",
            "WARNING:tf2onnx.onnx_opset.nn:Node StatefulPartitionedCall/ResNet50V1_FPN/model/conv4_block1_3_bn/FusedBatchNormV3 of type FusedBatchNormV3 has is_training set to true, which is not supperted. Please re-save the model with training set to false.\n",
            "WARNING:tf2onnx.onnx_opset.nn:Node StatefulPartitionedCall/ResNet50V1_FPN/model/conv4_block1_0_bn/FusedBatchNormV3 of type FusedBatchNormV3 has is_training set to true, which is not supperted. Please re-save the model with training set to false.\n",
            "WARNING:tf2onnx.onnx_opset.nn:Node StatefulPartitionedCall/ResNet50V1_FPN/model/conv4_block2_1_bn/FusedBatchNormV3 of type FusedBatchNormV3 has is_training set to true, which is not supperted. Please re-save the model with training set to false.\n",
            "WARNING:tf2onnx.onnx_opset.nn:Node StatefulPartitionedCall/ResNet50V1_FPN/model/conv4_block2_2_bn/FusedBatchNormV3 of type FusedBatchNormV3 has is_training set to true, which is not supperted. Please re-save the model with training set to false.\n",
            "WARNING:tf2onnx.onnx_opset.nn:Node StatefulPartitionedCall/ResNet50V1_FPN/model/conv4_block2_3_bn/FusedBatchNormV3 of type FusedBatchNormV3 has is_training set to true, which is not supperted. Please re-save the model with training set to false.\n",
            "WARNING:tf2onnx.onnx_opset.nn:Node StatefulPartitionedCall/ResNet50V1_FPN/model/conv4_block3_1_bn/FusedBatchNormV3 of type FusedBatchNormV3 has is_training set to true, which is not supperted. Please re-save the model with training set to false.\n",
            "WARNING:tf2onnx.onnx_opset.nn:Node StatefulPartitionedCall/ResNet50V1_FPN/model/conv4_block3_2_bn/FusedBatchNormV3 of type FusedBatchNormV3 has is_training set to true, which is not supperted. Please re-save the model with training set to false.\n",
            "WARNING:tf2onnx.onnx_opset.nn:Node StatefulPartitionedCall/ResNet50V1_FPN/model/conv4_block3_3_bn/FusedBatchNormV3 of type FusedBatchNormV3 has is_training set to true, which is not supperted. Please re-save the model with training set to false.\n",
            "WARNING:tf2onnx.onnx_opset.nn:Node StatefulPartitionedCall/ResNet50V1_FPN/model/conv4_block4_1_bn/FusedBatchNormV3 of type FusedBatchNormV3 has is_training set to true, which is not supperted. Please re-save the model with training set to false.\n",
            "WARNING:tf2onnx.onnx_opset.nn:Node StatefulPartitionedCall/ResNet50V1_FPN/model/conv4_block4_2_bn/FusedBatchNormV3 of type FusedBatchNormV3 has is_training set to true, which is not supperted. Please re-save the model with training set to false.\n",
            "WARNING:tf2onnx.onnx_opset.nn:Node StatefulPartitionedCall/ResNet50V1_FPN/model/conv4_block4_3_bn/FusedBatchNormV3 of type FusedBatchNormV3 has is_training set to true, which is not supperted. Please re-save the model with training set to false.\n",
            "WARNING:tf2onnx.onnx_opset.nn:Node StatefulPartitionedCall/ResNet50V1_FPN/model/conv4_block5_1_bn/FusedBatchNormV3 of type FusedBatchNormV3 has is_training set to true, which is not supperted. Please re-save the model with training set to false.\n",
            "WARNING:tf2onnx.onnx_opset.nn:Node StatefulPartitionedCall/ResNet50V1_FPN/model/conv4_block5_2_bn/FusedBatchNormV3 of type FusedBatchNormV3 has is_training set to true, which is not supperted. Please re-save the model with training set to false.\n",
            "WARNING:tf2onnx.onnx_opset.nn:Node StatefulPartitionedCall/ResNet50V1_FPN/model/conv4_block5_3_bn/FusedBatchNormV3 of type FusedBatchNormV3 has is_training set to true, which is not supperted. Please re-save the model with training set to false.\n",
            "WARNING:tf2onnx.onnx_opset.nn:Node StatefulPartitionedCall/ResNet50V1_FPN/model/conv4_block6_1_bn/FusedBatchNormV3 of type FusedBatchNormV3 has is_training set to true, which is not supperted. Please re-save the model with training set to false.\n",
            "WARNING:tf2onnx.onnx_opset.nn:Node StatefulPartitionedCall/ResNet50V1_FPN/model/conv4_block6_2_bn/FusedBatchNormV3 of type FusedBatchNormV3 has is_training set to true, which is not supperted. Please re-save the model with training set to false.\n",
            "WARNING:tf2onnx.onnx_opset.nn:Node StatefulPartitionedCall/ResNet50V1_FPN/model/conv4_block6_3_bn/FusedBatchNormV3 of type FusedBatchNormV3 has is_training set to true, which is not supperted. Please re-save the model with training set to false.\n",
            "WARNING:tf2onnx.onnx_opset.nn:Node StatefulPartitionedCall/ResNet50V1_FPN/model/conv5_block1_1_bn/FusedBatchNormV3 of type FusedBatchNormV3 has is_training set to true, which is not supperted. Please re-save the model with training set to false.\n",
            "WARNING:tf2onnx.onnx_opset.nn:Node StatefulPartitionedCall/ResNet50V1_FPN/model/conv5_block1_2_bn/FusedBatchNormV3 of type FusedBatchNormV3 has is_training set to true, which is not supperted. Please re-save the model with training set to false.\n",
            "WARNING:tf2onnx.onnx_opset.nn:Node StatefulPartitionedCall/ResNet50V1_FPN/model/conv5_block1_3_bn/FusedBatchNormV3 of type FusedBatchNormV3 has is_training set to true, which is not supperted. Please re-save the model with training set to false.\n",
            "WARNING:tf2onnx.onnx_opset.nn:Node StatefulPartitionedCall/ResNet50V1_FPN/model/conv5_block1_0_bn/FusedBatchNormV3 of type FusedBatchNormV3 has is_training set to true, which is not supperted. Please re-save the model with training set to false.\n",
            "WARNING:tf2onnx.onnx_opset.nn:Node StatefulPartitionedCall/ResNet50V1_FPN/model/conv5_block2_1_bn/FusedBatchNormV3 of type FusedBatchNormV3 has is_training set to true, which is not supperted. Please re-save the model with training set to false.\n",
            "WARNING:tf2onnx.onnx_opset.nn:Node StatefulPartitionedCall/ResNet50V1_FPN/model/conv5_block2_2_bn/FusedBatchNormV3 of type FusedBatchNormV3 has is_training set to true, which is not supperted. Please re-save the model with training set to false.\n",
            "WARNING:tf2onnx.onnx_opset.nn:Node StatefulPartitionedCall/ResNet50V1_FPN/model/conv5_block2_3_bn/FusedBatchNormV3 of type FusedBatchNormV3 has is_training set to true, which is not supperted. Please re-save the model with training set to false.\n",
            "WARNING:tf2onnx.onnx_opset.nn:Node StatefulPartitionedCall/ResNet50V1_FPN/model/conv5_block3_1_bn/FusedBatchNormV3 of type FusedBatchNormV3 has is_training set to true, which is not supperted. Please re-save the model with training set to false.\n",
            "WARNING:tf2onnx.onnx_opset.nn:Node StatefulPartitionedCall/ResNet50V1_FPN/model/conv5_block3_2_bn/FusedBatchNormV3 of type FusedBatchNormV3 has is_training set to true, which is not supperted. Please re-save the model with training set to false.\n",
            "WARNING:tf2onnx.onnx_opset.nn:Node StatefulPartitionedCall/ResNet50V1_FPN/model/conv5_block3_3_bn/FusedBatchNormV3 of type FusedBatchNormV3 has is_training set to true, which is not supperted. Please re-save the model with training set to false.\n",
            "WARNING:tf2onnx.onnx_opset.nn:Node StatefulPartitionedCall/WeightSharedConvolutionalBoxPredictor/ClassPredictionTower/conv2d_0/BatchNorm/feature_2/FusedBatchNormV3 of type FusedBatchNormV3 has is_training set to true, which is not supperted. Please re-save the model with training set to false.\n",
            "WARNING:tf2onnx.onnx_opset.nn:Node StatefulPartitionedCall/WeightSharedConvolutionalBoxPredictor/ClassPredictionTower/conv2d_1/BatchNorm/feature_2/FusedBatchNormV3 of type FusedBatchNormV3 has is_training set to true, which is not supperted. Please re-save the model with training set to false.\n",
            "WARNING:tf2onnx.onnx_opset.nn:Node StatefulPartitionedCall/WeightSharedConvolutionalBoxPredictor/ClassPredictionTower/conv2d_2/BatchNorm/feature_2/FusedBatchNormV3 of type FusedBatchNormV3 has is_training set to true, which is not supperted. Please re-save the model with training set to false.\n",
            "WARNING:tf2onnx.onnx_opset.nn:Node StatefulPartitionedCall/WeightSharedConvolutionalBoxPredictor/ClassPredictionTower/conv2d_3/BatchNorm/feature_2/FusedBatchNormV3 of type FusedBatchNormV3 has is_training set to true, which is not supperted. Please re-save the model with training set to false.\n",
            "WARNING:tf2onnx.onnx_opset.nn:Node StatefulPartitionedCall/WeightSharedConvolutionalBoxPredictor/BoxPredictionTower/conv2d_0/BatchNorm/feature_2/FusedBatchNormV3 of type FusedBatchNormV3 has is_training set to true, which is not supperted. Please re-save the model with training set to false.\n",
            "WARNING:tf2onnx.onnx_opset.nn:Node StatefulPartitionedCall/WeightSharedConvolutionalBoxPredictor/BoxPredictionTower/conv2d_1/BatchNorm/feature_2/FusedBatchNormV3 of type FusedBatchNormV3 has is_training set to true, which is not supperted. Please re-save the model with training set to false.\n",
            "WARNING:tf2onnx.onnx_opset.nn:Node StatefulPartitionedCall/WeightSharedConvolutionalBoxPredictor/BoxPredictionTower/conv2d_2/BatchNorm/feature_2/FusedBatchNormV3 of type FusedBatchNormV3 has is_training set to true, which is not supperted. Please re-save the model with training set to false.\n",
            "WARNING:tf2onnx.onnx_opset.nn:Node StatefulPartitionedCall/WeightSharedConvolutionalBoxPredictor/BoxPredictionTower/conv2d_3/BatchNorm/feature_2/FusedBatchNormV3 of type FusedBatchNormV3 has is_training set to true, which is not supperted. Please re-save the model with training set to false.\n",
            "WARNING:tf2onnx.onnx_opset.nn:Node StatefulPartitionedCall/ResNet50V1_FPN/bottom_up_block5_batchnorm/FusedBatchNormV3 of type FusedBatchNormV3 has is_training set to true, which is not supperted. Please re-save the model with training set to false.\n",
            "WARNING:tf2onnx.onnx_opset.nn:Node StatefulPartitionedCall/WeightSharedConvolutionalBoxPredictor/ClassPredictionTower/conv2d_0/BatchNorm/feature_3/FusedBatchNormV3 of type FusedBatchNormV3 has is_training set to true, which is not supperted. Please re-save the model with training set to false.\n",
            "WARNING:tf2onnx.onnx_opset.nn:Node StatefulPartitionedCall/WeightSharedConvolutionalBoxPredictor/ClassPredictionTower/conv2d_1/BatchNorm/feature_3/FusedBatchNormV3 of type FusedBatchNormV3 has is_training set to true, which is not supperted. Please re-save the model with training set to false.\n",
            "WARNING:tf2onnx.onnx_opset.nn:Node StatefulPartitionedCall/WeightSharedConvolutionalBoxPredictor/ClassPredictionTower/conv2d_2/BatchNorm/feature_3/FusedBatchNormV3 of type FusedBatchNormV3 has is_training set to true, which is not supperted. Please re-save the model with training set to false.\n",
            "WARNING:tf2onnx.onnx_opset.nn:Node StatefulPartitionedCall/WeightSharedConvolutionalBoxPredictor/ClassPredictionTower/conv2d_3/BatchNorm/feature_3/FusedBatchNormV3 of type FusedBatchNormV3 has is_training set to true, which is not supperted. Please re-save the model with training set to false.\n",
            "WARNING:tf2onnx.onnx_opset.nn:Node StatefulPartitionedCall/WeightSharedConvolutionalBoxPredictor/BoxPredictionTower/conv2d_0/BatchNorm/feature_3/FusedBatchNormV3 of type FusedBatchNormV3 has is_training set to true, which is not supperted. Please re-save the model with training set to false.\n",
            "WARNING:tf2onnx.onnx_opset.nn:Node StatefulPartitionedCall/WeightSharedConvolutionalBoxPredictor/BoxPredictionTower/conv2d_1/BatchNorm/feature_3/FusedBatchNormV3 of type FusedBatchNormV3 has is_training set to true, which is not supperted. Please re-save the model with training set to false.\n",
            "WARNING:tf2onnx.onnx_opset.nn:Node StatefulPartitionedCall/WeightSharedConvolutionalBoxPredictor/BoxPredictionTower/conv2d_2/BatchNorm/feature_3/FusedBatchNormV3 of type FusedBatchNormV3 has is_training set to true, which is not supperted. Please re-save the model with training set to false.\n",
            "WARNING:tf2onnx.onnx_opset.nn:Node StatefulPartitionedCall/WeightSharedConvolutionalBoxPredictor/BoxPredictionTower/conv2d_3/BatchNorm/feature_3/FusedBatchNormV3 of type FusedBatchNormV3 has is_training set to true, which is not supperted. Please re-save the model with training set to false.\n",
            "WARNING:tf2onnx.onnx_opset.nn:Node StatefulPartitionedCall/ResNet50V1_FPN/bottom_up_block6_batchnorm/FusedBatchNormV3 of type FusedBatchNormV3 has is_training set to true, which is not supperted. Please re-save the model with training set to false.\n",
            "WARNING:tf2onnx.onnx_opset.nn:Node StatefulPartitionedCall/WeightSharedConvolutionalBoxPredictor/ClassPredictionTower/conv2d_0/BatchNorm/feature_4/FusedBatchNormV3 of type FusedBatchNormV3 has is_training set to true, which is not supperted. Please re-save the model with training set to false.\n",
            "WARNING:tf2onnx.onnx_opset.nn:Node StatefulPartitionedCall/WeightSharedConvolutionalBoxPredictor/ClassPredictionTower/conv2d_1/BatchNorm/feature_4/FusedBatchNormV3 of type FusedBatchNormV3 has is_training set to true, which is not supperted. Please re-save the model with training set to false.\n",
            "WARNING:tf2onnx.onnx_opset.nn:Node StatefulPartitionedCall/WeightSharedConvolutionalBoxPredictor/ClassPredictionTower/conv2d_2/BatchNorm/feature_4/FusedBatchNormV3 of type FusedBatchNormV3 has is_training set to true, which is not supperted. Please re-save the model with training set to false.\n",
            "WARNING:tf2onnx.onnx_opset.nn:Node StatefulPartitionedCall/WeightSharedConvolutionalBoxPredictor/ClassPredictionTower/conv2d_3/BatchNorm/feature_4/FusedBatchNormV3 of type FusedBatchNormV3 has is_training set to true, which is not supperted. Please re-save the model with training set to false.\n",
            "WARNING:tf2onnx.onnx_opset.nn:Node StatefulPartitionedCall/WeightSharedConvolutionalBoxPredictor/BoxPredictionTower/conv2d_0/BatchNorm/feature_4/FusedBatchNormV3 of type FusedBatchNormV3 has is_training set to true, which is not supperted. Please re-save the model with training set to false.\n",
            "WARNING:tf2onnx.onnx_opset.nn:Node StatefulPartitionedCall/WeightSharedConvolutionalBoxPredictor/BoxPredictionTower/conv2d_1/BatchNorm/feature_4/FusedBatchNormV3 of type FusedBatchNormV3 has is_training set to true, which is not supperted. Please re-save the model with training set to false.\n",
            "WARNING:tf2onnx.onnx_opset.nn:Node StatefulPartitionedCall/WeightSharedConvolutionalBoxPredictor/BoxPredictionTower/conv2d_2/BatchNorm/feature_4/FusedBatchNormV3 of type FusedBatchNormV3 has is_training set to true, which is not supperted. Please re-save the model with training set to false.\n",
            "WARNING:tf2onnx.onnx_opset.nn:Node StatefulPartitionedCall/WeightSharedConvolutionalBoxPredictor/BoxPredictionTower/conv2d_3/BatchNorm/feature_4/FusedBatchNormV3 of type FusedBatchNormV3 has is_training set to true, which is not supperted. Please re-save the model with training set to false.\n",
            "WARNING:tf2onnx.onnx_opset.nn:Node StatefulPartitionedCall/ResNet50V1_FPN/FeatureMaps/top_down/smoothing_2_batchnorm/FusedBatchNormV3 of type FusedBatchNormV3 has is_training set to true, which is not supperted. Please re-save the model with training set to false.\n",
            "WARNING:tf2onnx.onnx_opset.nn:Node StatefulPartitionedCall/WeightSharedConvolutionalBoxPredictor/ClassPredictionTower/conv2d_0/BatchNorm/feature_1/FusedBatchNormV3 of type FusedBatchNormV3 has is_training set to true, which is not supperted. Please re-save the model with training set to false.\n",
            "WARNING:tf2onnx.onnx_opset.nn:Node StatefulPartitionedCall/WeightSharedConvolutionalBoxPredictor/ClassPredictionTower/conv2d_1/BatchNorm/feature_1/FusedBatchNormV3 of type FusedBatchNormV3 has is_training set to true, which is not supperted. Please re-save the model with training set to false.\n",
            "WARNING:tf2onnx.onnx_opset.nn:Node StatefulPartitionedCall/WeightSharedConvolutionalBoxPredictor/ClassPredictionTower/conv2d_2/BatchNorm/feature_1/FusedBatchNormV3 of type FusedBatchNormV3 has is_training set to true, which is not supperted. Please re-save the model with training set to false.\n",
            "WARNING:tf2onnx.onnx_opset.nn:Node StatefulPartitionedCall/WeightSharedConvolutionalBoxPredictor/ClassPredictionTower/conv2d_3/BatchNorm/feature_1/FusedBatchNormV3 of type FusedBatchNormV3 has is_training set to true, which is not supperted. Please re-save the model with training set to false.\n",
            "WARNING:tf2onnx.onnx_opset.nn:Node StatefulPartitionedCall/WeightSharedConvolutionalBoxPredictor/BoxPredictionTower/conv2d_0/BatchNorm/feature_1/FusedBatchNormV3 of type FusedBatchNormV3 has is_training set to true, which is not supperted. Please re-save the model with training set to false.\n",
            "WARNING:tf2onnx.onnx_opset.nn:Node StatefulPartitionedCall/WeightSharedConvolutionalBoxPredictor/BoxPredictionTower/conv2d_1/BatchNorm/feature_1/FusedBatchNormV3 of type FusedBatchNormV3 has is_training set to true, which is not supperted. Please re-save the model with training set to false.\n",
            "WARNING:tf2onnx.onnx_opset.nn:Node StatefulPartitionedCall/WeightSharedConvolutionalBoxPredictor/BoxPredictionTower/conv2d_2/BatchNorm/feature_1/FusedBatchNormV3 of type FusedBatchNormV3 has is_training set to true, which is not supperted. Please re-save the model with training set to false.\n",
            "WARNING:tf2onnx.onnx_opset.nn:Node StatefulPartitionedCall/WeightSharedConvolutionalBoxPredictor/BoxPredictionTower/conv2d_3/BatchNorm/feature_1/FusedBatchNormV3 of type FusedBatchNormV3 has is_training set to true, which is not supperted. Please re-save the model with training set to false.\n",
            "WARNING:tf2onnx.onnx_opset.nn:Node StatefulPartitionedCall/ResNet50V1_FPN/FeatureMaps/top_down/smoothing_1_batchnorm/FusedBatchNormV3 of type FusedBatchNormV3 has is_training set to true, which is not supperted. Please re-save the model with training set to false.\n",
            "WARNING:tf2onnx.onnx_opset.nn:Node StatefulPartitionedCall/WeightSharedConvolutionalBoxPredictor/ClassPredictionTower/conv2d_0/BatchNorm/feature_0/FusedBatchNormV3 of type FusedBatchNormV3 has is_training set to true, which is not supperted. Please re-save the model with training set to false.\n",
            "WARNING:tf2onnx.onnx_opset.nn:Node StatefulPartitionedCall/WeightSharedConvolutionalBoxPredictor/ClassPredictionTower/conv2d_1/BatchNorm/feature_0/FusedBatchNormV3 of type FusedBatchNormV3 has is_training set to true, which is not supperted. Please re-save the model with training set to false.\n",
            "WARNING:tf2onnx.onnx_opset.nn:Node StatefulPartitionedCall/WeightSharedConvolutionalBoxPredictor/ClassPredictionTower/conv2d_2/BatchNorm/feature_0/FusedBatchNormV3 of type FusedBatchNormV3 has is_training set to true, which is not supperted. Please re-save the model with training set to false.\n",
            "WARNING:tf2onnx.onnx_opset.nn:Node StatefulPartitionedCall/WeightSharedConvolutionalBoxPredictor/ClassPredictionTower/conv2d_3/BatchNorm/feature_0/FusedBatchNormV3 of type FusedBatchNormV3 has is_training set to true, which is not supperted. Please re-save the model with training set to false.\n",
            "WARNING:tf2onnx.onnx_opset.nn:Node StatefulPartitionedCall/WeightSharedConvolutionalBoxPredictor/BoxPredictionTower/conv2d_0/BatchNorm/feature_0/FusedBatchNormV3 of type FusedBatchNormV3 has is_training set to true, which is not supperted. Please re-save the model with training set to false.\n",
            "WARNING:tf2onnx.onnx_opset.nn:Node StatefulPartitionedCall/WeightSharedConvolutionalBoxPredictor/BoxPredictionTower/conv2d_1/BatchNorm/feature_0/FusedBatchNormV3 of type FusedBatchNormV3 has is_training set to true, which is not supperted. Please re-save the model with training set to false.\n",
            "WARNING:tf2onnx.onnx_opset.nn:Node StatefulPartitionedCall/WeightSharedConvolutionalBoxPredictor/BoxPredictionTower/conv2d_2/BatchNorm/feature_0/FusedBatchNormV3 of type FusedBatchNormV3 has is_training set to true, which is not supperted. Please re-save the model with training set to false.\n",
            "WARNING:tf2onnx.onnx_opset.nn:Node StatefulPartitionedCall/WeightSharedConvolutionalBoxPredictor/BoxPredictionTower/conv2d_3/BatchNorm/feature_0/FusedBatchNormV3 of type FusedBatchNormV3 has is_training set to true, which is not supperted. Please re-save the model with training set to false.\n",
            "INFO:tf2onnx.optimizer:Optimizing ONNX model\n",
            "INFO:tf2onnx.optimizer:After optimization: BatchNormalization -94 (97->3), Cast -46 (113->67), Const -798 (1083->285), Identity -82 (82->0), Less -1 (6->5), Mul -2 (48->46), ReduceSum -1 (2->1), Reshape -1 (32->31), Shape -2 (17->15), Slice -9 (39->30), Squeeze -11 (53->42), Sub -1 (26->25), Transpose -401 (427->26), Unsqueeze -16 (59->43)\n",
            "INFO:ModelHelper:TF2ONNX graph created successfully\n",
            "INFO:ModelHelper:Model is ssd_resnet50_v1_fpn_keras\n",
            "INFO:ModelHelper:Height is 640\n",
            "INFO:ModelHelper:Width is 640\n",
            "INFO:ModelHelper:First NMS score threshold is 9.99999993922529e-09\n",
            "INFO:ModelHelper:First NMS iou threshold is 0.6000000238418579\n",
            "INFO:ModelHelper:First NMS max proposals is 100\n",
            "Warning: Unsupported operator TensorListStack. No schema registered for this operator.\n",
            "Warning: Unsupported operator TensorListStack. No schema registered for this operator.\n",
            "Warning: Unsupported operator TensorListStack. No schema registered for this operator.\n",
            "Warning: Unsupported operator TensorListStack. No schema registered for this operator.\n",
            "INFO:ModelHelper:ONNX graph input shape: [1, 640, 640, 3] [NCHW format set]\n",
            "INFO:ModelHelper:Found Conv node 'StatefulPartitionedCall/ResNet50V1_FPN/model/conv1_conv/Conv2D' as stem entry\n",
            "INFO:ModelHelper:Found Concat node 'StatefulPartitionedCall/concat_1' as the tip of WeightSharedConvolutionalBoxPredictor/WeightSharedConvolutionalClassHead\n",
            "INFO:ModelHelper:Found Concat node 'StatefulPartitionedCall/concat' as the tip of WeightSharedConvolutionalBoxPredictor/WeightSharedConvolutionalBoxHead\n",
            "INFO:ModelHelper:Created 'nms/non_maximum_suppression' NMS plugin\n",
            "Warning: Unsupported operator EfficientNMS_TRT. No schema registered for this operator.\n",
            "Warning: Unsupported operator EfficientNMS_TRT. No schema registered for this operator.\n",
            "INFO:ModelHelper:Saved ONNX model to /content/workspace/.shortcut-targets-by-id/14CICqswNgg6A6bA_ucf0CNafkIEVmdaV/tensorflow/power-port-targeting/exported-models/trained_model/model.onnx\n"
          ]
        }
      ],
      "source": [
        "os.chdir('/content/utils/scripts')\n",
        "!echo {workdir}saved_model\n",
        "!python3 create_onnx.py \\\n",
        "    --pipeline_config {workdir}pipeline.config \\\n",
        "    --saved_model {workdir}saved_model \\\n",
        "    --onnx {workdir}model.onnx"
      ]
    },
    {
      "cell_type": "code",
      "execution_count": 19,
      "metadata": {
        "id": "2ddDfupkv-uy",
        "outputId": "8caf1518-e265-44b3-b346-5943c373c26e",
        "colab": {
          "base_uri": "https://localhost:8080/"
        }
      },
      "outputs": [
        {
          "output_type": "stream",
          "name": "stdout",
          "text": [
            "[05/17/2022-23:18:20] [TRT] [I] [MemUsageChange] Init CUDA: CPU +0, GPU +0, now: CPU 0, GPU 112 (MiB)\n",
            "[05/17/2022-23:18:21] [TRT] [I] [MemUsageSnapshot] Begin constructing builder kernel library: CPU 0 MiB, GPU 112 MiB\n",
            "[05/17/2022-23:18:21] [TRT] [I] [MemUsageSnapshot] End constructing builder kernel library: CPU 0 MiB, GPU 112 MiB\n",
            "build_engine.py:129: DeprecationWarning: Use set_memory_pool_limit instead.\n",
            "  self.config.max_workspace_size = workspace * (2 ** 30)\n",
            "[05/17/2022-23:18:22] [TRT] [W] onnx2trt_utils.cpp:365: Your ONNX model has been generated with INT64 weights, while TensorRT does not natively support INT64. Attempting to cast down to INT32.\n",
            "[05/17/2022-23:18:22] [TRT] [I] No importer registered for op: EfficientNMS_TRT. Attempting to import as plugin.\n",
            "[05/17/2022-23:18:22] [TRT] [I] Searching for plugin: EfficientNMS_TRT, plugin_version: 1, plugin_namespace: \n",
            "[05/17/2022-23:18:22] [TRT] [I] Successfully created plugin: EfficientNMS_TRT\n",
            "INFO:EngineBuilder:Network Description\n",
            "INFO:EngineBuilder:Input 'input_tensor' with shape (1, 640, 640, 3) and dtype DataType.FLOAT\n",
            "INFO:EngineBuilder:Output 'num_detections' with shape (1, 1) and dtype DataType.INT32\n",
            "INFO:EngineBuilder:Output 'detection_boxes' with shape (1, 100, 4) and dtype DataType.FLOAT\n",
            "INFO:EngineBuilder:Output 'detection_scores' with shape (1, 100) and dtype DataType.FLOAT\n",
            "INFO:EngineBuilder:Output 'detection_classes' with shape (1, 100) and dtype DataType.INT32\n",
            "INFO:EngineBuilder:Building fp32 Engine in /content/workspace/.shortcut-targets-by-id/14CICqswNgg6A6bA_ucf0CNafkIEVmdaV/tensorflow/power-port-targeting/exported-models/trained_model/engine.trt\n",
            "build_engine.py:222: DeprecationWarning: Use build_serialized_network instead.\n",
            "  with self.builder.build_engine(self.network, self.config) as engine:\n",
            "[05/17/2022-23:18:23] [TRT] [W] TensorRT was linked against cuBLAS/cuBLAS LT 11.8.0 but loaded cuBLAS/cuBLAS LT 111.0.1\n",
            "[05/17/2022-23:18:23] [TRT] [I] [MemUsageChange] Init cuBLAS/cuBLASLt: CPU +0, GPU +74, now: CPU 0, GPU 186 (MiB)\n",
            "[05/17/2022-23:18:23] [TRT] [I] [MemUsageChange] Init cuDNN: CPU +0, GPU +34, now: CPU 0, GPU 220 (MiB)\n",
            "[05/17/2022-23:18:23] [TRT] [I] Local timing cache in use. Profiling results in this builder pass will not be stored.\n",
            "[05/17/2022-23:18:25] [TRT] [W] GPU error during getBestTactic: StatefulPartitionedCall/ResNet50V1_FPN/model/conv1_conv/Conv2D + PWN(StatefulPartitionedCall/ResNet50V1_FPN/model/conv1_relu/Relu6) : an illegal memory access was encountered\n",
            "[05/17/2022-23:18:25] [TRT] [E] 1: [resizingAllocator.cpp::deallocate::105] Error Code 1: Cuda Runtime (an illegal memory access was encountered)\n",
            "[05/17/2022-23:18:25] [TRT] [E] 1: [virtualMemoryBuffer.cpp::~StdVirtualMemoryBufferImpl::121] Error Code 1: Cuda Runtime (an illegal memory access was encountered)\n",
            "[05/17/2022-23:18:25] [TRT] [E] 10: [optimizer.cpp::computeCosts::2033] Error Code 10: Internal Error (Could not find any implementation for node StatefulPartitionedCall/ResNet50V1_FPN/model/conv1_conv/Conv2D + PWN(StatefulPartitionedCall/ResNet50V1_FPN/model/conv1_relu/Relu6).)\n",
            "Traceback (most recent call last):\n",
            "  File \"build_engine.py\", line 260, in <module>\n",
            "    main(args)\n",
            "  File \"build_engine.py\", line 232, in main\n",
            "    args.calib_batch_size)\n",
            "  File \"build_engine.py\", line 222, in create_engine\n",
            "    with self.builder.build_engine(self.network, self.config) as engine:\n",
            "AttributeError: __enter__\n"
          ]
        }
      ],
      "source": [
        "os.chdir('/content/utils/scripts')\n",
        "!python3 build_engine.py \\\n",
        "    --onnx {workdir}model.onnx \\\n",
        "    --engine {workdir}engine.trt \\\n",
        "    --precision fp32 # for some reason this must be fp32, fp16 will not work"
      ]
    },
    {
      "cell_type": "markdown",
      "metadata": {
        "id": "wifi6ff2wKqM"
      },
      "source": [
        "## Test TensorRT Engine"
      ]
    },
    {
      "cell_type": "code",
      "execution_count": 12,
      "metadata": {
        "id": "sexALvpHxWPq",
        "outputId": "4677bb8c-99b3-4fd7-b90d-1a132fcec14a",
        "colab": {
          "base_uri": "https://localhost:8080/"
        }
      },
      "outputs": [
        {
          "output_type": "stream",
          "name": "stdout",
          "text": [
            "Traceback (most recent call last):\n",
            "  File \"infer.py\", line 236, in <module>\n",
            "    main(args)\n",
            "  File \"infer.py\", line 191, in main\n",
            "    with open(args.labels) as f:\n",
            "FileNotFoundError: [Errno 2] No such file or directory: '/content/workspace/MyDrive/tensorflow/power-port-targeting/exported-models/trained_model/label_map.txt'\n"
          ]
        }
      ],
      "source": [
        "os.chdir('/content/utils/scripts')\n",
        "!python3 infer.py \\\n",
        "    --engine {workdir}engine.trt \\\n",
        "    --input ../img \\\n",
        "    --output {workdir}output \\\n",
        "    --preprocessor fixed_shape_resizer \\\n",
        "    --labels {workdir}label_map.txt"
      ]
    },
    {
      "cell_type": "markdown",
      "source": [
        "## Download TensorRT Engine (`engine.trt`)"
      ],
      "metadata": {
        "id": "jJ7T0syEGPv3"
      }
    },
    {
      "cell_type": "code",
      "execution_count": 13,
      "metadata": {
        "id": "nAuQe24KyhPN",
        "outputId": "a442edb6-1bfd-48ab-c014-ef388d23ffc7",
        "colab": {
          "base_uri": "https://localhost:8080/",
          "height": 343
        }
      },
      "outputs": [
        {
          "output_type": "error",
          "ename": "FileNotFoundError",
          "evalue": "ignored",
          "traceback": [
            "\u001b[0;31m---------------------------------------------------------------------------\u001b[0m",
            "\u001b[0;31mFileNotFoundError\u001b[0m                         Traceback (most recent call last)",
            "\u001b[0;32m<ipython-input-13-9536c7b8e442>\u001b[0m in \u001b[0;36m<module>\u001b[0;34m()\u001b[0m\n\u001b[1;32m      1\u001b[0m \u001b[0mos\u001b[0m\u001b[0;34m.\u001b[0m\u001b[0mchdir\u001b[0m\u001b[0;34m(\u001b[0m\u001b[0;34m'/content/utils/scripts'\u001b[0m\u001b[0;34m)\u001b[0m\u001b[0;34m\u001b[0m\u001b[0;34m\u001b[0m\u001b[0m\n\u001b[1;32m      2\u001b[0m \u001b[0;32mfrom\u001b[0m \u001b[0mgoogle\u001b[0m\u001b[0;34m.\u001b[0m\u001b[0mcolab\u001b[0m \u001b[0;32mimport\u001b[0m \u001b[0mfiles\u001b[0m\u001b[0;34m\u001b[0m\u001b[0;34m\u001b[0m\u001b[0m\n\u001b[0;32m----> 3\u001b[0;31m \u001b[0mfiles\u001b[0m\u001b[0;34m.\u001b[0m\u001b[0mdownload\u001b[0m\u001b[0;34m(\u001b[0m\u001b[0mworkdir\u001b[0m \u001b[0;34m+\u001b[0m \u001b[0;34m'engine.trt'\u001b[0m\u001b[0;34m)\u001b[0m\u001b[0;34m\u001b[0m\u001b[0;34m\u001b[0m\u001b[0m\n\u001b[0m",
            "\u001b[0;32m/usr/local/lib/python3.7/dist-packages/google/colab/files.py\u001b[0m in \u001b[0;36mdownload\u001b[0;34m(filename)\u001b[0m\n\u001b[1;32m    187\u001b[0m       \u001b[0;32mraise\u001b[0m \u001b[0mOSError\u001b[0m\u001b[0;34m(\u001b[0m\u001b[0mmsg\u001b[0m\u001b[0;34m)\u001b[0m\u001b[0;34m\u001b[0m\u001b[0;34m\u001b[0m\u001b[0m\n\u001b[1;32m    188\u001b[0m     \u001b[0;32melse\u001b[0m\u001b[0;34m:\u001b[0m\u001b[0;34m\u001b[0m\u001b[0;34m\u001b[0m\u001b[0m\n\u001b[0;32m--> 189\u001b[0;31m       \u001b[0;32mraise\u001b[0m \u001b[0mFileNotFoundError\u001b[0m\u001b[0;34m(\u001b[0m\u001b[0mmsg\u001b[0m\u001b[0;34m)\u001b[0m  \u001b[0;31m# pylint: disable=undefined-variable\u001b[0m\u001b[0;34m\u001b[0m\u001b[0;34m\u001b[0m\u001b[0m\n\u001b[0m\u001b[1;32m    190\u001b[0m \u001b[0;34m\u001b[0m\u001b[0m\n\u001b[1;32m    191\u001b[0m   \u001b[0mcomm_manager\u001b[0m \u001b[0;34m=\u001b[0m \u001b[0m_IPython\u001b[0m\u001b[0;34m.\u001b[0m\u001b[0mget_ipython\u001b[0m\u001b[0;34m(\u001b[0m\u001b[0;34m)\u001b[0m\u001b[0;34m.\u001b[0m\u001b[0mkernel\u001b[0m\u001b[0;34m.\u001b[0m\u001b[0mcomm_manager\u001b[0m\u001b[0;34m\u001b[0m\u001b[0;34m\u001b[0m\u001b[0m\n",
            "\u001b[0;31mFileNotFoundError\u001b[0m: Cannot find file: /content/workspace/MyDrive/tensorflow/power-port-targeting/exported-models/trained_model/engine.trt"
          ]
        }
      ],
      "source": [
        "os.chdir('/content/utils/scripts')\n",
        "from google.colab import files\n",
        "files.download(workdir + 'engine.trt')"
      ]
    }
  ],
  "metadata": {
    "colab": {
      "name": "tensorrt.ipynb",
      "provenance": [],
      "include_colab_link": true
    },
    "kernelspec": {
      "display_name": "Python 3",
      "language": "python",
      "name": "python3"
    },
    "language_info": {
      "codemirror_mode": {
        "name": "ipython",
        "version": 3
      },
      "file_extension": ".py",
      "mimetype": "text/x-python",
      "name": "python",
      "nbconvert_exporter": "python",
      "pygments_lexer": "ipython3",
      "version": "3.6.9"
    },
    "accelerator": "GPU"
  },
  "nbformat": 4,
  "nbformat_minor": 0
}