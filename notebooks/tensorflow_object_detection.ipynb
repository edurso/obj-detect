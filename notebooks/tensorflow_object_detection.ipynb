{
  "cells": [
    {
      "cell_type": "markdown",
      "metadata": {
        "colab_type": "text",
        "id": "view-in-github"
      },
      "source": [
        "<a href=\"https://colab.research.google.com/github/edurso/tfod-wkspc/blob/master/notebooks/tensorflow_object_detection.ipynb\" target=\"_parent\"><img src=\"https://colab.research.google.com/assets/colab-badge.svg\" alt=\"Open In Colab\"/></a>"
      ]
    },
    {
      "cell_type": "code",
      "execution_count": null,
      "metadata": {
        "id": "cbISe3UHYAOR"
      },
      "outputs": [],
      "source": [
        "WORKDIR='/tf/data/MyDrive/tensorflow/power-port-targeting/' # end /\n",
        "MODEL='ssd_resnet50_v1_fpn_640x640_coco17_tpu-8' # needs to be same in pre-trained-models and models\n",
        "IMG=WORKDIR+'images/test/frame-321.jpg'# test image"
      ]
    },
    {
      "cell_type": "code",
      "execution_count": null,
      "metadata": {
        "id": "7L84Quj5fh0J"
      },
      "outputs": [],
      "source": [
        "!rm -rf /tf/models /tf/workspace\n",
        "!mkdir -p /tf/data\n",
        "from google.colab import drive\n",
        "import os\n",
        "drive.mount('/tf/data')"
      ]
    },
    {
      "cell_type": "code",
      "execution_count": null,
      "metadata": {
        "id": "AMZfv9sQXsZM"
      },
      "outputs": [],
      "source": [
        "with open('/model', 'w') as m:\n",
        "    m.write(MODEL)\n",
        "with open('/workdir', 'w') as w:\n",
        "    w.write(WORKDIR)"
      ]
    },
    {
      "cell_type": "markdown",
      "metadata": {
        "id": "L4l4ZvBDhiF0"
      },
      "source": [
        "Setup Workspace"
      ]
    },
    {
      "cell_type": "code",
      "execution_count": null,
      "metadata": {
        "id": "AYI-h-F0dCm2"
      },
      "outputs": [],
      "source": [
        "%%bash\n",
        "\n",
        "# install deps \n",
        "python --version\n",
        "pip install -U --pre tensorflow==\"2.*\"\n",
        "pip install tf_slim pycocotools"
      ]
    },
    {
      "cell_type": "code",
      "execution_count": null,
      "metadata": {
        "id": "6Lt9quS2W4JF"
      },
      "outputs": [],
      "source": [
        "%%bash\n",
        "\n",
        "# clear previous runs\n",
        "mkdir -p /tf/models/ /tf/workspace/\n",
        "\n",
        "# clone repos\n",
        "git clone --depth 1 https://github.com/tensorflow/models /tf/models\n",
        "git clone --depth 1 https://github.com/edurso/tfod-wkspc /tf/workspace"
      ]
    },
    {
      "cell_type": "code",
      "execution_count": null,
      "metadata": {
        "id": "NPrCzLRtW4bf"
      },
      "outputs": [],
      "source": [
        "%%bash\n",
        "\n",
        "# compile protobufs\n",
        "cd /tf/models/research/\n",
        "protoc object_detection/protos/*.proto --python_out=.\n",
        "\n",
        "# install object detector package\n",
        "cp /tf/models/research/object_detection/packages/tf2/setup.py . \n",
        "pip install ."
      ]
    },
    {
      "cell_type": "code",
      "execution_count": null,
      "metadata": {
        "id": "bOXdYVYeXBoA"
      },
      "outputs": [],
      "source": [
        "%%bash\n",
        "\n",
        "# test installation\n",
        "cd /tf/models/research/object_detection/builders/\n",
        "python model_builder_tf2_test.py"
      ]
    },
    {
      "cell_type": "code",
      "execution_count": null,
      "metadata": {
        "id": "ik5Y_mP9PZxI"
      },
      "outputs": [],
      "source": [
        "import tensorflow as tf\n",
        "print(tf.__version__)"
      ]
    },
    {
      "cell_type": "markdown",
      "metadata": {
        "id": "huq3tJmC7oQP"
      },
      "source": [
        "Now, go to the [model zoo](https://github.com/tensorflow/models/blob/master/research/object_detection/g3doc/tf2_detection_zoo.md) and copy a model to `pre-trained-models/`. \n",
        "\n",
        "Split the dataset and copy images to `images/test/` and `images/train/`.\n",
        "\n",
        "Add `label_map.pbtxt` to `annotations/`.\n",
        "\n",
        "Make a new directory in `models/` named similarly (or the same) to the model you downloaded from the zoo. Copy the `pipeline.config` file from the model you downloaded to this directory.\n",
        "\n",
        "Verify the colab runtime is configured for a GPU.\n",
        "\n",
        "Now update the `pipeline.config` in `models/` to refelect your dataset."
      ]
    },
    {
      "cell_type": "code",
      "execution_count": null,
      "metadata": {
        "id": "qiRKbm4kfj6t"
      },
      "outputs": [],
      "source": [
        "os.chdir(WORKDIR)\n",
        "\n",
        "# Generate TFRecord for Training Data\n",
        "!python /tf/workspace/scripts/preprocessing/generate-tfrecord.py \\\n",
        "    -x images/train \\\n",
        "    -l annotations/label_map.pbtxt \\\n",
        "    -o annotations/train.record\n",
        "\n",
        "# Generate TFRecord for Validation Data\n",
        "!python /tf/workspace/scripts/preprocessing/generate-tfrecord.py \\\n",
        "    -x images/test \\\n",
        "    -l annotations/label_map.pbtxt \\\n",
        "    -o annotations/test.record"
      ]
    },
    {
      "cell_type": "code",
      "execution_count": null,
      "metadata": {
        "id": "gLTld7ws_e5I"
      },
      "outputs": [],
      "source": [
        "os.chdir(WORKDIR)\n",
        "%load_ext tensorboard\n",
        "%tensorboard --logdir=models/ssd_resnet50_v1_fpn_640x640_coco17_tpu-8"
      ]
    },
    {
      "cell_type": "code",
      "execution_count": null,
      "metadata": {
        "id": "V9nHinNnAz1c"
      },
      "outputs": [],
      "source": [
        "os.chdir(WORKDIR)\n",
        "!python /tf/models/research/object_detection/model_main_tf2.py \\\n",
        "    --include masks \\\n",
        "    --model_dir=models/$(cat /model) \\\n",
        "    --pipeline_config_path=models/$(cat /model)/pipeline.config"
      ]
    },
    {
      "cell_type": "code",
      "execution_count": null,
      "metadata": {
        "id": "_-N7gYshBGr9"
      },
      "outputs": [],
      "source": [
        "os.chdir(WORKDIR)\n",
        "!python /tf/models/research/object_detection/exporter_main_v2.py \\\n",
        "    --input_type image_tensor \\\n",
        "    --pipeline_config_path ./models/$(cat /model)/pipeline.config \\\n",
        "    --trained_checkpoint_dir ./models/$(cat /model)/ \\\n",
        "    --output_directory ./exported-models/trained_model"
      ]
    },
    {
      "cell_type": "code",
      "execution_count": null,
      "metadata": {
        "id": "MNjZAxoyrBFN"
      },
      "outputs": [],
      "source": [
        "model_dir = WORKDIR+'exported-models/trained_model/saved_model'\n",
        "output_names = ['StatefulPartitionedCall']\n",
        "save_pb_model_path = model_dir+'/freeze_graph.pb'\n",
        "\n",
        "def convert_saved_model_to_pb(output_node_names, input_saved_model_dir, output_graph_dir):\n",
        "    from tensorflow.python.tools import freeze_graph\n",
        "\n",
        "    output_node_names = ','.join(output_node_names)\n",
        "\n",
        "    freeze_graph.freeze_graph(input_graph=None, input_saver=None,\n",
        "                              input_binary=None,\n",
        "                              input_checkpoint=None,\n",
        "                              output_node_names=output_node_names,\n",
        "                              restore_op_name=None,\n",
        "                              filename_tensor_name=None,\n",
        "                              output_graph=output_graph_dir,\n",
        "                              clear_devices=None,\n",
        "                              initializer_nodes=None,\n",
        "                              input_saved_model_dir=input_saved_model_dir)\n",
        "\n",
        "convert_saved_model_to_pb(output_names, model_dir, save_pb_model_path)"
      ]
    },
    {
      "cell_type": "code",
      "execution_count": null,
      "metadata": {
        "id": "e9FNHny-BgHD"
      },
      "outputs": [],
      "source": [
        "import cv2 as cv\n",
        "\n",
        "model=WORKDIR+'exported-models/trained_model/saved_model/freeze_graph.pb'\n",
        "labels=WORKDIR+'annotations/label_map.pbtxt'\n",
        "\n",
        "cvNet = cv.dnn.readNetFromTensorflow(model, labels)\n",
        "\n",
        "img = cv.imread(IMG)\n",
        "rows = img.shape[0]\n",
        "cols = img.shape[1]\n",
        "cvNet.setInput(cv.dnn.blobFromImage(img, size=(640, 640), swapRB=True, crop=False))\n",
        "cvOut = cvNet.forward()\n",
        "\n",
        "for detection in cvOut[0,0,:,:]:\n",
        "    score = float(detection[2])\n",
        "    if score > 0.3:\n",
        "        left = detection[3] * cols\n",
        "        top = detection[4] * rows\n",
        "        right = detection[5] * cols\n",
        "        bottom = detection[6] * rows\n",
        "        cv.rectangle(img, (int(left), int(top)), (int(right), int(bottom)), (23, 230, 210), thickness=2)\n",
        "\n",
        "cv.imshow('img', img)\n",
        "cv.waitKey()"
      ]
    }
  ],
  "metadata": {
    "accelerator": "GPU",
    "colab": {
      "authorship_tag": "ABX9TyNaGDmeycITz5xDWEIc8XsD",
      "collapsed_sections": [],
      "include_colab_link": true,
      "name": "tensorflow_object_detection.ipynb",
      "private_outputs": true,
      "provenance": []
    },
    "kernelspec": {
      "display_name": "Python 3",
      "name": "python3"
    },
    "language_info": {
      "name": "python"
    }
  },
  "nbformat": 4,
  "nbformat_minor": 0
}
