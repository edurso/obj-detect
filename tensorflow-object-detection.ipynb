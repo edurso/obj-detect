{
  "nbformat": 4,
  "nbformat_minor": 0,
  "metadata": {
    "colab": {
      "name": "tensorflow-object-detection.ipynb",
      "provenance": [],
      "authorship_tag": "ABX9TyOw6riO118X4H4tEjqxjqBo"
    },
    "kernelspec": {
      "name": "python3",
      "display_name": "Python 3"
    },
    "language_info": {
      "name": "python"
    }
  },
  "cells": [
    {
      "cell_type": "code",
      "execution_count": null,
      "metadata": {
        "id": "AYI-h-F0dCm2"
      },
      "outputs": [],
      "source": [
        ""
      ]
    }
  ]
}