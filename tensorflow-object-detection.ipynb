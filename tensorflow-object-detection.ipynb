{
  "nbformat": 4,
  "nbformat_minor": 0,
  "metadata": {
    "colab": {
      "name": "tensorflow-object-detection.ipynb",
      "provenance": [],
      "private_outputs": true,
      "authorship_tag": "ABX9TyMK11I/NlpVapF0iDXxJx+U",
      "include_colab_link": true
    },
    "kernelspec": {
      "name": "python3",
      "display_name": "Python 3"
    },
    "language_info": {
      "name": "python"
    },
    "accelerator": "GPU"
  },
  "cells": [
    {
      "cell_type": "markdown",
      "metadata": {
        "id": "view-in-github",
        "colab_type": "text"
      },
      "source": [
        "<a href=\"https://colab.research.google.com/github/edurso/tfod-wkspc/blob/master/tensorflow-object-detection.ipynb\" target=\"_parent\"><img src=\"https://colab.research.google.com/assets/colab-badge.svg\" alt=\"Open In Colab\"/></a>"
      ]
    },
    {
      "cell_type": "markdown",
      "source": [
        "Setup Workspace"
      ],
      "metadata": {
        "id": "L4l4ZvBDhiF0"
      }
    },
    {
      "cell_type": "code",
      "execution_count": null,
      "metadata": {
        "id": "AYI-h-F0dCm2"
      },
      "outputs": [],
      "source": [
        "%%bash\n",
        "\n",
        "# install deps \n",
        "python --version\n",
        "pip install -U --pre tensorflow==\"2.*\"\n",
        "pip install tf_slim pycocotools\n",
        "\n",
        "# clear previous runs\n",
        "rm -rf /tf/models/ /tf/workspace/\n",
        "mkdir /tf\n",
        "\n",
        "# clone repos\n",
        "git clone --depth 1 https://github.com/tensorflow/models /tf/models\n",
        "git clone --depth 1 https://github.com/edurso/tfod-wkspc /tf/workspace\n",
        "\n",
        "# compile protobufs\n",
        "cd /content/models/research/\n",
        "protoc object_detection/protos/*.proto --python_out=.\n",
        "\n",
        "# install object detector package\n",
        "cp object_detection/packages/tf2/setup.py . \n",
        "pip install .\n",
        "\n",
        "# test installation\n",
        "cd /content/models/research/object_detection/builders/\n",
        "python model_builder_tf2_test.py"
      ]
    },
    {
      "cell_type": "code",
      "source": [
        "from google.colab import drive\n",
        "drive.mount('/tf/data')"
      ],
      "metadata": {
        "id": "7L84Quj5fh0J"
      },
      "execution_count": null,
      "outputs": []
    },
    {
      "cell_type": "code",
      "source": [
        "%%bash\n",
        "\n",
        "# variables\n",
        "export MODEL_URL=\"http://download.tensorflow.org/models/object_detection/tf2/20210210/centernet_mobilenetv2fpn_512x512_coco17_od.tar.gz\"\n",
        "\n",
        "# constants\n",
        "export PRE_TR_MODEL_FILEPATH=\"/tf/data/MyDrive/tensorflow/power-port-targeting/pre-trained-models/model.tar.gz\"\n",
        "\n",
        "# download and extract model\n",
        "wget -O $PRE_TR_MODEL_FILEPATH $MODEL_URL\n",
        "tar -xvzf $PRE_TR_MODEL_FILEPATH\n",
        "rm -rf $PRE_TR_MODEL_FILEPATH\n",
        "\n",
        "# copy model to model directory"
      ],
      "metadata": {
        "id": "qiRKbm4kfj6t"
      },
      "execution_count": null,
      "outputs": []
    }
  ]
}