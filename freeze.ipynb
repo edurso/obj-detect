{
  "nbformat": 4,
  "nbformat_minor": 0,
  "metadata": {
    "colab": {
      "name": "freeze.ipynb",
      "provenance": [],
      "authorship_tag": "ABX9TyPRL6LQbaAbEuuNWRqV7w0X",
      "include_colab_link": true
    },
    "kernelspec": {
      "name": "python3",
      "display_name": "Python 3"
    },
    "language_info": {
      "name": "python"
    }
  },
  "cells": [
    {
      "cell_type": "markdown",
      "metadata": {
        "id": "view-in-github",
        "colab_type": "text"
      },
      "source": [
        "<a href=\"https://colab.research.google.com/github/edurso/obj-detect/blob/master/freeze.ipynb\" target=\"_parent\"><img src=\"https://colab.research.google.com/assets/colab-badge.svg\" alt=\"Open In Colab\"/></a>"
      ]
    },
    {
      "cell_type": "code",
      "execution_count": 1,
      "metadata": {
        "colab": {
          "base_uri": "https://localhost:8080/"
        },
        "id": "KjQw7AtN7De1",
        "outputId": "975992c8-8a60-4d1c-bbde-a5665087d52a"
      },
      "outputs": [
        {
          "output_type": "stream",
          "name": "stdout",
          "text": [
            "Drive already mounted at /content/workspace; to attempt to forcibly remount, call drive.mount(\"/content/workspace\", force_remount=True).\n",
            "2.8.0\n"
          ]
        }
      ],
      "source": [
        "workdir = '/content/workspace/MyDrive/tensorflow/power-port-targeting/'\n",
        "modeldir = workdir + 'exported-models/trained_model/'\n",
        "model = modeldir + 'saved_model'\n",
        "from google.colab import drive\n",
        "import os\n",
        "import tensorflow as tf\n",
        "!mkdir -p /content/workspace\n",
        "drive.mount('/content/workspace')\n",
        "print(tf.__version__)"
      ]
    },
    {
      "cell_type": "code",
      "source": [
        "from tensorflow.python.framework.convert_to_constants import convert_variables_to_constants_v2\n",
        "from tensorflow.python.tools import freeze_graph\n",
        "\n",
        "def freeze(model, dir, name):\n",
        "    m = tf.saved_model.load(model)\n",
        "\n",
        "    tfm = tf.function(lambda x: m(x))                                               \n",
        "    tfm = tfm.get_concrete_function(\n",
        "        tf.TensorSpec(\n",
        "            m.signatures['serving_default'].inputs[0].shape.as_list(), \n",
        "            m.signatures['serving_default'].inputs[0].dtype.name\n",
        "        )\n",
        "    )   \n",
        "    frozen_func = convert_variables_to_constants_v2(tfm)                                                                                                                              \n",
        "    tf.io.write_graph(\n",
        "        graph_or_graph_def=frozen_func.graph,\n",
        "        logdir=dir, \n",
        "        name=name, \n",
        "        as_text=False\n",
        "    )\n",
        "    "
      ],
      "metadata": {
        "id": "XYo-20EM-4_e"
      },
      "execution_count": 2,
      "outputs": []
    },
    {
      "cell_type": "code",
      "source": [
        "freeze(model, modeldir, 'frozen_graph.pb')"
      ],
      "metadata": {
        "id": "0O_uf7Ld_rQ1"
      },
      "execution_count": 3,
      "outputs": []
    }
  ]
}